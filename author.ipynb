{
 "cells": [
  {
   "cell_type": "markdown",
   "id": "19e5ef26-0049-49ef-a1f1-dffbd57878bf",
   "metadata": {},
   "source": [
    "# About the authors"
   ]
  },
  {
   "cell_type": "markdown",
   "id": "9a456e77-2f41-4ccb-b8dc-a0aea5d65f8b",
   "metadata": {},
   "source": [
    "1. [Mahardika Jalu Pradana](https://www.linkedin.com/in/mahardika-pradana-856149167/)\n",
    "2. [Suwignyo Prasetyo](https://www.linkedin.com/in/tyo-suwignyo/)\n",
    "3. [Eko Supriyadi](https://scholar.google.co.id/citations?user=u-w_sIoAAAAJ&hl=en)"
   ]
  },
  {
   "cell_type": "code",
   "execution_count": null,
   "id": "cf8c55f5-9c3d-477e-b733-d6169bafe8d0",
   "metadata": {},
   "outputs": [],
   "source": []
  }
 ],
 "metadata": {
  "kernelspec": {
   "display_name": "Python (OFS)",
   "language": "python",
   "name": "ofs"
  },
  "language_info": {
   "codemirror_mode": {
    "name": "ipython",
    "version": 3
   },
   "file_extension": ".py",
   "mimetype": "text/x-python",
   "name": "python",
   "nbconvert_exporter": "python",
   "pygments_lexer": "ipython3",
   "version": "3.13.3"
  }
 },
 "nbformat": 4,
 "nbformat_minor": 5
}
