{
 "cells": [
  {
   "cell_type": "markdown",
   "id": "e00da5fa-8114-4994-bef1-f8b861611cce",
   "metadata": {},
   "source": [
    "# Multidimensional data processing and visualization\n",
    "\n",
    "---\n",
    "\n",
    "### Deskripsi Mata Pelatihan\n",
    "Mata pelatihan ini fokus pada pembuatan produk klimatologis dari data meteorologi maritim menggunakan Python. Peserta akan belajar teknik pemrosesan data multidimensi berdasarkan konsep statistika sederhana serta visualisasi secara spasial dan grafik klimatologis pada wilayah pelayanan provinsi.\n",
    "\n",
    "---\n",
    "\n",
    "### Kompetensi\n",
    "Peserta pelatihan diharapkan dapat:\n",
    "1. Memahami struktur data multidimensi (NetCDF) dan cara membacanya menggunakan Xarray.\n",
    "2. Melakukan pemrosesan data meteorologi maritim berdasarkan konsep statistika sederhana.\n",
    "3. Memvisualisasikan data meteorologi maritim pada peta spasial menggunakan Cartopy.\n",
    "4. Mengintegrasikan data shapefile (batas wilayah pelayanan provinsi) menggunakan geopandas untuk analisis dan visualisasi data.\n",
    "5. Membuat produk klimatologis seperti peta spasial, grafik time series, diagram windrose berdasarkan wilayah pelayanan provinsi yang informatif dan mudah untuk dipahami.\n",
    "\n",
    "\n",
    "---\n",
    "\n",
    "### Idikator keberhasilan\n",
    "1. Peserta dapat menjelaskan struktur data multidimensi dan komponen-komponennya (dimensi, variabel, atribut).\n",
    "2. Peserta dapat membaca dan memproses data multidimensi menggunakan Xarray.\n",
    "3. Peserta dapat melakukan operasi dasar pada data multidimensi (seleksi data, slicing, dan agregasi).\n",
    "4. Peserta dapat menghitung statistik deskriptif (mean, median, standar deviasi) dari data meteorologi maritim.\n",
    "5. Peserta dapat memvisualisasikan data meteorologi maritim pada peta menggunakan Cartopy.\n",
    "6. Peserta dapat menambahkan layer peta (coastline, gridlines, batas wilayah) untuk visualisasi yang lebih informatif.\n",
    "7. Peserta dapat membaca dan memproses data shapefile menggunakan Geopandas.\n",
    "8. Peserta dapat mengintegrasikan data shapefile (batas wilayah pelayanan  provinsi) dengan data meteorologi maritim untuk analisis spasial.\n",
    "9. Peserta dapat membuat peta spasial klimatologis (bulanan/tahunan) dari data meteorologi maritim.\n",
    "10. Peserta dapat membuat grafik klimatologis (wind rose, wave rose) untuk analisis arah dan intensitas.\n",
    "11. Peserta dapat mengekspor hasil analisis dan visualisasi ke format file (PDF, PNG, CSV).\n",
    "\n",
    "---"
   ]
  },
  {
   "cell_type": "code",
   "execution_count": null,
   "id": "c967cfe6-fdaa-499d-83e9-a59356903ff7",
   "metadata": {},
   "outputs": [],
   "source": []
  }
 ],
 "metadata": {
  "kernelspec": {
   "display_name": "jupyterbook",
   "language": "python",
   "name": "python3"
  },
  "language_info": {
   "codemirror_mode": {
    "name": "ipython",
    "version": 3
   },
   "file_extension": ".py",
   "mimetype": "text/x-python",
   "name": "python",
   "nbconvert_exporter": "python",
   "pygments_lexer": "ipython3",
   "version": "3.13.2"
  }
 },
 "nbformat": 4,
 "nbformat_minor": 5
}
