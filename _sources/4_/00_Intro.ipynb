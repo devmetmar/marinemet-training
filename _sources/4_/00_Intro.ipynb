{
 "cells": [
  {
   "cell_type": "markdown",
   "id": "57de7a83-a708-4235-95c9-8df9985d120b",
   "metadata": {},
   "source": [
    "# Pengolahan data MAWS\n",
    "\n",
    "---\n",
    "\n",
    "### Deskripsi Mata Pelatihan\n",
    "Mata pelatihan ini fokus pada pembuatan produk klimatologis dari data pengamatan meteorologi maritim menggunakan Python. Peserta akan belajar teknik akses data dan mengolahnya berdasarkan konsep statistika sederhana.\n",
    "\n",
    "---\n",
    "\n",
    "### Kompetensi\n",
    "Peserta pelatihan diharapkan dapat:\n",
    "1. Mampu mengakses data pengamatan meteorologi maritim.\n",
    "2. Mampu melakukan pemrosesan data meteorologi maritim berdasarkan konsep statistika sederhana.\n",
    "3. Mampu membuat grafik garis, grafik batang, pie chart, dan windrose.\n",
    "\n",
    "---\n",
    "\n",
    "### Idikator keberhasilan\n",
    "1. Peserta dapat mengakses dapat mengakses data pengamatan meteorologi maritim.\n",
    "2. Peserta dapat melakukan perhitungan statistik sederhana menggunakan data pengamatan meteorologi maritim.\n",
    "3. Peserta mampu menampilkan grafik-grafik hasil olahan data meteorologi maritim\n",
    "\n",
    "---"
   ]
  },
  {
   "cell_type": "code",
   "execution_count": null,
   "id": "1eb12356-eadc-499d-8ede-19d7748a54d3",
   "metadata": {},
   "outputs": [],
   "source": []
  }
 ],
 "metadata": {
  "kernelspec": {
   "display_name": "Python 3 (ipykernel)",
   "language": "python",
   "name": "python3"
  },
  "language_info": {
   "codemirror_mode": {
    "name": "ipython",
    "version": 3
   },
   "file_extension": ".py",
   "mimetype": "text/x-python",
   "name": "python",
   "nbconvert_exporter": "python",
   "pygments_lexer": "ipython3",
   "version": "3.13.2"
  }
 },
 "nbformat": 4,
 "nbformat_minor": 5
}
