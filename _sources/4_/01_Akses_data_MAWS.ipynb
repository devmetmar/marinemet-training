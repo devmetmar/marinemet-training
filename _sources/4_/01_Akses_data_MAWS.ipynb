{
 "cells": [
  {
   "cell_type": "markdown",
   "id": "b9e0ad46-c356-434a-98d0-60e2251ed966",
   "metadata": {},
   "source": [
    "# Pengolahan data MAWS"
   ]
  },
  {
   "cell_type": "markdown",
   "id": "c7ff3fdf-8da4-455d-a11a-f586faead84a",
   "metadata": {
    "tags": []
   },
   "source": [
    "# Impor pustaka python yang dibutuhkan <a id=\"impor-modul\"></a>"
   ]
  },
  {
   "cell_type": "code",
   "execution_count": 1,
   "id": "52d33885-b5d3-453d-9aef-aabb40419611",
   "metadata": {
    "tags": []
   },
   "outputs": [],
   "source": [
    "import numpy as np\n",
    "import sys\n",
    "from diklatmar import loader"
   ]
  },
  {
   "cell_type": "markdown",
   "id": "3c5062db-4d6d-4916-bd50-8e4a230abf0e",
   "metadata": {
    "tags": []
   },
   "source": [
    "# Lokasi Data"
   ]
  },
  {
   "cell_type": "markdown",
   "id": "d66f5dc7-41d6-4ac5-b8c0-bcb7e8b71419",
   "metadata": {},
   "source": [
    "## Lokasi Data Diklat"
   ]
  },
  {
   "cell_type": "code",
   "execution_count": 2,
   "id": "8170f2da-732c-4b5a-8217-5cc11dcdfd57",
   "metadata": {
    "tags": []
   },
   "outputs": [],
   "source": [
    "dir_data = \"/data/local/marine-training/data/MATPEL_03/MAWS_BMKG\""
   ]
  },
  {
   "cell_type": "markdown",
   "id": "75821dd5-1bea-4876-9027-c7b2abc834a1",
   "metadata": {},
   "source": [
    "## Lokasi Meta file"
   ]
  },
  {
   "cell_type": "markdown",
   "id": "71098b9b-fff1-4382-909c-6aa8acbef4c0",
   "metadata": {},
   "source": [
    "### Metadata AWS Existing"
   ]
  },
  {
   "cell_type": "code",
   "execution_count": 3,
   "id": "cf65a405-4584-4f01-93e0-c746a91da716",
   "metadata": {
    "tags": []
   },
   "outputs": [],
   "source": [
    "fnme_meta1 = \"metadata_existing.csv\""
   ]
  },
  {
   "cell_type": "markdown",
   "id": "c77bb2fa-97cf-49b0-81a6-29daeca483fc",
   "metadata": {},
   "source": [
    "#### Buka metadata 1"
   ]
  },
  {
   "cell_type": "code",
   "execution_count": 4,
   "id": "b06e4b1e-d402-4f1d-951b-e8ddff34d796",
   "metadata": {
    "tags": []
   },
   "outputs": [
    {
     "name": "stdout",
     "output_type": "stream",
     "text": [
      "2025-05-05 03:05:49 :\tI\tLoaded metadata from metadata_existing.csv\n"
     ]
    }
   ],
   "source": [
    "data = loader(dir_data)\n",
    "df_meta1 = data.meta(fnme_meta1)"
   ]
  },
  {
   "cell_type": "code",
   "execution_count": 5,
   "id": "a1653987-6a07-4ade-920f-487a711a3385",
   "metadata": {
    "tags": []
   },
   "outputs": [
    {
     "name": "stdout",
     "output_type": "stream",
     "text": [
      "                                      station   latitude   longitude\n",
      "id                                                                  \n",
      "1000000009           AWS_Maritim__Ujung_Kulon  -6.815362  105.482341\n",
      "3000000001                 AWS_Maritim_Bungus  -1.029570  100.395900\n",
      "3000000002                AWS_Maritim_Kendari  -3.978255  122.597562\n",
      "3000000004              AWS_Maritim_Bakauheni  -5.869730  105.755494\n",
      "3000000006          AWS_Maritim_Tanjung_Perak  -7.196366  112.741795\n",
      "3000000007    AWS_Maritim_Banyuwangi_Ketapang  -8.142775  114.401037\n",
      "3000000008                AWS_Maritim_Maumere  -8.621250  122.219722\n",
      "3000000009          AWS_Maritim_Tanjung_Priok  -6.121360  106.838106\n",
      "3000000010                 AWS_Maritim_Bitung   1.458697  125.217993\n",
      "3000000011              AWS_Maritim_Pontianak  -0.020613  109.337349\n",
      "3000000012          AWS_Maritim_Lembar_Lombok  -8.730206  116.073726\n",
      "3000000014               AWS_Maritim_Semarang  -6.943510  110.431310\n",
      "3000000015                AWS_Maritim_Paotere  -5.109306  119.419730\n",
      "3000000016        AWS_Maritim_Dermaga_7_Merak  -5.922931  105.991811\n",
      "3000000017                AWS_Maritim_Cilacap  -7.724845  109.023000\n",
      "3000000018             AWS_Maritim_Kep_Seribu  -5.656575  106.574023\n",
      "3000000020       AWS_Maritim_Kota_Baru_Kalsel  -3.271340  116.180070\n",
      "3000000022                AWS_Maritim_Belinyu  -1.629848  105.733411\n",
      "3000000023  AWS_Maritim_Tanjung_Balai_Karimun   0.988130  103.435320\n",
      "3000000024               AWS_Maritim_Pemenang  -8.393633  116.099609\n",
      "3000000025                AWS_Maritim_Bau_Bau  -5.457129  122.615760\n",
      "3000000026     AWS_Maritim_Tigaras_Danau_Toba   2.798000   98.789083\n",
      "3000000027               AWS_Maritim_Ciwandan  -6.014820  105.951580\n",
      "3000000028                  AWS_Maritim_Ambon  -3.696242  128.173943\n",
      "3000000029         AWS_Maritim_Dok_IIJayapura  -2.535071  140.718554\n",
      "3000000030                  AWS_Maritim_Batam   1.164722  103.996670\n",
      "3000000031            AWS_Maritim_Probolinggo  -7.726563  113.225716\n",
      "3000000032                AWS_Maritim_Nunukan   4.145324  117.665538\n",
      "3000000033             AWS_Maritim_Balikpapan  -1.162981  116.780232\n",
      "3000000034                  AWS_Maritim_Benoa  -8.747114  115.208687\n",
      "3000000035                 AWS_Maritim_Sorong  -0.888814  131.266570\n",
      "3000000036                 AWS_Maritim_Kupang -10.188707  123.527018\n",
      "3000000037                AWS_Maritim_Ternate   0.813629  127.388821\n",
      "3000000038                 AWS_Maritim_Sabang   5.889736   95.319380\n",
      "3000000046              AWS_Maritim_Gilimanuk  -8.161093  114.437265\n",
      "3000000047              AWS_Maritim_Padangbai  -8.533838  115.509487\n"
     ]
    }
   ],
   "source": [
    "# Menampilkan tabel metadata\n",
    "print(df_meta1)"
   ]
  },
  {
   "cell_type": "markdown",
   "id": "217b8f9a-f056-4ac0-ab04-4efe5407d839",
   "metadata": {},
   "source": [
    "### Metadata AWS MMS 1"
   ]
  },
  {
   "cell_type": "code",
   "execution_count": 6,
   "id": "489c0a57-390d-4b77-95a7-8006bef00e46",
   "metadata": {
    "tags": []
   },
   "outputs": [],
   "source": [
    "fnme_meta2 = \"metadata_mms1.csv\""
   ]
  },
  {
   "cell_type": "markdown",
   "id": "501da899-dbf1-4ba3-9972-45a4d2a49d1e",
   "metadata": {},
   "source": [
    "#### Buka metadata 2"
   ]
  },
  {
   "cell_type": "code",
   "execution_count": 7,
   "id": "617fb96f-698e-45c6-af77-711b98893615",
   "metadata": {
    "tags": []
   },
   "outputs": [
    {
     "name": "stdout",
     "output_type": "stream",
     "text": [
      "2025-05-05 03:05:49 :\tI\tLoaded metadata from metadata_mms1.csv\n"
     ]
    }
   ],
   "source": [
    "df_meta2 = data.meta(fnme_meta2)"
   ]
  },
  {
   "cell_type": "code",
   "execution_count": 8,
   "id": "8f945be6-732f-4574-a8d6-66092cbfe857",
   "metadata": {
    "tags": []
   },
   "outputs": [
    {
     "name": "stdout",
     "output_type": "stream",
     "text": [
      "                                station   latitude   longitude\n",
      "id                                                            \n",
      "4000000001            AWS_Maritim_BAJOE  -4.543464  120.405456\n",
      "4000000002            AWS_Maritim_JAMBI  -0.803240  103.483000\n",
      "4000000027    AWS_Maritim_KUALA_TANJUNG   3.380154   99.469821\n",
      "4000000005      AWS_Maritim_LABUAN_BAJO  -8.460550  119.919900\n",
      "4000000007           AWS_Maritim_MALANG  -8.434172  112.683796\n",
      "4000000034           AWS_Maritim_NATUNA   3.892710  108.383400\n",
      "4000000010        AWS_Maritim_PALEMBANG  -2.217510  104.488350\n",
      "4000000011             AWS_Maritim_PALU  -0.711692  119.857228\n",
      "4000000012    AWS_Maritim_PANGKALAN_BUN  -2.739063  111.728834\n",
      "4000000013          AWS_Maritim_PANJANG  -5.469986  105.319980\n",
      "4000000016           AWS_Maritim_SADENG  -8.191283  110.799452\n",
      "4000000017        AWS_Maritim_SAMARINDA  -0.570467  117.206440\n",
      "4000000020       AWS_Maritim_ULEE_LHEUE   5.566502   95.294757\n",
      "4000000021           AWS_Maritim_MANADO   1.497902  124.839557\n",
      "4000000023           AWS_Maritim_TIDORE   0.680083  127.455880\n",
      "4000000024          AWS_Maritim_MERAUKE  -8.478508  140.380499\n",
      "4000000025            AWS_Maritim_TEGAL  -6.848089  109.127352\n",
      "4000000026          AWS_Maritim_BELAWAN   3.785223   98.700572\n",
      "4000000028             AWS_Maritim_TUAL  -5.616902  132.741513\n",
      "4000000029      AWS_Maritim_KARIMUNJAWA  -5.878397  110.429594\n",
      "4000000031  AWS_Maritim_TANGKIANG_LUWUK  -1.210097  122.629740\n",
      "4000000033    AWS_Maritim_BELANG_BELANG  -2.473550  119.131067\n",
      "4000000036       AWS_Maritim_GARONGKONG  -4.366579  119.612001\n",
      "4000000037             AWS_Maritim_ROTE -10.722342  123.043262\n",
      "4000000038         AWS_Maritim_TOROBULU  -4.445947  122.456296\n",
      "4000000039             AWS_Maritim_BIAK  -1.185679  136.076831\n",
      "4000000040             AWS_Maritim_BIRA  -5.606003  120.466757\n",
      "4000000041          AWS_Maritim_PACIRAN  -6.865680  112.367521\n",
      "4000000042         AWS_Maritim_SAUMLAKI  -7.981906  131.290586\n",
      "4000000043  AWS_Maritim_KAYANGAN_LOMBOK  -8.485700  116.673984\n",
      "4000000044            AWS_Maritim_AMBON  -3.790782  128.101176\n"
     ]
    }
   ],
   "source": [
    "# Menampilkan tabel metadata\n",
    "print(df_meta2)"
   ]
  },
  {
   "cell_type": "markdown",
   "id": "9191ef60-376c-44c0-9bfa-3bbcedc17cb4",
   "metadata": {},
   "source": [
    "### Plot lokasi MAWS"
   ]
  },
  {
   "cell_type": "markdown",
   "id": "8b5b97d2-6c26-406b-a1d1-91614d18e663",
   "metadata": {},
   "source": [
    "#### Load lokasi MAWS berdasarkan metadata"
   ]
  },
  {
   "cell_type": "code",
   "execution_count": 9,
   "id": "14dc009f-1bb2-471f-989b-b5c886023b3b",
   "metadata": {
    "tags": []
   },
   "outputs": [],
   "source": [
    "lons1 = df_meta1[\"longitude\"].values\n",
    "lats1 = df_meta1[\"latitude\"].values\n",
    "lons2 = df_meta2[\"longitude\"].values\n",
    "lats2 = df_meta2[\"latitude\"].values\n",
    "\n",
    "locs1 = np.column_stack((lons1, lats1))\n",
    "locs2 = np.column_stack((lons2, lats2))\n",
    "\n",
    "imdir = \"./imgs\"\n",
    "exts = [95, 135, -10, 10]\n",
    "data_lons = [100, 105, 110, 115, 120]\n",
    "data_lats = [-5, -5, -5, -5, -5]\n",
    "data_points = np.column_stack((data_lons, data_lats))"
   ]
  },
  {
   "cell_type": "markdown",
   "id": "ee62b525-4f03-4651-8d40-d3240b6688a3",
   "metadata": {},
   "source": [
    "#### Plot MAWS"
   ]
  },
  {
   "cell_type": "code",
   "execution_count": 10,
   "id": "6d4362cf-ad0c-4812-86e7-d08be11adccf",
   "metadata": {
    "tags": []
   },
   "outputs": [
    {
     "name": "stdout",
     "output_type": "stream",
     "text": [
      "2025-05-05 03:05:50 :\tI\tUsing default extents = [90, 145, -15, 15]\n",
      "2025-05-05 03:05:50 :\tI\tCreating plot, please kindly wait...\n"
     ]
    },
    {
     "data": {
      "image/png": "[encoded data removed]",
      "text/plain": [
       "<Figure size 984.252x536.865 with 1 Axes>"
      ]
     },
     "metadata": {},
     "output_type": "display_data"
    }
   ],
   "source": [
    "from diklatmar import plotter\n",
    "\n",
    "maws = plotter(img_dir=imdir)\n",
    "maws.plot_aws_location(awslocs1=locs1, awslocs2=locs2)\n",
    "# maws.plot_aws_location()"
   ]
  },
  {
   "cell_type": "markdown",
   "id": "bf8e9581-5354-4a56-9a63-fb27ca48e0c2",
   "metadata": {},
   "source": [
    "#### !!! Pertanyaan 1 !!!\n",
    "\n",
    "Coba buat plot berisi lokasi MAWS disekitar wilayah kerja anda"
   ]
  },
  {
   "cell_type": "code",
   "execution_count": 11,
   "id": "3b827afe-cb84-43b2-99e2-b5c9c134e72a",
   "metadata": {
    "tags": []
   },
   "outputs": [],
   "source": [
    "# Write your code here\n",
    "\n",
    "\n"
   ]
  },
  {
   "cell_type": "markdown",
   "id": "a9cf7389-55c7-4afa-b2cd-11ee7fad2314",
   "metadata": {},
   "source": [
    "### Catatan !!!\n",
    "\n",
    "Beberapa data MAWS tidak tersedia secara lengkap untuk periode 2023–2024."
   ]
  },
  {
   "cell_type": "markdown",
   "id": "4b8fe7f3-f255-4dd3-8a8b-5ea4c2062cea",
   "metadata": {},
   "source": [
    "# Akses Data\n",
    "\n",
    "Data observasi yang didapatkan dari MAWS disimpan dalam file dengan format `.parquet`. Format data ini dipilih karena efisiensi dalam penyimpanan dan pengambilan data. Selain itu, format ini menyediakan skema kompresi dan penyandian berkinerja tinggi untuk menangani data yang kompleks dalam jumlah besar dan didukung oleh banyak bahasa pemrograman dan alat analisis.\n",
    "\n",
    "Untuk memuat atau membaca data, kita akan memerlukan pustaka python `pandas`. Pada bahasan berikut akan diberikan contoh mengakses data secara manual maupun dengan menggunakan modul yang telah disiapkan."
   ]
  },
  {
   "cell_type": "markdown",
   "id": "a73a5061-c7e6-455e-a43a-9808e46755f5",
   "metadata": {},
   "source": [
    "## Contoh akses data"
   ]
  },
  {
   "cell_type": "markdown",
   "id": "5fb138f4-c879-4887-a09a-8221026dcdf8",
   "metadata": {},
   "source": [
    "### Akses data secara manual"
   ]
  },
  {
   "cell_type": "markdown",
   "id": "b40d53c2-1a9c-4386-85a6-216f3e0223a3",
   "metadata": {},
   "source": [
    "#### Definisikan lokasi/path file"
   ]
  },
  {
   "cell_type": "code",
   "execution_count": 12,
   "id": "684e8d35-2265-401a-8d08-ec7223b8b7cb",
   "metadata": {
    "tags": []
   },
   "outputs": [],
   "source": [
    "file_path = \"/data/local/marine-training/data/MATPEL_03/MAWS_BMKG/1000000009-AWS_Maritim__Ujung_Kulon/Year=2024/Month=12/23.parquet\"\n",
    "\n",
    "'''\n",
    "Pada pelatihan ini, file disusun berdasarkan tahun, bulan, dan tanggal. \n",
    "Berikut merupakan contoh untuk mengakses satu tanggal (23) pada tahun 2024 bulan 12 untuk AWS_Maritim__Ujung_Kulon\n",
    "''';"
   ]
  },
  {
   "cell_type": "markdown",
   "id": "381eb6a4-d558-45b9-97ed-0843312955d7",
   "metadata": {},
   "source": [
    "#### Load data menggunakan pustaka Pandas"
   ]
  },
  {
   "cell_type": "code",
   "execution_count": 13,
   "id": "545facbb-b1cf-43bb-976d-a2f310b16420",
   "metadata": {
    "tags": []
   },
   "outputs": [],
   "source": [
    "import pandas as pd\n",
    "import matplotlib.pyplot as plt\n",
    "%matplotlib inline"
   ]
  },
  {
   "cell_type": "code",
   "execution_count": 14,
   "id": "d6696196-ac66-442c-a330-4ddd8846ef29",
   "metadata": {
    "tags": []
   },
   "outputs": [
    {
     "data": {
      "text/html": [
       "<div>\n",
       "<style scoped>\n",
       "    .dataframe tbody tr th:only-of-type {\n",
       "        vertical-align: middle;\n",
       "    }\n",
       "\n",
       "    .dataframe tbody tr th {\n",
       "        vertical-align: top;\n",
       "    }\n",
       "\n",
       "    .dataframe thead th {\n",
       "        text-align: right;\n",
       "    }\n",
       "</style>\n",
       "<table border=\"1\" class=\"dataframe\">\n",
       "  <thead>\n",
       "    <tr style=\"text-align: right;\">\n",
       "      <th></th>\n",
       "      <th>windspeed</th>\n",
       "      <th>winddir</th>\n",
       "      <th>temp</th>\n",
       "      <th>rh</th>\n",
       "      <th>pressure</th>\n",
       "      <th>rain</th>\n",
       "      <th>solrad</th>\n",
       "      <th>netrad</th>\n",
       "      <th>watertemp</th>\n",
       "      <th>waterlevel</th>\n",
       "      <th>ta_min</th>\n",
       "      <th>ta_max</th>\n",
       "      <th>pancilevel</th>\n",
       "      <th>pancitemp</th>\n",
       "    </tr>\n",
       "    <tr>\n",
       "      <th>time</th>\n",
       "      <th></th>\n",
       "      <th></th>\n",
       "      <th></th>\n",
       "      <th></th>\n",
       "      <th></th>\n",
       "      <th></th>\n",
       "      <th></th>\n",
       "      <th></th>\n",
       "      <th></th>\n",
       "      <th></th>\n",
       "      <th></th>\n",
       "      <th></th>\n",
       "      <th></th>\n",
       "      <th></th>\n",
       "    </tr>\n",
       "  </thead>\n",
       "  <tbody>\n",
       "    <tr>\n",
       "      <th>2024-12-23 02:57:00</th>\n",
       "      <td>4.7</td>\n",
       "      <td>17.0</td>\n",
       "      <td>26.4</td>\n",
       "      <td>91.5</td>\n",
       "      <td>1010.3</td>\n",
       "      <td>0.0</td>\n",
       "      <td>0.0</td>\n",
       "      <td>0.0</td>\n",
       "      <td>0.0</td>\n",
       "      <td>0.0</td>\n",
       "      <td>0.0</td>\n",
       "      <td>0.0</td>\n",
       "      <td>0.0</td>\n",
       "      <td>0.0</td>\n",
       "    </tr>\n",
       "    <tr>\n",
       "      <th>2024-12-23 02:58:00</th>\n",
       "      <td>4.7</td>\n",
       "      <td>17.0</td>\n",
       "      <td>26.5</td>\n",
       "      <td>92.1</td>\n",
       "      <td>1010.4</td>\n",
       "      <td>0.0</td>\n",
       "      <td>0.0</td>\n",
       "      <td>0.0</td>\n",
       "      <td>0.0</td>\n",
       "      <td>0.0</td>\n",
       "      <td>0.0</td>\n",
       "      <td>0.0</td>\n",
       "      <td>0.0</td>\n",
       "      <td>0.0</td>\n",
       "    </tr>\n",
       "    <tr>\n",
       "      <th>2024-12-23 02:59:00</th>\n",
       "      <td>4.8</td>\n",
       "      <td>16.0</td>\n",
       "      <td>26.5</td>\n",
       "      <td>91.6</td>\n",
       "      <td>1010.4</td>\n",
       "      <td>0.0</td>\n",
       "      <td>0.0</td>\n",
       "      <td>0.0</td>\n",
       "      <td>0.0</td>\n",
       "      <td>0.0</td>\n",
       "      <td>0.0</td>\n",
       "      <td>0.0</td>\n",
       "      <td>0.0</td>\n",
       "      <td>0.0</td>\n",
       "    </tr>\n",
       "    <tr>\n",
       "      <th>2024-12-23 03:00:00</th>\n",
       "      <td>5.2</td>\n",
       "      <td>15.0</td>\n",
       "      <td>26.6</td>\n",
       "      <td>91.7</td>\n",
       "      <td>1010.4</td>\n",
       "      <td>0.0</td>\n",
       "      <td>0.0</td>\n",
       "      <td>0.0</td>\n",
       "      <td>0.0</td>\n",
       "      <td>0.0</td>\n",
       "      <td>0.0</td>\n",
       "      <td>0.0</td>\n",
       "      <td>0.0</td>\n",
       "      <td>0.0</td>\n",
       "    </tr>\n",
       "    <tr>\n",
       "      <th>2024-12-23 03:01:00</th>\n",
       "      <td>4.8</td>\n",
       "      <td>16.0</td>\n",
       "      <td>26.6</td>\n",
       "      <td>91.1</td>\n",
       "      <td>1010.4</td>\n",
       "      <td>0.0</td>\n",
       "      <td>0.0</td>\n",
       "      <td>0.0</td>\n",
       "      <td>0.0</td>\n",
       "      <td>0.0</td>\n",
       "      <td>0.0</td>\n",
       "      <td>0.0</td>\n",
       "      <td>0.0</td>\n",
       "      <td>0.0</td>\n",
       "    </tr>\n",
       "    <tr>\n",
       "      <th>...</th>\n",
       "      <td>...</td>\n",
       "      <td>...</td>\n",
       "      <td>...</td>\n",
       "      <td>...</td>\n",
       "      <td>...</td>\n",
       "      <td>...</td>\n",
       "      <td>...</td>\n",
       "      <td>...</td>\n",
       "      <td>...</td>\n",
       "      <td>...</td>\n",
       "      <td>...</td>\n",
       "      <td>...</td>\n",
       "      <td>...</td>\n",
       "      <td>...</td>\n",
       "    </tr>\n",
       "    <tr>\n",
       "      <th>2024-12-23 17:30:00</th>\n",
       "      <td>5.1</td>\n",
       "      <td>13.0</td>\n",
       "      <td>26.8</td>\n",
       "      <td>92.7</td>\n",
       "      <td>1009.1</td>\n",
       "      <td>0.0</td>\n",
       "      <td>0.0</td>\n",
       "      <td>0.0</td>\n",
       "      <td>0.0</td>\n",
       "      <td>0.0</td>\n",
       "      <td>0.0</td>\n",
       "      <td>0.0</td>\n",
       "      <td>0.0</td>\n",
       "      <td>0.0</td>\n",
       "    </tr>\n",
       "    <tr>\n",
       "      <th>2024-12-23 17:31:00</th>\n",
       "      <td>4.4</td>\n",
       "      <td>11.0</td>\n",
       "      <td>26.8</td>\n",
       "      <td>92.6</td>\n",
       "      <td>1009.1</td>\n",
       "      <td>0.0</td>\n",
       "      <td>0.0</td>\n",
       "      <td>0.0</td>\n",
       "      <td>0.0</td>\n",
       "      <td>0.0</td>\n",
       "      <td>0.0</td>\n",
       "      <td>0.0</td>\n",
       "      <td>0.0</td>\n",
       "      <td>0.0</td>\n",
       "    </tr>\n",
       "    <tr>\n",
       "      <th>2024-12-23 17:32:00</th>\n",
       "      <td>4.9</td>\n",
       "      <td>11.0</td>\n",
       "      <td>26.9</td>\n",
       "      <td>92.6</td>\n",
       "      <td>1009.1</td>\n",
       "      <td>0.0</td>\n",
       "      <td>0.0</td>\n",
       "      <td>0.0</td>\n",
       "      <td>0.0</td>\n",
       "      <td>0.0</td>\n",
       "      <td>0.0</td>\n",
       "      <td>0.0</td>\n",
       "      <td>0.0</td>\n",
       "      <td>0.0</td>\n",
       "    </tr>\n",
       "    <tr>\n",
       "      <th>2024-12-23 17:33:00</th>\n",
       "      <td>5.0</td>\n",
       "      <td>12.0</td>\n",
       "      <td>26.9</td>\n",
       "      <td>92.6</td>\n",
       "      <td>1009.0</td>\n",
       "      <td>0.0</td>\n",
       "      <td>0.0</td>\n",
       "      <td>0.0</td>\n",
       "      <td>0.0</td>\n",
       "      <td>0.0</td>\n",
       "      <td>0.0</td>\n",
       "      <td>0.0</td>\n",
       "      <td>0.0</td>\n",
       "      <td>0.0</td>\n",
       "    </tr>\n",
       "    <tr>\n",
       "      <th>2024-12-23 17:34:00</th>\n",
       "      <td>4.1</td>\n",
       "      <td>15.0</td>\n",
       "      <td>26.9</td>\n",
       "      <td>92.8</td>\n",
       "      <td>1009.1</td>\n",
       "      <td>0.0</td>\n",
       "      <td>0.0</td>\n",
       "      <td>0.0</td>\n",
       "      <td>0.0</td>\n",
       "      <td>0.0</td>\n",
       "      <td>0.0</td>\n",
       "      <td>0.0</td>\n",
       "      <td>0.0</td>\n",
       "      <td>0.0</td>\n",
       "    </tr>\n",
       "  </tbody>\n",
       "</table>\n",
       "<p>877 rows × 14 columns</p>\n",
       "</div>"
      ],
      "text/plain": [
       "                     windspeed  winddir  temp    rh  pressure  rain  solrad  \\\n",
       "time                                                                          \n",
       "2024-12-23 02:57:00        4.7     17.0  26.4  91.5    1010.3   0.0     0.0   \n",
       "2024-12-23 02:58:00        4.7     17.0  26.5  92.1    1010.4   0.0     0.0   \n",
       "2024-12-23 02:59:00        4.8     16.0  26.5  91.6    1010.4   0.0     0.0   \n",
       "2024-12-23 03:00:00        5.2     15.0  26.6  91.7    1010.4   0.0     0.0   \n",
       "2024-12-23 03:01:00        4.8     16.0  26.6  91.1    1010.4   0.0     0.0   \n",
       "...                        ...      ...   ...   ...       ...   ...     ...   \n",
       "2024-12-23 17:30:00        5.1     13.0  26.8  92.7    1009.1   0.0     0.0   \n",
       "2024-12-23 17:31:00        4.4     11.0  26.8  92.6    1009.1   0.0     0.0   \n",
       "2024-12-23 17:32:00        4.9     11.0  26.9  92.6    1009.1   0.0     0.0   \n",
       "2024-12-23 17:33:00        5.0     12.0  26.9  92.6    1009.0   0.0     0.0   \n",
       "2024-12-23 17:34:00        4.1     15.0  26.9  92.8    1009.1   0.0     0.0   \n",
       "\n",
       "                     netrad  watertemp  waterlevel  ta_min  ta_max  \\\n",
       "time                                                                 \n",
       "2024-12-23 02:57:00     0.0        0.0         0.0     0.0     0.0   \n",
       "2024-12-23 02:58:00     0.0        0.0         0.0     0.0     0.0   \n",
       "2024-12-23 02:59:00     0.0        0.0         0.0     0.0     0.0   \n",
       "2024-12-23 03:00:00     0.0        0.0         0.0     0.0     0.0   \n",
       "2024-12-23 03:01:00     0.0        0.0         0.0     0.0     0.0   \n",
       "...                     ...        ...         ...     ...     ...   \n",
       "2024-12-23 17:30:00     0.0        0.0         0.0     0.0     0.0   \n",
       "2024-12-23 17:31:00     0.0        0.0         0.0     0.0     0.0   \n",
       "2024-12-23 17:32:00     0.0        0.0         0.0     0.0     0.0   \n",
       "2024-12-23 17:33:00     0.0        0.0         0.0     0.0     0.0   \n",
       "2024-12-23 17:34:00     0.0        0.0         0.0     0.0     0.0   \n",
       "\n",
       "                     pancilevel  pancitemp  \n",
       "time                                        \n",
       "2024-12-23 02:57:00         0.0        0.0  \n",
       "2024-12-23 02:58:00         0.0        0.0  \n",
       "2024-12-23 02:59:00         0.0        0.0  \n",
       "2024-12-23 03:00:00         0.0        0.0  \n",
       "2024-12-23 03:01:00         0.0        0.0  \n",
       "...                         ...        ...  \n",
       "2024-12-23 17:30:00         0.0        0.0  \n",
       "2024-12-23 17:31:00         0.0        0.0  \n",
       "2024-12-23 17:32:00         0.0        0.0  \n",
       "2024-12-23 17:33:00         0.0        0.0  \n",
       "2024-12-23 17:34:00         0.0        0.0  \n",
       "\n",
       "[877 rows x 14 columns]"
      ]
     },
     "execution_count": 14,
     "metadata": {},
     "output_type": "execute_result"
    }
   ],
   "source": [
    "data_maws = pd.read_parquet(file_path)\n",
    "# data_maws.index = pd.to_datetime(data_maws.index, format=\"%Y-%m-%d %H:%M:%S\")\n",
    "data_maws"
   ]
  },
  {
   "cell_type": "code",
   "execution_count": 15,
   "id": "902d6fad-7b01-457d-a654-4b76cca91989",
   "metadata": {
    "tags": []
   },
   "outputs": [
    {
     "data": {
      "text/plain": [
       "True"
      ]
     },
     "execution_count": 15,
     "metadata": {},
     "output_type": "execute_result"
    }
   ],
   "source": [
    "isinstance(data_maws.index, pd.DatetimeIndex)"
   ]
  },
  {
   "cell_type": "code",
   "execution_count": 16,
   "id": "f78058f8-e4ba-4c37-abd0-68c8f2e7ea45",
   "metadata": {
    "tags": []
   },
   "outputs": [
    {
     "data": {
      "image/png": "[encoded data removed]",
      "text/plain": [
       "<Figure size 1000x500 with 1 Axes>"
      ]
     },
     "metadata": {},
     "output_type": "display_data"
    },
    {
     "name": "stdout",
     "output_type": "stream",
     "text": [
      "CPU times: user 8 µs, sys: 2 µs, total: 10 µs\n",
      "Wall time: 17.6 µs\n"
     ]
    }
   ],
   "source": [
    "data_maws['rh'].plot(figsize=(10, 5))  # width=10, height=5 (dalam satuan inch)\n",
    "plt.title(\"Grafik\")\n",
    "plt.xlabel(\"Waktu\")\n",
    "plt.ylabel(r\"$RH \\ [$%$]$\")\n",
    "plt.grid(True)\n",
    "plt.show()\n",
    "%time"
   ]
  },
  {
   "cell_type": "markdown",
   "id": "65add7ab-11b4-4555-9a19-31c4a1ceab63",
   "metadata": {},
   "source": [
    "#### !!! Pertanyaan 2 !!!\n",
    "\n",
    "Mengakses dan membuat grafik sederhana untuk parameter suhu udara dan kelembapan nisbi"
   ]
  },
  {
   "cell_type": "code",
   "execution_count": 17,
   "id": "e34a0e6e-45b1-4729-bc7e-4c9022c8aae9",
   "metadata": {
    "tags": []
   },
   "outputs": [],
   "source": [
    "# Write your code here\n",
    "\n"
   ]
  },
  {
   "cell_type": "markdown",
   "id": "1fed8e64-f6e4-4b91-a815-e4866cccfdb5",
   "metadata": {},
   "source": [
    "#### Bagaimana memuat data selama satu bulan?"
   ]
  },
  {
   "cell_type": "markdown",
   "id": "58b2de39-e6cc-44f1-bd3f-b52ad0eee93c",
   "metadata": {},
   "source": [
    "##### Membuat daftar path file yang terdapat pada satu direktori bulan tertentu"
   ]
  },
  {
   "cell_type": "code",
   "execution_count": 18,
   "id": "84c1e074-4247-463d-b7ca-284da7c54bf5",
   "metadata": {
    "tags": []
   },
   "outputs": [
    {
     "data": {
      "text/plain": [
       "['/data/local/marine-training/data/MATPEL_03/MAWS_BMKG/1000000009-AWS_Maritim__Ujung_Kulon/Year=2024/Month=11/01.parquet',\n",
       " '/data/local/marine-training/data/MATPEL_03/MAWS_BMKG/1000000009-AWS_Maritim__Ujung_Kulon/Year=2024/Month=11/02.parquet',\n",
       " '/data/local/marine-training/data/MATPEL_03/MAWS_BMKG/1000000009-AWS_Maritim__Ujung_Kulon/Year=2024/Month=11/03.parquet',\n",
       " '/data/local/marine-training/data/MATPEL_03/MAWS_BMKG/1000000009-AWS_Maritim__Ujung_Kulon/Year=2024/Month=11/04.parquet',\n",
       " '/data/local/marine-training/data/MATPEL_03/MAWS_BMKG/1000000009-AWS_Maritim__Ujung_Kulon/Year=2024/Month=11/05.parquet',\n",
       " '/data/local/marine-training/data/MATPEL_03/MAWS_BMKG/1000000009-AWS_Maritim__Ujung_Kulon/Year=2024/Month=11/06.parquet',\n",
       " '/data/local/marine-training/data/MATPEL_03/MAWS_BMKG/1000000009-AWS_Maritim__Ujung_Kulon/Year=2024/Month=11/07.parquet',\n",
       " '/data/local/marine-training/data/MATPEL_03/MAWS_BMKG/1000000009-AWS_Maritim__Ujung_Kulon/Year=2024/Month=11/08.parquet',\n",
       " '/data/local/marine-training/data/MATPEL_03/MAWS_BMKG/1000000009-AWS_Maritim__Ujung_Kulon/Year=2024/Month=11/09.parquet',\n",
       " '/data/local/marine-training/data/MATPEL_03/MAWS_BMKG/1000000009-AWS_Maritim__Ujung_Kulon/Year=2024/Month=11/10.parquet',\n",
       " '/data/local/marine-training/data/MATPEL_03/MAWS_BMKG/1000000009-AWS_Maritim__Ujung_Kulon/Year=2024/Month=11/11.parquet',\n",
       " '/data/local/marine-training/data/MATPEL_03/MAWS_BMKG/1000000009-AWS_Maritim__Ujung_Kulon/Year=2024/Month=11/12.parquet',\n",
       " '/data/local/marine-training/data/MATPEL_03/MAWS_BMKG/1000000009-AWS_Maritim__Ujung_Kulon/Year=2024/Month=11/13.parquet',\n",
       " '/data/local/marine-training/data/MATPEL_03/MAWS_BMKG/1000000009-AWS_Maritim__Ujung_Kulon/Year=2024/Month=11/14.parquet',\n",
       " '/data/local/marine-training/data/MATPEL_03/MAWS_BMKG/1000000009-AWS_Maritim__Ujung_Kulon/Year=2024/Month=11/15.parquet',\n",
       " '/data/local/marine-training/data/MATPEL_03/MAWS_BMKG/1000000009-AWS_Maritim__Ujung_Kulon/Year=2024/Month=11/16.parquet',\n",
       " '/data/local/marine-training/data/MATPEL_03/MAWS_BMKG/1000000009-AWS_Maritim__Ujung_Kulon/Year=2024/Month=11/17.parquet',\n",
       " '/data/local/marine-training/data/MATPEL_03/MAWS_BMKG/1000000009-AWS_Maritim__Ujung_Kulon/Year=2024/Month=11/18.parquet',\n",
       " '/data/local/marine-training/data/MATPEL_03/MAWS_BMKG/1000000009-AWS_Maritim__Ujung_Kulon/Year=2024/Month=11/19.parquet',\n",
       " '/data/local/marine-training/data/MATPEL_03/MAWS_BMKG/1000000009-AWS_Maritim__Ujung_Kulon/Year=2024/Month=11/20.parquet',\n",
       " '/data/local/marine-training/data/MATPEL_03/MAWS_BMKG/1000000009-AWS_Maritim__Ujung_Kulon/Year=2024/Month=11/21.parquet',\n",
       " '/data/local/marine-training/data/MATPEL_03/MAWS_BMKG/1000000009-AWS_Maritim__Ujung_Kulon/Year=2024/Month=11/22.parquet',\n",
       " '/data/local/marine-training/data/MATPEL_03/MAWS_BMKG/1000000009-AWS_Maritim__Ujung_Kulon/Year=2024/Month=11/23.parquet',\n",
       " '/data/local/marine-training/data/MATPEL_03/MAWS_BMKG/1000000009-AWS_Maritim__Ujung_Kulon/Year=2024/Month=11/24.parquet',\n",
       " '/data/local/marine-training/data/MATPEL_03/MAWS_BMKG/1000000009-AWS_Maritim__Ujung_Kulon/Year=2024/Month=11/25.parquet',\n",
       " '/data/local/marine-training/data/MATPEL_03/MAWS_BMKG/1000000009-AWS_Maritim__Ujung_Kulon/Year=2024/Month=11/26.parquet',\n",
       " '/data/local/marine-training/data/MATPEL_03/MAWS_BMKG/1000000009-AWS_Maritim__Ujung_Kulon/Year=2024/Month=11/27.parquet',\n",
       " '/data/local/marine-training/data/MATPEL_03/MAWS_BMKG/1000000009-AWS_Maritim__Ujung_Kulon/Year=2024/Month=11/28.parquet',\n",
       " '/data/local/marine-training/data/MATPEL_03/MAWS_BMKG/1000000009-AWS_Maritim__Ujung_Kulon/Year=2024/Month=11/29.parquet',\n",
       " '/data/local/marine-training/data/MATPEL_03/MAWS_BMKG/1000000009-AWS_Maritim__Ujung_Kulon/Year=2024/Month=11/30.parquet']"
      ]
     },
     "execution_count": 18,
     "metadata": {},
     "output_type": "execute_result"
    }
   ],
   "source": [
    "import os\n",
    "path2dir = \"/data/local/marine-training/data/MATPEL_03/MAWS_BMKG/1000000009-AWS_Maritim__Ujung_Kulon/Year=2024/Month=11\"\n",
    "fl_path_list = sorted([os.path.join(path2dir, f) for f in os.listdir(path2dir) if f.endswith('.parquet')])\n",
    "fl_path_list"
   ]
  },
  {
   "cell_type": "markdown",
   "id": "82272bef-356a-432a-8535-187fba6c4663",
   "metadata": {
    "tags": []
   },
   "source": [
    "##### Membaca dan memuat data\n",
    "\n",
    "Membaca masing-masing file harian dalam bentuk dataframe kemudian menyimpannya ke dalam list, selanjutnya menggabungkannya menggunakan ```pd.concat()```"
   ]
  },
  {
   "cell_type": "code",
   "execution_count": 19,
   "id": "2fad1d6b-804a-4dcf-9e0c-46f23b178eb0",
   "metadata": {
    "tags": []
   },
   "outputs": [
    {
     "data": {
      "text/html": [
       "<div>\n",
       "<style scoped>\n",
       "    .dataframe tbody tr th:only-of-type {\n",
       "        vertical-align: middle;\n",
       "    }\n",
       "\n",
       "    .dataframe tbody tr th {\n",
       "        vertical-align: top;\n",
       "    }\n",
       "\n",
       "    .dataframe thead th {\n",
       "        text-align: right;\n",
       "    }\n",
       "</style>\n",
       "<table border=\"1\" class=\"dataframe\">\n",
       "  <thead>\n",
       "    <tr style=\"text-align: right;\">\n",
       "      <th></th>\n",
       "      <th>windspeed</th>\n",
       "      <th>winddir</th>\n",
       "      <th>temp</th>\n",
       "      <th>rh</th>\n",
       "      <th>pressure</th>\n",
       "      <th>rain</th>\n",
       "      <th>solrad</th>\n",
       "      <th>netrad</th>\n",
       "      <th>watertemp</th>\n",
       "      <th>waterlevel</th>\n",
       "      <th>ta_min</th>\n",
       "      <th>ta_max</th>\n",
       "      <th>pancilevel</th>\n",
       "      <th>pancitemp</th>\n",
       "    </tr>\n",
       "    <tr>\n",
       "      <th>time</th>\n",
       "      <th></th>\n",
       "      <th></th>\n",
       "      <th></th>\n",
       "      <th></th>\n",
       "      <th></th>\n",
       "      <th></th>\n",
       "      <th></th>\n",
       "      <th></th>\n",
       "      <th></th>\n",
       "      <th></th>\n",
       "      <th></th>\n",
       "      <th></th>\n",
       "      <th></th>\n",
       "      <th></th>\n",
       "    </tr>\n",
       "  </thead>\n",
       "  <tbody>\n",
       "    <tr>\n",
       "      <th>2024-11-01 00:00:00</th>\n",
       "      <td>0.0</td>\n",
       "      <td>91.0</td>\n",
       "      <td>26.8</td>\n",
       "      <td>92.5</td>\n",
       "      <td>1010.4</td>\n",
       "      <td>0.0</td>\n",
       "      <td>0.0</td>\n",
       "      <td>0.0</td>\n",
       "      <td>0.0</td>\n",
       "      <td>1.195</td>\n",
       "      <td>0.0</td>\n",
       "      <td>0.0</td>\n",
       "      <td>0.0</td>\n",
       "      <td>0.0</td>\n",
       "    </tr>\n",
       "    <tr>\n",
       "      <th>2024-11-01 00:01:00</th>\n",
       "      <td>0.1</td>\n",
       "      <td>84.0</td>\n",
       "      <td>26.9</td>\n",
       "      <td>92.2</td>\n",
       "      <td>1010.4</td>\n",
       "      <td>0.0</td>\n",
       "      <td>0.0</td>\n",
       "      <td>0.0</td>\n",
       "      <td>0.0</td>\n",
       "      <td>1.196</td>\n",
       "      <td>0.0</td>\n",
       "      <td>0.0</td>\n",
       "      <td>0.0</td>\n",
       "      <td>0.0</td>\n",
       "    </tr>\n",
       "    <tr>\n",
       "      <th>2024-11-01 00:02:00</th>\n",
       "      <td>0.2</td>\n",
       "      <td>88.0</td>\n",
       "      <td>26.9</td>\n",
       "      <td>92.4</td>\n",
       "      <td>1010.4</td>\n",
       "      <td>0.0</td>\n",
       "      <td>0.0</td>\n",
       "      <td>0.0</td>\n",
       "      <td>0.0</td>\n",
       "      <td>1.186</td>\n",
       "      <td>0.0</td>\n",
       "      <td>0.0</td>\n",
       "      <td>0.0</td>\n",
       "      <td>0.0</td>\n",
       "    </tr>\n",
       "    <tr>\n",
       "      <th>2024-11-01 00:03:00</th>\n",
       "      <td>0.6</td>\n",
       "      <td>103.0</td>\n",
       "      <td>26.9</td>\n",
       "      <td>92.2</td>\n",
       "      <td>1010.4</td>\n",
       "      <td>0.0</td>\n",
       "      <td>0.0</td>\n",
       "      <td>0.0</td>\n",
       "      <td>0.0</td>\n",
       "      <td>1.199</td>\n",
       "      <td>0.0</td>\n",
       "      <td>0.0</td>\n",
       "      <td>0.0</td>\n",
       "      <td>0.0</td>\n",
       "    </tr>\n",
       "    <tr>\n",
       "      <th>2024-11-01 00:04:00</th>\n",
       "      <td>0.9</td>\n",
       "      <td>88.0</td>\n",
       "      <td>27.0</td>\n",
       "      <td>91.4</td>\n",
       "      <td>1010.4</td>\n",
       "      <td>0.0</td>\n",
       "      <td>0.0</td>\n",
       "      <td>0.0</td>\n",
       "      <td>0.0</td>\n",
       "      <td>1.201</td>\n",
       "      <td>0.0</td>\n",
       "      <td>0.0</td>\n",
       "      <td>0.0</td>\n",
       "      <td>0.0</td>\n",
       "    </tr>\n",
       "    <tr>\n",
       "      <th>...</th>\n",
       "      <td>...</td>\n",
       "      <td>...</td>\n",
       "      <td>...</td>\n",
       "      <td>...</td>\n",
       "      <td>...</td>\n",
       "      <td>...</td>\n",
       "      <td>...</td>\n",
       "      <td>...</td>\n",
       "      <td>...</td>\n",
       "      <td>...</td>\n",
       "      <td>...</td>\n",
       "      <td>...</td>\n",
       "      <td>...</td>\n",
       "      <td>...</td>\n",
       "    </tr>\n",
       "    <tr>\n",
       "      <th>2024-11-30 23:55:00</th>\n",
       "      <td>0.4</td>\n",
       "      <td>113.0</td>\n",
       "      <td>25.8</td>\n",
       "      <td>98.8</td>\n",
       "      <td>1008.8</td>\n",
       "      <td>0.0</td>\n",
       "      <td>0.0</td>\n",
       "      <td>0.0</td>\n",
       "      <td>0.0</td>\n",
       "      <td>1.192</td>\n",
       "      <td>0.0</td>\n",
       "      <td>0.0</td>\n",
       "      <td>0.0</td>\n",
       "      <td>0.0</td>\n",
       "    </tr>\n",
       "    <tr>\n",
       "      <th>2024-11-30 23:56:00</th>\n",
       "      <td>0.5</td>\n",
       "      <td>113.0</td>\n",
       "      <td>25.8</td>\n",
       "      <td>98.8</td>\n",
       "      <td>1008.9</td>\n",
       "      <td>0.0</td>\n",
       "      <td>0.0</td>\n",
       "      <td>0.0</td>\n",
       "      <td>0.0</td>\n",
       "      <td>1.184</td>\n",
       "      <td>0.0</td>\n",
       "      <td>0.0</td>\n",
       "      <td>0.0</td>\n",
       "      <td>0.0</td>\n",
       "    </tr>\n",
       "    <tr>\n",
       "      <th>2024-11-30 23:57:00</th>\n",
       "      <td>0.5</td>\n",
       "      <td>110.0</td>\n",
       "      <td>25.8</td>\n",
       "      <td>98.8</td>\n",
       "      <td>1008.9</td>\n",
       "      <td>0.0</td>\n",
       "      <td>0.0</td>\n",
       "      <td>0.0</td>\n",
       "      <td>0.0</td>\n",
       "      <td>1.182</td>\n",
       "      <td>0.0</td>\n",
       "      <td>0.0</td>\n",
       "      <td>0.0</td>\n",
       "      <td>0.0</td>\n",
       "    </tr>\n",
       "    <tr>\n",
       "      <th>2024-11-30 23:58:00</th>\n",
       "      <td>0.4</td>\n",
       "      <td>110.0</td>\n",
       "      <td>25.8</td>\n",
       "      <td>98.7</td>\n",
       "      <td>1008.9</td>\n",
       "      <td>0.0</td>\n",
       "      <td>0.0</td>\n",
       "      <td>0.0</td>\n",
       "      <td>0.0</td>\n",
       "      <td>1.183</td>\n",
       "      <td>0.0</td>\n",
       "      <td>0.0</td>\n",
       "      <td>0.0</td>\n",
       "      <td>0.0</td>\n",
       "    </tr>\n",
       "    <tr>\n",
       "      <th>2024-11-30 23:59:00</th>\n",
       "      <td>0.4</td>\n",
       "      <td>110.0</td>\n",
       "      <td>25.7</td>\n",
       "      <td>98.6</td>\n",
       "      <td>1008.9</td>\n",
       "      <td>0.0</td>\n",
       "      <td>0.0</td>\n",
       "      <td>0.0</td>\n",
       "      <td>0.0</td>\n",
       "      <td>1.186</td>\n",
       "      <td>0.0</td>\n",
       "      <td>0.0</td>\n",
       "      <td>0.0</td>\n",
       "      <td>0.0</td>\n",
       "    </tr>\n",
       "  </tbody>\n",
       "</table>\n",
       "<p>39561 rows × 14 columns</p>\n",
       "</div>"
      ],
      "text/plain": [
       "                     windspeed  winddir  temp    rh  pressure  rain  solrad  \\\n",
       "time                                                                          \n",
       "2024-11-01 00:00:00        0.0     91.0  26.8  92.5    1010.4   0.0     0.0   \n",
       "2024-11-01 00:01:00        0.1     84.0  26.9  92.2    1010.4   0.0     0.0   \n",
       "2024-11-01 00:02:00        0.2     88.0  26.9  92.4    1010.4   0.0     0.0   \n",
       "2024-11-01 00:03:00        0.6    103.0  26.9  92.2    1010.4   0.0     0.0   \n",
       "2024-11-01 00:04:00        0.9     88.0  27.0  91.4    1010.4   0.0     0.0   \n",
       "...                        ...      ...   ...   ...       ...   ...     ...   \n",
       "2024-11-30 23:55:00        0.4    113.0  25.8  98.8    1008.8   0.0     0.0   \n",
       "2024-11-30 23:56:00        0.5    113.0  25.8  98.8    1008.9   0.0     0.0   \n",
       "2024-11-30 23:57:00        0.5    110.0  25.8  98.8    1008.9   0.0     0.0   \n",
       "2024-11-30 23:58:00        0.4    110.0  25.8  98.7    1008.9   0.0     0.0   \n",
       "2024-11-30 23:59:00        0.4    110.0  25.7  98.6    1008.9   0.0     0.0   \n",
       "\n",
       "                     netrad  watertemp  waterlevel  ta_min  ta_max  \\\n",
       "time                                                                 \n",
       "2024-11-01 00:00:00     0.0        0.0       1.195     0.0     0.0   \n",
       "2024-11-01 00:01:00     0.0        0.0       1.196     0.0     0.0   \n",
       "2024-11-01 00:02:00     0.0        0.0       1.186     0.0     0.0   \n",
       "2024-11-01 00:03:00     0.0        0.0       1.199     0.0     0.0   \n",
       "2024-11-01 00:04:00     0.0        0.0       1.201     0.0     0.0   \n",
       "...                     ...        ...         ...     ...     ...   \n",
       "2024-11-30 23:55:00     0.0        0.0       1.192     0.0     0.0   \n",
       "2024-11-30 23:56:00     0.0        0.0       1.184     0.0     0.0   \n",
       "2024-11-30 23:57:00     0.0        0.0       1.182     0.0     0.0   \n",
       "2024-11-30 23:58:00     0.0        0.0       1.183     0.0     0.0   \n",
       "2024-11-30 23:59:00     0.0        0.0       1.186     0.0     0.0   \n",
       "\n",
       "                     pancilevel  pancitemp  \n",
       "time                                        \n",
       "2024-11-01 00:00:00         0.0        0.0  \n",
       "2024-11-01 00:01:00         0.0        0.0  \n",
       "2024-11-01 00:02:00         0.0        0.0  \n",
       "2024-11-01 00:03:00         0.0        0.0  \n",
       "2024-11-01 00:04:00         0.0        0.0  \n",
       "...                         ...        ...  \n",
       "2024-11-30 23:55:00         0.0        0.0  \n",
       "2024-11-30 23:56:00         0.0        0.0  \n",
       "2024-11-30 23:57:00         0.0        0.0  \n",
       "2024-11-30 23:58:00         0.0        0.0  \n",
       "2024-11-30 23:59:00         0.0        0.0  \n",
       "\n",
       "[39561 rows x 14 columns]"
      ]
     },
     "execution_count": 19,
     "metadata": {},
     "output_type": "execute_result"
    }
   ],
   "source": [
    "df_list = []\n",
    "for fl in fl_path_list:\n",
    "    df = pd.read_parquet(fl)\n",
    "    df_list.append(df)\n",
    "    \n",
    "df_month = pd.concat(df_list)\n",
    "df_month"
   ]
  },
  {
   "cell_type": "code",
   "execution_count": 20,
   "id": "74661f23-3f76-43f4-92c3-d23b96633662",
   "metadata": {
    "tags": []
   },
   "outputs": [
    {
     "data": {
      "text/plain": [
       "True"
      ]
     },
     "execution_count": 20,
     "metadata": {},
     "output_type": "execute_result"
    }
   ],
   "source": [
    "isinstance(df_month.index, pd.DatetimeIndex)"
   ]
  },
  {
   "cell_type": "code",
   "execution_count": 21,
   "id": "79371abf-3093-4d12-afc4-52949498101e",
   "metadata": {
    "tags": []
   },
   "outputs": [
    {
     "data": {
      "image/png": "[encoded data removed]",
      "text/plain": [
       "<Figure size 1000x500 with 1 Axes>"
      ]
     },
     "metadata": {},
     "output_type": "display_data"
    }
   ],
   "source": [
    "df_month['temp'].plot(figsize=(10, 5))  # width=10, height=5 (dalam satuan inch)\n",
    "plt.title(\"Grafik\")\n",
    "plt.xlabel(\"Waktu\")\n",
    "plt.ylabel(r\"$Air \\ Temp \\ [\\circ C]$\")\n",
    "plt.grid(True)\n",
    "plt.show()"
   ]
  },
  {
   "cell_type": "markdown",
   "id": "ecedc2c2-0b96-437e-b98c-de6153728692",
   "metadata": {},
   "source": [
    "#### Bagaimana menyeleksi data dari resolusi tiap menit menjadi data setiap 10 menit?"
   ]
  },
  {
   "cell_type": "code",
   "execution_count": 22,
   "id": "307ede3f-94fc-416d-82e1-cd24864b1b78",
   "metadata": {
    "tags": []
   },
   "outputs": [
    {
     "data": {
      "text/html": [
       "<div>\n",
       "<style scoped>\n",
       "    .dataframe tbody tr th:only-of-type {\n",
       "        vertical-align: middle;\n",
       "    }\n",
       "\n",
       "    .dataframe tbody tr th {\n",
       "        vertical-align: top;\n",
       "    }\n",
       "\n",
       "    .dataframe thead th {\n",
       "        text-align: right;\n",
       "    }\n",
       "</style>\n",
       "<table border=\"1\" class=\"dataframe\">\n",
       "  <thead>\n",
       "    <tr style=\"text-align: right;\">\n",
       "      <th></th>\n",
       "      <th>windspeed</th>\n",
       "      <th>winddir</th>\n",
       "      <th>temp</th>\n",
       "      <th>rh</th>\n",
       "      <th>pressure</th>\n",
       "      <th>rain</th>\n",
       "      <th>solrad</th>\n",
       "      <th>netrad</th>\n",
       "      <th>watertemp</th>\n",
       "      <th>waterlevel</th>\n",
       "      <th>ta_min</th>\n",
       "      <th>ta_max</th>\n",
       "      <th>pancilevel</th>\n",
       "      <th>pancitemp</th>\n",
       "    </tr>\n",
       "    <tr>\n",
       "      <th>time</th>\n",
       "      <th></th>\n",
       "      <th></th>\n",
       "      <th></th>\n",
       "      <th></th>\n",
       "      <th></th>\n",
       "      <th></th>\n",
       "      <th></th>\n",
       "      <th></th>\n",
       "      <th></th>\n",
       "      <th></th>\n",
       "      <th></th>\n",
       "      <th></th>\n",
       "      <th></th>\n",
       "      <th></th>\n",
       "    </tr>\n",
       "  </thead>\n",
       "  <tbody>\n",
       "    <tr>\n",
       "      <th>2024-11-01 00:00:00</th>\n",
       "      <td>0.0</td>\n",
       "      <td>91.0</td>\n",
       "      <td>26.8</td>\n",
       "      <td>92.5</td>\n",
       "      <td>1010.4</td>\n",
       "      <td>0.0</td>\n",
       "      <td>0.0</td>\n",
       "      <td>0.0</td>\n",
       "      <td>0.0</td>\n",
       "      <td>1.195</td>\n",
       "      <td>0.0</td>\n",
       "      <td>0.0</td>\n",
       "      <td>0.0</td>\n",
       "      <td>0.0</td>\n",
       "    </tr>\n",
       "    <tr>\n",
       "      <th>2024-11-01 00:10:00</th>\n",
       "      <td>0.5</td>\n",
       "      <td>89.0</td>\n",
       "      <td>27.3</td>\n",
       "      <td>91.9</td>\n",
       "      <td>1010.4</td>\n",
       "      <td>0.0</td>\n",
       "      <td>0.0</td>\n",
       "      <td>0.0</td>\n",
       "      <td>0.0</td>\n",
       "      <td>1.209</td>\n",
       "      <td>0.0</td>\n",
       "      <td>0.0</td>\n",
       "      <td>0.0</td>\n",
       "      <td>0.0</td>\n",
       "    </tr>\n",
       "    <tr>\n",
       "      <th>2024-11-01 00:20:00</th>\n",
       "      <td>0.9</td>\n",
       "      <td>95.0</td>\n",
       "      <td>27.6</td>\n",
       "      <td>91.0</td>\n",
       "      <td>1010.6</td>\n",
       "      <td>0.0</td>\n",
       "      <td>0.0</td>\n",
       "      <td>0.0</td>\n",
       "      <td>0.0</td>\n",
       "      <td>1.208</td>\n",
       "      <td>0.0</td>\n",
       "      <td>0.0</td>\n",
       "      <td>0.0</td>\n",
       "      <td>0.0</td>\n",
       "    </tr>\n",
       "    <tr>\n",
       "      <th>2024-11-01 00:30:00</th>\n",
       "      <td>0.1</td>\n",
       "      <td>88.0</td>\n",
       "      <td>27.9</td>\n",
       "      <td>90.1</td>\n",
       "      <td>1010.8</td>\n",
       "      <td>0.0</td>\n",
       "      <td>0.0</td>\n",
       "      <td>0.0</td>\n",
       "      <td>0.0</td>\n",
       "      <td>1.196</td>\n",
       "      <td>0.0</td>\n",
       "      <td>0.0</td>\n",
       "      <td>0.0</td>\n",
       "      <td>0.0</td>\n",
       "    </tr>\n",
       "    <tr>\n",
       "      <th>2024-11-01 00:40:00</th>\n",
       "      <td>0.7</td>\n",
       "      <td>92.0</td>\n",
       "      <td>28.4</td>\n",
       "      <td>88.5</td>\n",
       "      <td>1010.8</td>\n",
       "      <td>0.0</td>\n",
       "      <td>0.0</td>\n",
       "      <td>0.0</td>\n",
       "      <td>0.0</td>\n",
       "      <td>1.193</td>\n",
       "      <td>0.0</td>\n",
       "      <td>0.0</td>\n",
       "      <td>0.0</td>\n",
       "      <td>0.0</td>\n",
       "    </tr>\n",
       "    <tr>\n",
       "      <th>...</th>\n",
       "      <td>...</td>\n",
       "      <td>...</td>\n",
       "      <td>...</td>\n",
       "      <td>...</td>\n",
       "      <td>...</td>\n",
       "      <td>...</td>\n",
       "      <td>...</td>\n",
       "      <td>...</td>\n",
       "      <td>...</td>\n",
       "      <td>...</td>\n",
       "      <td>...</td>\n",
       "      <td>...</td>\n",
       "      <td>...</td>\n",
       "      <td>...</td>\n",
       "    </tr>\n",
       "    <tr>\n",
       "      <th>2024-11-30 23:10:00</th>\n",
       "      <td>0.3</td>\n",
       "      <td>89.0</td>\n",
       "      <td>25.4</td>\n",
       "      <td>98.5</td>\n",
       "      <td>1008.2</td>\n",
       "      <td>0.0</td>\n",
       "      <td>0.0</td>\n",
       "      <td>0.0</td>\n",
       "      <td>0.0</td>\n",
       "      <td>1.259</td>\n",
       "      <td>0.0</td>\n",
       "      <td>0.0</td>\n",
       "      <td>0.0</td>\n",
       "      <td>0.0</td>\n",
       "    </tr>\n",
       "    <tr>\n",
       "      <th>2024-11-30 23:20:00</th>\n",
       "      <td>0.1</td>\n",
       "      <td>123.0</td>\n",
       "      <td>25.4</td>\n",
       "      <td>98.6</td>\n",
       "      <td>1008.5</td>\n",
       "      <td>0.0</td>\n",
       "      <td>0.0</td>\n",
       "      <td>0.0</td>\n",
       "      <td>0.0</td>\n",
       "      <td>1.237</td>\n",
       "      <td>0.0</td>\n",
       "      <td>0.0</td>\n",
       "      <td>0.0</td>\n",
       "      <td>0.0</td>\n",
       "    </tr>\n",
       "    <tr>\n",
       "      <th>2024-11-30 23:30:00</th>\n",
       "      <td>0.0</td>\n",
       "      <td>112.0</td>\n",
       "      <td>25.5</td>\n",
       "      <td>98.7</td>\n",
       "      <td>1008.5</td>\n",
       "      <td>0.0</td>\n",
       "      <td>0.0</td>\n",
       "      <td>0.0</td>\n",
       "      <td>0.0</td>\n",
       "      <td>1.245</td>\n",
       "      <td>0.0</td>\n",
       "      <td>0.0</td>\n",
       "      <td>0.0</td>\n",
       "      <td>0.0</td>\n",
       "    </tr>\n",
       "    <tr>\n",
       "      <th>2024-11-30 23:40:00</th>\n",
       "      <td>0.8</td>\n",
       "      <td>113.0</td>\n",
       "      <td>25.5</td>\n",
       "      <td>98.6</td>\n",
       "      <td>1008.6</td>\n",
       "      <td>0.0</td>\n",
       "      <td>0.0</td>\n",
       "      <td>0.0</td>\n",
       "      <td>0.0</td>\n",
       "      <td>1.230</td>\n",
       "      <td>0.0</td>\n",
       "      <td>0.0</td>\n",
       "      <td>0.0</td>\n",
       "      <td>0.0</td>\n",
       "    </tr>\n",
       "    <tr>\n",
       "      <th>2024-11-30 23:50:00</th>\n",
       "      <td>0.3</td>\n",
       "      <td>103.0</td>\n",
       "      <td>25.7</td>\n",
       "      <td>98.9</td>\n",
       "      <td>1008.7</td>\n",
       "      <td>0.0</td>\n",
       "      <td>0.0</td>\n",
       "      <td>0.0</td>\n",
       "      <td>0.0</td>\n",
       "      <td>1.213</td>\n",
       "      <td>0.0</td>\n",
       "      <td>0.0</td>\n",
       "      <td>0.0</td>\n",
       "      <td>0.0</td>\n",
       "    </tr>\n",
       "  </tbody>\n",
       "</table>\n",
       "<p>4320 rows × 14 columns</p>\n",
       "</div>"
      ],
      "text/plain": [
       "                     windspeed  winddir  temp    rh  pressure  rain  solrad  \\\n",
       "time                                                                          \n",
       "2024-11-01 00:00:00        0.0     91.0  26.8  92.5    1010.4   0.0     0.0   \n",
       "2024-11-01 00:10:00        0.5     89.0  27.3  91.9    1010.4   0.0     0.0   \n",
       "2024-11-01 00:20:00        0.9     95.0  27.6  91.0    1010.6   0.0     0.0   \n",
       "2024-11-01 00:30:00        0.1     88.0  27.9  90.1    1010.8   0.0     0.0   \n",
       "2024-11-01 00:40:00        0.7     92.0  28.4  88.5    1010.8   0.0     0.0   \n",
       "...                        ...      ...   ...   ...       ...   ...     ...   \n",
       "2024-11-30 23:10:00        0.3     89.0  25.4  98.5    1008.2   0.0     0.0   \n",
       "2024-11-30 23:20:00        0.1    123.0  25.4  98.6    1008.5   0.0     0.0   \n",
       "2024-11-30 23:30:00        0.0    112.0  25.5  98.7    1008.5   0.0     0.0   \n",
       "2024-11-30 23:40:00        0.8    113.0  25.5  98.6    1008.6   0.0     0.0   \n",
       "2024-11-30 23:50:00        0.3    103.0  25.7  98.9    1008.7   0.0     0.0   \n",
       "\n",
       "                     netrad  watertemp  waterlevel  ta_min  ta_max  \\\n",
       "time                                                                 \n",
       "2024-11-01 00:00:00     0.0        0.0       1.195     0.0     0.0   \n",
       "2024-11-01 00:10:00     0.0        0.0       1.209     0.0     0.0   \n",
       "2024-11-01 00:20:00     0.0        0.0       1.208     0.0     0.0   \n",
       "2024-11-01 00:30:00     0.0        0.0       1.196     0.0     0.0   \n",
       "2024-11-01 00:40:00     0.0        0.0       1.193     0.0     0.0   \n",
       "...                     ...        ...         ...     ...     ...   \n",
       "2024-11-30 23:10:00     0.0        0.0       1.259     0.0     0.0   \n",
       "2024-11-30 23:20:00     0.0        0.0       1.237     0.0     0.0   \n",
       "2024-11-30 23:30:00     0.0        0.0       1.245     0.0     0.0   \n",
       "2024-11-30 23:40:00     0.0        0.0       1.230     0.0     0.0   \n",
       "2024-11-30 23:50:00     0.0        0.0       1.213     0.0     0.0   \n",
       "\n",
       "                     pancilevel  pancitemp  \n",
       "time                                        \n",
       "2024-11-01 00:00:00         0.0        0.0  \n",
       "2024-11-01 00:10:00         0.0        0.0  \n",
       "2024-11-01 00:20:00         0.0        0.0  \n",
       "2024-11-01 00:30:00         0.0        0.0  \n",
       "2024-11-01 00:40:00         0.0        0.0  \n",
       "...                         ...        ...  \n",
       "2024-11-30 23:10:00         0.0        0.0  \n",
       "2024-11-30 23:20:00         0.0        0.0  \n",
       "2024-11-30 23:30:00         0.0        0.0  \n",
       "2024-11-30 23:40:00         0.0        0.0  \n",
       "2024-11-30 23:50:00         0.0        0.0  \n",
       "\n",
       "[4320 rows x 14 columns]"
      ]
     },
     "execution_count": 22,
     "metadata": {},
     "output_type": "execute_result"
    }
   ],
   "source": [
    "df_month_10min = df_month.resample('10min').first()\n",
    "df_month_10min"
   ]
  },
  {
   "cell_type": "markdown",
   "id": "1fe3e1b4-61cc-442f-babf-b8c318b678cd",
   "metadata": {},
   "source": [
    "##### !!!!! PENTING !!!!!\n",
    "\n",
    "Mohon membaca lebih lanjut mengenai resampling:\n",
    "1. [Time Offset String][1]\n",
    "2. [User guide][2]\n",
    "\n",
    "[1]: https://pandas.pydata.org/pandas-docs/stable/user_guide/timeseries.html#dateoffset-objects\n",
    "[2]: https://pandas.pydata.org/pandas-docs/stable/user_guide/timeseries.html#resampling"
   ]
  },
  {
   "cell_type": "markdown",
   "id": "4d78ce21-a624-4cb8-a6d9-136b757fb68f",
   "metadata": {},
   "source": [
    "#### !!! Pertanyaan 3 !!!\n",
    "\n",
    "Mengakses dan membuat grafik sederhana untuk parameter suhu udara dan kelembapan nisbi untuk periode 1 bulan dengan resolusi temporal 1 jam"
   ]
  },
  {
   "cell_type": "code",
   "execution_count": 23,
   "id": "7bd2d044-1533-48c7-a652-c02022b9d163",
   "metadata": {
    "tags": []
   },
   "outputs": [],
   "source": [
    "# Write your code here\n",
    "\n"
   ]
  },
  {
   "cell_type": "markdown",
   "id": "b56a0688-69c9-4f82-8301-1a2926ebf234",
   "metadata": {},
   "source": [
    "### Akses data menggunakan modul yang telah disiapkan\n",
    "\n",
    "Pada bagian [impor pustaka](#impor-modul) di awal notebook ini, kita telah mengimpor modul yang telah disiapkan:  ```diklatmar```. Pada modul tersebut terdapat submodul: ```plotter``` dan ```loader```. Submodul ```plotter``` digunakan untuk keperluan plotting sedangkan ```loader``` digunakan untuk keperluan mengakses dan memuat data. Berikut merupakan contoh untuk menggunakan submodul ```loader``` untuk mengakses data. Bedanya dengan mteode manual sebelumnya, memuat data menggunakan submodul ```loader``` akan langsung memuat data satu bulan."
   ]
  },
  {
   "cell_type": "markdown",
   "id": "9eb25fde-5465-4fd7-b83b-cc79398c1ff5",
   "metadata": {},
   "source": [
    "#### Inisialisasi submodul dengan direktori data"
   ]
  },
  {
   "cell_type": "code",
   "execution_count": 24,
   "id": "c23cf450-2bee-4152-8659-56e1bd5c6449",
   "metadata": {
    "tags": []
   },
   "outputs": [],
   "source": [
    "data_load = loader(data_dir=dir_data)"
   ]
  },
  {
   "cell_type": "markdown",
   "id": "e500cf8c-aee9-43e7-998e-5ffdf8cc1f7e",
   "metadata": {},
   "source": [
    "#### Muat data AWS "
   ]
  },
  {
   "cell_type": "code",
   "execution_count": 25,
   "id": "421bca38-703c-4781-b0ee-4adc0dc71dc4",
   "metadata": {
    "tags": []
   },
   "outputs": [
    {
     "name": "stdout",
     "output_type": "stream",
     "text": [
      "2025-05-05 03:06:23 :\tI\tFound AWS id: 1000000009\n",
      "2025-05-05 03:06:23 :\tI\tFound year: 2024\n",
      "2025-05-05 03:06:23 :\tI\tFound month: 10\n",
      "2025-05-05 03:06:23 :\tI\tLoaded 10 files with 13535 records.\n"
     ]
    }
   ],
   "source": [
    "# Contoh ini menggunakan data MAWS Ujung Kulon\n",
    "id_aws = 1000000009\n",
    "tahun = 2024\n",
    "bulan = 10\n",
    "\n",
    "aws_data = data_load.maws_data(\n",
    "    id_aws=id_aws,\n",
    "    year=tahun,\n",
    "    month=bulan\n",
    ")"
   ]
  },
  {
   "cell_type": "code",
   "execution_count": 26,
   "id": "075ed60f-ed56-419a-ae73-e4779abc950e",
   "metadata": {
    "tags": []
   },
   "outputs": [
    {
     "data": {
      "text/html": [
       "<div>\n",
       "<style scoped>\n",
       "    .dataframe tbody tr th:only-of-type {\n",
       "        vertical-align: middle;\n",
       "    }\n",
       "\n",
       "    .dataframe tbody tr th {\n",
       "        vertical-align: top;\n",
       "    }\n",
       "\n",
       "    .dataframe thead th {\n",
       "        text-align: right;\n",
       "    }\n",
       "</style>\n",
       "<table border=\"1\" class=\"dataframe\">\n",
       "  <thead>\n",
       "    <tr style=\"text-align: right;\">\n",
       "      <th></th>\n",
       "      <th>windspeed</th>\n",
       "      <th>winddir</th>\n",
       "      <th>temp</th>\n",
       "      <th>rh</th>\n",
       "      <th>pressure</th>\n",
       "      <th>rain</th>\n",
       "      <th>solrad</th>\n",
       "      <th>netrad</th>\n",
       "      <th>watertemp</th>\n",
       "      <th>waterlevel</th>\n",
       "      <th>ta_min</th>\n",
       "      <th>ta_max</th>\n",
       "      <th>pancilevel</th>\n",
       "      <th>pancitemp</th>\n",
       "    </tr>\n",
       "    <tr>\n",
       "      <th>time</th>\n",
       "      <th></th>\n",
       "      <th></th>\n",
       "      <th></th>\n",
       "      <th></th>\n",
       "      <th></th>\n",
       "      <th></th>\n",
       "      <th></th>\n",
       "      <th></th>\n",
       "      <th></th>\n",
       "      <th></th>\n",
       "      <th></th>\n",
       "      <th></th>\n",
       "      <th></th>\n",
       "      <th></th>\n",
       "    </tr>\n",
       "  </thead>\n",
       "  <tbody>\n",
       "    <tr>\n",
       "      <th>2024-10-22 00:00:00</th>\n",
       "      <td>0.0</td>\n",
       "      <td>0.0</td>\n",
       "      <td>0.0</td>\n",
       "      <td>0.0</td>\n",
       "      <td>1012.3</td>\n",
       "      <td>0.0</td>\n",
       "      <td>0.0</td>\n",
       "      <td>0.0</td>\n",
       "      <td>0.0</td>\n",
       "      <td>2.160</td>\n",
       "      <td>0.0</td>\n",
       "      <td>0.0</td>\n",
       "      <td>0.0</td>\n",
       "      <td>0.0</td>\n",
       "    </tr>\n",
       "    <tr>\n",
       "      <th>2024-10-22 00:01:00</th>\n",
       "      <td>0.0</td>\n",
       "      <td>0.0</td>\n",
       "      <td>0.0</td>\n",
       "      <td>0.0</td>\n",
       "      <td>1012.3</td>\n",
       "      <td>0.0</td>\n",
       "      <td>0.0</td>\n",
       "      <td>0.0</td>\n",
       "      <td>0.0</td>\n",
       "      <td>2.153</td>\n",
       "      <td>0.0</td>\n",
       "      <td>0.0</td>\n",
       "      <td>0.0</td>\n",
       "      <td>0.0</td>\n",
       "    </tr>\n",
       "    <tr>\n",
       "      <th>2024-10-22 00:02:00</th>\n",
       "      <td>0.0</td>\n",
       "      <td>0.0</td>\n",
       "      <td>0.0</td>\n",
       "      <td>0.0</td>\n",
       "      <td>1012.3</td>\n",
       "      <td>0.0</td>\n",
       "      <td>0.0</td>\n",
       "      <td>0.0</td>\n",
       "      <td>0.0</td>\n",
       "      <td>2.159</td>\n",
       "      <td>0.0</td>\n",
       "      <td>0.0</td>\n",
       "      <td>0.0</td>\n",
       "      <td>0.0</td>\n",
       "    </tr>\n",
       "    <tr>\n",
       "      <th>2024-10-22 00:03:00</th>\n",
       "      <td>0.0</td>\n",
       "      <td>0.0</td>\n",
       "      <td>0.0</td>\n",
       "      <td>0.0</td>\n",
       "      <td>1012.3</td>\n",
       "      <td>0.0</td>\n",
       "      <td>0.0</td>\n",
       "      <td>0.0</td>\n",
       "      <td>0.0</td>\n",
       "      <td>2.159</td>\n",
       "      <td>0.0</td>\n",
       "      <td>0.0</td>\n",
       "      <td>0.0</td>\n",
       "      <td>0.0</td>\n",
       "    </tr>\n",
       "    <tr>\n",
       "      <th>2024-10-22 00:04:00</th>\n",
       "      <td>0.0</td>\n",
       "      <td>0.0</td>\n",
       "      <td>0.0</td>\n",
       "      <td>0.0</td>\n",
       "      <td>1012.4</td>\n",
       "      <td>0.0</td>\n",
       "      <td>0.0</td>\n",
       "      <td>0.0</td>\n",
       "      <td>0.0</td>\n",
       "      <td>2.164</td>\n",
       "      <td>0.0</td>\n",
       "      <td>0.0</td>\n",
       "      <td>0.0</td>\n",
       "      <td>0.0</td>\n",
       "    </tr>\n",
       "    <tr>\n",
       "      <th>...</th>\n",
       "      <td>...</td>\n",
       "      <td>...</td>\n",
       "      <td>...</td>\n",
       "      <td>...</td>\n",
       "      <td>...</td>\n",
       "      <td>...</td>\n",
       "      <td>...</td>\n",
       "      <td>...</td>\n",
       "      <td>...</td>\n",
       "      <td>...</td>\n",
       "      <td>...</td>\n",
       "      <td>...</td>\n",
       "      <td>...</td>\n",
       "      <td>...</td>\n",
       "    </tr>\n",
       "    <tr>\n",
       "      <th>2024-10-31 23:55:00</th>\n",
       "      <td>0.3</td>\n",
       "      <td>101.0</td>\n",
       "      <td>26.8</td>\n",
       "      <td>92.1</td>\n",
       "      <td>1010.4</td>\n",
       "      <td>0.0</td>\n",
       "      <td>0.0</td>\n",
       "      <td>0.0</td>\n",
       "      <td>0.0</td>\n",
       "      <td>1.180</td>\n",
       "      <td>0.0</td>\n",
       "      <td>0.0</td>\n",
       "      <td>0.0</td>\n",
       "      <td>0.0</td>\n",
       "    </tr>\n",
       "    <tr>\n",
       "      <th>2024-10-31 23:56:00</th>\n",
       "      <td>0.0</td>\n",
       "      <td>92.0</td>\n",
       "      <td>26.9</td>\n",
       "      <td>92.1</td>\n",
       "      <td>1010.4</td>\n",
       "      <td>0.0</td>\n",
       "      <td>0.0</td>\n",
       "      <td>0.0</td>\n",
       "      <td>0.0</td>\n",
       "      <td>1.182</td>\n",
       "      <td>0.0</td>\n",
       "      <td>0.0</td>\n",
       "      <td>0.0</td>\n",
       "      <td>0.0</td>\n",
       "    </tr>\n",
       "    <tr>\n",
       "      <th>2024-10-31 23:57:00</th>\n",
       "      <td>0.1</td>\n",
       "      <td>89.0</td>\n",
       "      <td>26.8</td>\n",
       "      <td>92.2</td>\n",
       "      <td>1010.4</td>\n",
       "      <td>0.0</td>\n",
       "      <td>0.0</td>\n",
       "      <td>0.0</td>\n",
       "      <td>0.0</td>\n",
       "      <td>1.192</td>\n",
       "      <td>0.0</td>\n",
       "      <td>0.0</td>\n",
       "      <td>0.0</td>\n",
       "      <td>0.0</td>\n",
       "    </tr>\n",
       "    <tr>\n",
       "      <th>2024-10-31 23:58:00</th>\n",
       "      <td>0.3</td>\n",
       "      <td>83.0</td>\n",
       "      <td>26.9</td>\n",
       "      <td>92.4</td>\n",
       "      <td>1010.4</td>\n",
       "      <td>0.0</td>\n",
       "      <td>0.0</td>\n",
       "      <td>0.0</td>\n",
       "      <td>0.0</td>\n",
       "      <td>1.181</td>\n",
       "      <td>0.0</td>\n",
       "      <td>0.0</td>\n",
       "      <td>0.0</td>\n",
       "      <td>0.0</td>\n",
       "    </tr>\n",
       "    <tr>\n",
       "      <th>2024-10-31 23:59:00</th>\n",
       "      <td>0.5</td>\n",
       "      <td>95.0</td>\n",
       "      <td>26.8</td>\n",
       "      <td>92.7</td>\n",
       "      <td>1010.4</td>\n",
       "      <td>0.0</td>\n",
       "      <td>0.0</td>\n",
       "      <td>0.0</td>\n",
       "      <td>0.0</td>\n",
       "      <td>1.184</td>\n",
       "      <td>0.0</td>\n",
       "      <td>0.0</td>\n",
       "      <td>0.0</td>\n",
       "      <td>0.0</td>\n",
       "    </tr>\n",
       "  </tbody>\n",
       "</table>\n",
       "<p>13535 rows × 14 columns</p>\n",
       "</div>"
      ],
      "text/plain": [
       "                     windspeed  winddir  temp    rh  pressure  rain  solrad  \\\n",
       "time                                                                          \n",
       "2024-10-22 00:00:00        0.0      0.0   0.0   0.0    1012.3   0.0     0.0   \n",
       "2024-10-22 00:01:00        0.0      0.0   0.0   0.0    1012.3   0.0     0.0   \n",
       "2024-10-22 00:02:00        0.0      0.0   0.0   0.0    1012.3   0.0     0.0   \n",
       "2024-10-22 00:03:00        0.0      0.0   0.0   0.0    1012.3   0.0     0.0   \n",
       "2024-10-22 00:04:00        0.0      0.0   0.0   0.0    1012.4   0.0     0.0   \n",
       "...                        ...      ...   ...   ...       ...   ...     ...   \n",
       "2024-10-31 23:55:00        0.3    101.0  26.8  92.1    1010.4   0.0     0.0   \n",
       "2024-10-31 23:56:00        0.0     92.0  26.9  92.1    1010.4   0.0     0.0   \n",
       "2024-10-31 23:57:00        0.1     89.0  26.8  92.2    1010.4   0.0     0.0   \n",
       "2024-10-31 23:58:00        0.3     83.0  26.9  92.4    1010.4   0.0     0.0   \n",
       "2024-10-31 23:59:00        0.5     95.0  26.8  92.7    1010.4   0.0     0.0   \n",
       "\n",
       "                     netrad  watertemp  waterlevel  ta_min  ta_max  \\\n",
       "time                                                                 \n",
       "2024-10-22 00:00:00     0.0        0.0       2.160     0.0     0.0   \n",
       "2024-10-22 00:01:00     0.0        0.0       2.153     0.0     0.0   \n",
       "2024-10-22 00:02:00     0.0        0.0       2.159     0.0     0.0   \n",
       "2024-10-22 00:03:00     0.0        0.0       2.159     0.0     0.0   \n",
       "2024-10-22 00:04:00     0.0        0.0       2.164     0.0     0.0   \n",
       "...                     ...        ...         ...     ...     ...   \n",
       "2024-10-31 23:55:00     0.0        0.0       1.180     0.0     0.0   \n",
       "2024-10-31 23:56:00     0.0        0.0       1.182     0.0     0.0   \n",
       "2024-10-31 23:57:00     0.0        0.0       1.192     0.0     0.0   \n",
       "2024-10-31 23:58:00     0.0        0.0       1.181     0.0     0.0   \n",
       "2024-10-31 23:59:00     0.0        0.0       1.184     0.0     0.0   \n",
       "\n",
       "                     pancilevel  pancitemp  \n",
       "time                                        \n",
       "2024-10-22 00:00:00         0.0        0.0  \n",
       "2024-10-22 00:01:00         0.0        0.0  \n",
       "2024-10-22 00:02:00         0.0        0.0  \n",
       "2024-10-22 00:03:00         0.0        0.0  \n",
       "2024-10-22 00:04:00         0.0        0.0  \n",
       "...                         ...        ...  \n",
       "2024-10-31 23:55:00         0.0        0.0  \n",
       "2024-10-31 23:56:00         0.0        0.0  \n",
       "2024-10-31 23:57:00         0.0        0.0  \n",
       "2024-10-31 23:58:00         0.0        0.0  \n",
       "2024-10-31 23:59:00         0.0        0.0  \n",
       "\n",
       "[13535 rows x 14 columns]"
      ]
     },
     "execution_count": 26,
     "metadata": {},
     "output_type": "execute_result"
    }
   ],
   "source": [
    "aws_data"
   ]
  },
  {
   "cell_type": "markdown",
   "id": "293c2ec1-3a47-4602-9720-221b311fa6de",
   "metadata": {},
   "source": [
    "#### Muat dan simpan ke dalam file csv"
   ]
  },
  {
   "cell_type": "code",
   "execution_count": 27,
   "id": "1461340b-f7c4-4ec3-a4aa-30516e08cbac",
   "metadata": {},
   "outputs": [
    {
     "name": "stdout",
     "output_type": "stream",
     "text": [
      "2025-05-05 03:06:23 :\tI\tFound AWS id: 1000000009\n",
      "2025-05-05 03:06:23 :\tI\tFound year: 2024\n",
      "2025-05-05 03:06:23 :\tI\tFound month: 10\n",
      "2025-05-05 03:06:23 :\tI\tLoaded 10 files with 13535 records.\n",
      "2025-05-05 03:06:24 :\tI\tSaving file to: /home/dika/Diklat_Mar_2025/results/csv_files/1000000009_2024_10.csv\n"
     ]
    }
   ],
   "source": [
    "# Contoh ini menggunakan data MAWS Ujung Kulon\n",
    "id_aws = 1000000009\n",
    "tahun = 2024\n",
    "bulan = 10\n",
    "dir_saving = '/home/dika/Diklat_Mar_2025/results/csv_files'\n",
    "\n",
    "aws_data = data_load.maws_data(\n",
    "    id_aws=id_aws,\n",
    "    year=tahun,\n",
    "    month=bulan,\n",
    "    save_data=True,\n",
    "    sv_dir=dir_saving\n",
    ")"
   ]
  },
  {
   "cell_type": "markdown",
   "id": "cbe3592f-7cdb-4df3-b349-7b4e8e06e240",
   "metadata": {},
   "source": [
    "#### !!! Pertanyaan 4 !!!\n",
    "\n",
    "Mengakses data MAWS disekitar anda selama satu tahun. Buatlah serta membuat grafik sederhana"
   ]
  },
  {
   "cell_type": "code",
   "execution_count": 28,
   "id": "da3c80fc-b564-420b-8bc3-8013cdc71505",
   "metadata": {
    "tags": []
   },
   "outputs": [],
   "source": [
    "# Write your code here\n",
    "\n"
   ]
  },
  {
   "cell_type": "code",
   "execution_count": null,
   "id": "bce0d270-c645-4d39-97ca-e066c124ad66",
   "metadata": {},
   "outputs": [],
   "source": []
  }
 ],
 "metadata": {
  "kernelspec": {
   "display_name": "Python 3 (ipykernel)",
   "language": "python",
   "name": "python3"
  },
  "language_info": {
   "codemirror_mode": {
    "name": "ipython",
    "version": 3
   },
   "file_extension": ".py",
   "mimetype": "text/x-python",
   "name": "python",
   "nbconvert_exporter": "python",
   "pygments_lexer": "ipython3",
   "version": "3.13.2"
  },
  "toc-autonumbering": false,
  "toc-showmarkdowntxt": true
 },
 "nbformat": 4,
 "nbformat_minor": 5
}
