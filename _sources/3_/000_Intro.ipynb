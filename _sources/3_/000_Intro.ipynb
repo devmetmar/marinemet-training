{
 "cells": [
  {
   "cell_type": "markdown",
   "id": "e00da5fa-8114-4994-bef1-f8b861611cce",
   "metadata": {},
   "source": [
    "# Verifikasi parameter metocean\n",
    "\n",
    "---\n",
    "\n",
    "### Deskripsi Mata Pelatihan\n",
    "Mata pelatihan ini berfokus pada verifikasi parameter meteorologi-oseanografi (metocean) yang dihasilkan oleh model Ocean Forecasting System (OFS) menggunakan data pengamatan meteorologi maritim. Peserta akan belajar teknik analisis dan evaluasi model numerik dengan metode statistik serta pemanfaatan bahasa pemrograman untuk mengolah dan membandingkan data model dengan data pengamatan.\n",
    "\n",
    "---\n",
    "\n",
    "### Kompetensi\n",
    "Peserta pelatihan diharapkan dapat:\n",
    "1. Mengidentifikasi parameter metocean yang dihasilkan oleh OFS.\n",
    "2. Memahami prinsip dasar dan cara kerja peralatan pengamatan: ocean drifter dan subsurface floats.\n",
    "3. Menggunakan bahasa pemrograman sebagai alat bantu dalam melakukan interpretasi maupun verifikasi parameter metocean.\n",
    "4. Mengumpulkan dan menginterpretasikan data pengamatan meteorologi maritim untuk melakukan verifikasi model OFS.\n",
    "5. Membandingkan keluaran model OFS dengan data pengamatan.\n",
    "6. Menggunakan metode statistik dalam analisis kesalahan model.\n",
    "\n",
    "---\n",
    "\n",
    "### Idikator keberhasilan\n",
    "1. Peserta dapat menjelaskan jenis parameter meteorologi-oseanografi yang dihasilkan oleh model OFS.\n",
    "2. Peserta dapat menjelaskan prinsip kerja ocean drifter dan subsurface floats dalam pengamatan oseanografi.\n",
    "3. Peserta dapat mengidentifikasi parameter yang diukur oleh ocean drifter dan subsurface floats.\n",
    "4. Peserta dapat mengakses dan mengekstrak data parameter dari hasil keluaran model oseanografi menggunakan Python.\n",
    "5. Peserta dapat membaca dan memproses data hasil pengamatan dari ocean drifter dan subsurface floats menggunakan Python.\n",
    "6. Peserta dapat membersihkan dan menyiapkan data pengamatan untuk analisis menggunakan Python.\n",
    "7. Peserta dapat menggunakan pustaka Python seperti NumPy, Pandas, dan Matplotlib untuk analisis dan visualisasi data.\n",
    "8. Peserta dapat menampilkan perbandingan data model dan data pengamatan dalam bentuk grafik atau tabel menggunakan Python.\n",
    "9. Peserta dapat menghitung perbedaan nilai antara parameter model dan pengamatan pada lokasi serta waktu yang sama.\n",
    "10. Peserta dapat menghitung metrik evaluasi seperti mean absolute percentage error (MAPE), root mean square error (RMSE), dan korelasi menggunakan Python.\n",
    "11. Peserta dapat menyajikan hasil analisis kesalahan dalam bentuk visual seperti ke dalam bentuk scatter plot atau Taylor diagram.\n",
    "\n",
    "---"
   ]
  },
  {
   "cell_type": "code",
   "execution_count": null,
   "id": "c967cfe6-fdaa-499d-83e9-a59356903ff7",
   "metadata": {},
   "outputs": [],
   "source": []
  }
 ],
 "metadata": {
  "kernelspec": {
   "display_name": "Python (OFS)",
   "language": "python",
   "name": "ofs"
  },
  "language_info": {
   "codemirror_mode": {
    "name": "ipython",
    "version": 3
   },
   "file_extension": ".py",
   "mimetype": "text/x-python",
   "name": "python",
   "nbconvert_exporter": "python",
   "pygments_lexer": "ipython3",
   "version": "3.13.3"
  }
 },
 "nbformat": 4,
 "nbformat_minor": 5
}
