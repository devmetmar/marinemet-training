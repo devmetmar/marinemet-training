{
 "cells": [
  {
   "cell_type": "markdown",
   "id": "37cdca67-3b99-4650-92f8-286dbd3788ea",
   "metadata": {
    "tags": []
   },
   "source": [
    "# Jupyterlab as an IDE\n",
    "\n",
    "---\n",
    "\n",
    "### Kompetensi \n",
    "- Memahami dasar-dasar IDE (Integrated Development Environment).\n",
    "\n",
    "### Indikator keberhasilan\n",
    "- Peserta dapat memahami pengoperasian Jupyterlab sebagai IDE secara tepat.\n",
    "\n",
    "---"
   ]
  },
  {
   "cell_type": "markdown",
   "id": "aadd662c-b3f5-41c4-9b5e-324d76185c9d",
   "metadata": {},
   "source": [
    "[JupyterLab](https://jupyterlab.readthedocs.io/en/latest/user/interface.html) adalah IDE berbasis web yang interaktif dan fleksibel. Ideal untuk analisis data karena mendukung dokumentasi (Markdown), kode Python, dan visualisasi dalam satu antarmuka.\n",
    "\n",
    "Fitur Utama JupyterLab:\n",
    "- Cell-based execution: Kode dijalankan per blok\n",
    "- Visualisasi inline: Grafik langsung muncul di dalam notebook\n",
    "- Dukungan Markdown: Untuk menulis penjelasan dan dokumentasi\n",
    "- Layout yang dapat dicustom: tampilan multi window\n",
    "- Dukungan terminal, console, python, text, hingga csv editor."
   ]
  },
  {
   "cell_type": "markdown",
   "id": "7c592f6a-f500-48a7-8df5-41f941cc4d31",
   "metadata": {},
   "source": [
    "<div align=\"center\"><img src=\"../img/1_jupyterlab.png\" alt=\"jupyterlab\" width=\"800px\"/><br>***</div>\n",
    "\n",
    "---"
   ]
  }
 ],
 "metadata": {
  "kernelspec": {
   "display_name": "jupyterbook",
   "language": "python",
   "name": "python3"
  },
  "language_info": {
   "codemirror_mode": {
    "name": "ipython",
    "version": 3
   },
   "file_extension": ".py",
   "mimetype": "text/x-python",
   "name": "python",
   "nbconvert_exporter": "python",
   "pygments_lexer": "ipython3",
   "version": "3.13.2"
  }
 },
 "nbformat": 4,
 "nbformat_minor": 5
}