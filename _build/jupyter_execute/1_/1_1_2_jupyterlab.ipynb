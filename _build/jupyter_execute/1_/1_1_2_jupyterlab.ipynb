{
 "cells": [
  {
   "cell_type": "markdown",
   "id": "37cdca67-3b99-4650-92f8-286dbd3788ea",
   "metadata": {
    "tags": []
   },
   "source": [
    "# Jupyterlab as an IDE\n",
    "\n",
    "> Setelah membaca chapter ini, pembaca diharapkan dapat memahami Jupyterlab sebagai IDE secara tepat."
   ]
  },
  {
   "cell_type": "markdown",
   "id": "aadd662c-b3f5-41c4-9b5e-324d76185c9d",
   "metadata": {},
   "source": [
    "[JupyterLab](https://jupyterlab.readthedocs.io/en/latest/user/interface.html) adalah IDE (Integrated Development Environment) berbasis web yang interaktif dan fleksibel. Ideal untuk analisis data karena mendukung dokumentasi (Markdown), kode Python, dan visualisasi dalam satu antarmuka.\n",
    "\n",
    "Fitur Utama JupyterLab:\n",
    "- Cell-based execution: Kode dijalankan per blok\n",
    "- Visualisasi inline: Grafik langsung muncul di dalam notebook\n",
    "- Dukungan Markdown: Untuk menulis penjelasan dan dokumentasi\n",
    "- Layout yang dapat dicustom: tampilan multi window\n",
    "- Dukungan terminal, console, python, text, hingga csv editor."
   ]
  },
  {
   "cell_type": "markdown",
   "id": "7c592f6a-f500-48a7-8df5-41f941cc4d31",
   "metadata": {},
   "source": [
    "<div align=\"center\"><img src=\"https://raw.githubusercontent.com/devmetmar/marinemet-training/refs/heads/main/img/1_jupyterlab.png\" alt=\"jupyterlab\" width=\"800px\"/><br>***</div>\n",
    "\n",
    "---"
   ]
  },
  {
   "cell_type": "markdown",
   "id": "6c340651",
   "metadata": {},
   "source": [
    "## [hub-training.pusmar.org](https://hub-training.pusmar.org/)"
   ]
  },
  {
   "cell_type": "markdown",
   "id": "da062e8c-3ae6-406c-90c8-fb7e88f2017a",
   "metadata": {},
   "source": [
    "### Halaman login"
   ]
  },
  {
   "cell_type": "markdown",
   "id": "2b933e9f-4820-4f23-b065-23cbfaaed1d8",
   "metadata": {},
   "source": [
    "<div align=\"center\"><img src=\"../img/1_hub_login.png\" alt=\"jupyterlab\" width=\"800px\"/></div>"
   ]
  },
  {
   "cell_type": "markdown",
   "id": "f6adfd7e-b41e-47ac-801c-b80807f6bbc3",
   "metadata": {},
   "source": [
    "### Halaman Menu Awal"
   ]
  },
  {
   "cell_type": "markdown",
   "id": "bb8fc77a-659e-4710-b648-7bccbb80d729",
   "metadata": {},
   "source": [
    "<div align=\"center\"><img src=\"../img/1_hub_mainmenu.png\" alt=\"jupyterlab\" width=\"800px\"/></div>"
   ]
  },
  {
   "cell_type": "markdown",
   "id": "66f8af60-d481-4d25-945b-c3928608f1dc",
   "metadata": {},
   "source": [
    "### Jupyter notebook file"
   ]
  },
  {
   "cell_type": "markdown",
   "id": "99f8e763-cb7c-4c2d-b13a-76233f34eaf8",
   "metadata": {},
   "source": []
  }
 ],
 "metadata": {
  "kernelspec": {
   "display_name": "Python (OFS)",
   "language": "python",
   "name": "ofs"
  },
  "language_info": {
   "codemirror_mode": {
    "name": "ipython",
    "version": 3
   },
   "file_extension": ".py",
   "mimetype": "text/x-python",
   "name": "python",
   "nbconvert_exporter": "python",
   "pygments_lexer": "ipython3",
   "version": "3.13.3"
  }
 },
 "nbformat": 4,
 "nbformat_minor": 5
}