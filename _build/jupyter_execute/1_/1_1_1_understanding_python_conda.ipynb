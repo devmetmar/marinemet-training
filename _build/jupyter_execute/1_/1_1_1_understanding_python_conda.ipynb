{
 "cells": [
  {
   "cell_type": "markdown",
   "id": "37cdca67-3b99-4650-92f8-286dbd3788ea",
   "metadata": {
    "tags": []
   },
   "source": [
    "# Understanding python and conda\n",
    "\n",
    "> Setelah membaca chapter ini, pembaca diharapkan dapat memahami perbedaan python dan conda."
   ]
  },
  {
   "cell_type": "markdown",
   "id": "48626475-fea8-47dd-8b2b-a81c69b7e918",
   "metadata": {},
   "source": [
    "Python adalah bahasa pemrograman tingkat tinggi, interpreted, dengan sintaks yang relative sederhana. Bahasa multiguna yang umum digunakan mulai dari pengembangan web, analisis data, hingga kecerdasan buatan. Meskipun pengolahan data dalam ranah ilmiah pada awalnya banyak menggunakan bahasa seperti matlab atau software khusus (seperti GrADS, CDO, NCL, dst), beberapa alasan kuat mengapa python menjadi lazim digunakan adalah sebagai berikut.\n",
    "\n",
    "<div align=\"center\"><img src=\"https://raw.githubusercontent.com/devmetmar/marinemet-training/refs/heads/main/img/1_python_usage.png\" alt=\"drawing\" width=\"600\"/><br>***</div>"
   ]
  },
  {
   "cell_type": "markdown",
   "id": "b27a35f8-af33-47a7-92be-d569bad2f846",
   "metadata": {
    "tags": []
   },
   "source": [
    "Library tambahan untuk python dapat dikelola menggunakan *package manager*, seperti [pip](https://pip.pypa.io/en/stable/), [conda](https://docs.conda.io/projects/conda/en/stable/user-guide/getting-started.html), [mamba](https://mamba.readthedocs.io/en/latest/), [poetry](https://python-poetry.org/docs/), hingga [uv](https://docs.astral.sh/uv/). Masing-masing memiliki peruntukan dan keunggulan. Namun, dalam komunitas ilmiah, [conda](https://docs.conda.io/projects/conda/en/stable/user-guide/getting-started.html) merupakan package manager yang umum digunakan.\n",
    "\n",
    "Terdapat dua distribusi [conda](https://docs.conda.io/projects/conda/en/stable/user-guide/getting-started.html), yaitu [anaconda](https://anaconda.org/) dan [miniconda](https://www.anaconda.com/docs/getting-started/miniconda/main), keduanya dikelola oleh Anaconda Inc dengan opsi berbayar (free) untuk anaconda (miniconda). Perbedaan mendasar terletak pada library yang terinstall secara default, instalasi anaconda disertai dengan banyak library, sementara miniconda hanya berisi conda, python, serta library dasar.\n",
    "\n",
    "Dalam hal ini, fungsi utama [conda](https://docs.conda.io/projects/conda/en/stable/user-guide/getting-started.html) yang sering kita gunakan yaitu untuk:\n",
    "\n",
    "- Mengelola versi Python. \n",
    "- Menginstal library seperti NumPy, Pandas, Matplotlib. Terdapat dua channel repository umum sebagai sumber instalasi, `default` dan `conda-forge`. Repository `conda-forge` menyimpan lebih banyak library karena dikelola oleh komunitas.\n",
    "- Membuat lingkungan kerja (environment) terisolasi agar proyek tidak saling mengganggu\n",
    "\n",
    "<a href=\"https://carpentries-incubator.github.io/introduction-to-conda-for-data-scientists/\"><div align=\"center\"><img src=\"https://raw.githubusercontent.com/devmetmar/marinemet-training/refs/heads/main/img/1_miniconda_vs_anaconda.png\" alt=\"miniconda vs anaconda\" width=\"400\"/><br>carpentries-incubator.github.io/introduction-to-conda-for-data-scientists</div></a>\n"
   ]
  },
  {
   "cell_type": "markdown",
   "id": "31b9715d-f022-4e14-ac32-c002674f9b56",
   "metadata": {},
   "source": [
    "\n",
    "> 💡 Dalam pelatihan ini, peserta tidak perlu melakukan instalasi python dan conda. Hands-on sepenuhnya dilakukan di platform [hub-training.pusmar.id](hub-training.pusmar.id).\n",
    "\n",
    "---"
   ]
  },
  {
   "cell_type": "markdown",
   "id": "c32919f2",
   "metadata": {},
   "source": []
  }
 ],
 "metadata": {
  "kernelspec": {
   "display_name": "jupyterbook",
   "language": "python",
   "name": "python3"
  },
  "language_info": {
   "codemirror_mode": {
    "name": "ipython",
    "version": 3
   },
   "file_extension": ".py",
   "mimetype": "text/x-python",
   "name": "python",
   "nbconvert_exporter": "python",
   "pygments_lexer": "ipython3",
   "version": "3.13.2"
  }
 },
 "nbformat": 4,
 "nbformat_minor": 5
}