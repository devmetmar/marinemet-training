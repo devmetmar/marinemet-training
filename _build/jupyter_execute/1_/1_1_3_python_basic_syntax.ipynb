{
 "cells": [
  {
   "cell_type": "markdown",
   "id": "37cdca67-3b99-4650-92f8-286dbd3788ea",
   "metadata": {
    "tags": []
   },
   "source": [
    "# Python Basic Syntax\n",
    "\n",
    "> Setelah membaca ini, pembaca diharapkan dapat memahami sintaks dasar Python (variabel, tipe data, operator, dan struktur kontrol)."
   ]
  },
  {
   "cell_type": "markdown",
   "id": "daf04054-72b0-414f-a486-9f7a5c2c48dd",
   "metadata": {
    "tags": []
   },
   "source": [
    "## 1. Hello world"
   ]
  },
  {
   "cell_type": "code",
   "execution_count": 1,
   "id": "d23ad238-d9da-4dce-8b80-a0a8594f43fd",
   "metadata": {
    "tags": []
   },
   "outputs": [
    {
     "name": "stdout",
     "output_type": "stream",
     "text": [
      "Hello world!\n"
     ]
    }
   ],
   "source": [
    "print(\"Hello world!\")"
   ]
  },
  {
   "cell_type": "markdown",
   "id": "3a62d6e5-a056-4015-8c65-25d2f263a25e",
   "metadata": {},
   "source": [
    "Kita juga bisa menjalankan perintah terminal terbatas dalam code block"
   ]
  },
  {
   "cell_type": "code",
   "execution_count": 2,
   "id": "663384f1-213b-4e36-b530-09b098f6c1b7",
   "metadata": {
    "tags": []
   },
   "outputs": [
    {
     "name": "stdout",
     "output_type": "stream",
     "text": [
      "Python 3.13.3\r\n"
     ]
    },
    {
     "name": "stdout",
     "output_type": "stream",
     "text": [
      "/opt/conda/envs/ofs/bin/python\r\n"
     ]
    }
   ],
   "source": [
    "! python --version\n",
    "! which python"
   ]
  },
  {
   "cell_type": "markdown",
   "id": "653aebd2-5c40-4b48-b268-04a6d1ecc767",
   "metadata": {
    "tags": []
   },
   "source": [
    "## 2. Sintaks dasar, komentar, dan variabel"
   ]
  },
  {
   "cell_type": "markdown",
   "id": "f40b1402-c7f7-44d3-9e8a-9a2bd2724f2d",
   "metadata": {},
   "source": [
    "- Python menggunakan indentasi untuk mendefinisikan code block\n",
    "- Statement diakhiri dengan baris baru\n",
    "\n",
    "### Komentar\n",
    "Digunakan sebagai penanda untuk memberikan informasi. Ini tidak akan dieksekusi oleh program. Komentar ditantai dengan tanda hastag (`#`)."
   ]
  },
  {
   "cell_type": "code",
   "execution_count": 3,
   "id": "d639ee6d-a9b6-4219-a138-16eaa80a4ca5",
   "metadata": {
    "tags": []
   },
   "outputs": [
    {
     "name": "stdout",
     "output_type": "stream",
     "text": [
      "Hello World!!!\n",
      "What is your name?\n",
      "1\n"
     ]
    }
   ],
   "source": [
    "# Ini adalah komentar\n",
    "\n",
    "print('Hello World!!!')\n",
    "print('What is your name?') # komentar juga bisa ditaruh disini\n",
    "\n",
    "# komentar multi baris\n",
    "\"\"\"\n",
    "If you write\n",
    "more\n",
    "than\n",
    "1 line\n",
    "of\n",
    "comments\n",
    "use triple\n",
    "quotes at the beginning and end of the comment\n",
    "\"\"\"\n",
    "print(1) # example of displaying numbers in the output"
   ]
  },
  {
   "cell_type": "markdown",
   "id": "4a7d23b2-8aea-4fb2-9615-6124d04df81b",
   "metadata": {},
   "source": [
    "### Variabel\n",
    "Digunakan untuk menyimpan data atau objek tertentu (Seperti angka, hurus, dll). Variabel didefinisikan dengan menambahkan tanda sama dengan (`=`)."
   ]
  },
  {
   "cell_type": "code",
   "execution_count": 4,
   "id": "4aea580c-ed46-434d-9fc8-e0e5da99c8bf",
   "metadata": {
    "tags": []
   },
   "outputs": [
    {
     "name": "stdout",
     "output_type": "stream",
     "text": [
      "Kang Mas Haryo Sinuwun\n",
      "33\n",
      "<class 'str'>\n",
      "<class 'int'>\n",
      "Hello my name is Kang Mas Haryo Sinuwun, I am 33 years old\n"
     ]
    }
   ],
   "source": [
    "name = 'Kang Mas Haryo Sinuwun'\n",
    "age = 33\n",
    "\n",
    "# Then we display it in the output\n",
    "print(name)\n",
    "print(age)\n",
    "\n",
    "print(type(name))\n",
    "print(type(age))\n",
    "\n",
    "# We can also combine it\n",
    "print(f\"Hello my name is {name}, I am {age} years old\")"
   ]
  },
  {
   "cell_type": "markdown",
   "id": "9eb6ba9f-f7f3-4012-8ff0-3f1a5396f0ab",
   "metadata": {
    "tags": []
   },
   "source": [
    "## 3. Tipe Data Dasar dan Operator"
   ]
  },
  {
   "cell_type": "markdown",
   "id": "4a364607-a2fc-41a8-ad32-cb3898810bb8",
   "metadata": {
    "tags": []
   },
   "source": [
    "### Tipe Data Dasar"
   ]
  },
  {
   "cell_type": "markdown",
   "id": "a932b238-3d28-475c-9660-1140095289a5",
   "metadata": {},
   "source": [
    "Tipe data: atribut yang digunakan untuk mengkategorisasi nilai dan menentukan tipe operasi dang dapat dilakukan.\n",
    "\n",
    "| No | Data types | Symbol  | Description | Example |\n",
    "| -- | ---------- | ------- | ----------- | ------- |\n",
    "| 1. | integer    | `int`   | Integers | `5`, `-10`, `1000`|\n",
    "| 2. | float      | `float` | Decimal numbers | `3.14`, `23.03`, `1.618` |\n",
    "| 3. | string     | `str`   | Letters / sentences / character sequences | `\"Hello, world!\"`, `\"Python\"` |\n",
    "| 4. | boolean    | `bool`  | Truth value (`True` or `False`) | `True`, `False` |"
   ]
  },
  {
   "cell_type": "code",
   "execution_count": 5,
   "id": "cd5796f6-1efe-4a34-a72e-513edcca1763",
   "metadata": {
    "tags": []
   },
   "outputs": [
    {
     "name": "stdout",
     "output_type": "stream",
     "text": [
      "Name:  Kang Mas Haryo Sinuwun\n",
      "Age:  33\n",
      "Height:  1.7\n",
      "Is student:  False\n",
      "==============================\n",
      "Type of name:  <class 'str'>\n",
      "Type of age:  <class 'int'>\n",
      "Type of height:  <class 'float'>\n",
      "Type of is_student:  <class 'bool'>\n"
     ]
    }
   ],
   "source": [
    "## Variables and data types\n",
    "\n",
    "# Assigning values to variables\n",
    "name = \"Kang Mas Haryo Sinuwun\"\n",
    "age = 33\n",
    "height = 1.70\n",
    "is_student = False\n",
    "\n",
    "# Printing the variables\n",
    "print(\"Name: \", name)\n",
    "print(\"Age: \", age)\n",
    "print(\"Height: \", height)\n",
    "print(\"Is student: \", is_student)\n",
    "print('='*30)\n",
    "\n",
    "# Printing the types of the variables\n",
    "print(\"Type of name: \", type(name))\n",
    "print(\"Type of age: \", type(age))\n",
    "print(\"Type of height: \", type(height))\n",
    "print(\"Type of is_student: \", type(is_student))"
   ]
  },
  {
   "cell_type": "code",
   "execution_count": 6,
   "id": "5e79b6ad-a30f-4e45-8431-efce0a5c78db",
   "metadata": {
    "tags": []
   },
   "outputs": [
    {
     "name": "stdout",
     "output_type": "stream",
     "text": [
      "5.0\n",
      "5\n",
      "5\n",
      "5\n"
     ]
    }
   ],
   "source": [
    "# Kita dapat mengkonversi tipe data \n",
    "\n",
    "# Integer to float\n",
    "x = 5\n",
    "y = float(x)\n",
    "print(y)  # Output: 5.0\n",
    "\n",
    "# Float to integer\n",
    "z = int(y)\n",
    "print(z)  # Output: 5\n",
    "\n",
    "# Integer to string\n",
    "s = str(z)\n",
    "print(s)  # Output: \"5\"\n",
    "\n",
    "# String to integer\n",
    "num = int(s)\n",
    "print(num)  # Output: 5"
   ]
  },
  {
   "cell_type": "markdown",
   "id": "9cb0b20e-5c5b-4cb3-8b3b-b685fc584f03",
   "metadata": {},
   "source": [
    "### Operator"
   ]
  },
  {
   "cell_type": "markdown",
   "id": "f38656ca-f799-41e5-9964-e6f57a96b2bd",
   "metadata": {
    "tags": []
   },
   "source": [
    "#### Operator Aritmatika"
   ]
  },
  {
   "cell_type": "code",
   "execution_count": 7,
   "id": "451a448a-fb3d-4f2d-8ca0-ac071a9920a3",
   "metadata": {
    "tags": []
   },
   "outputs": [
    {
     "name": "stdout",
     "output_type": "stream",
     "text": [
      "a + b =  7\n",
      "a - b =  -1\n",
      "a * b =  12\n",
      "a / b =  0.75\n",
      "a % b =  3\n",
      "a ** b =  81\n",
      "a // b =  0\n"
     ]
    }
   ],
   "source": [
    "## Arithmetic Operators\n",
    "a = 3\n",
    "b = 4\n",
    "print(\"a + b = \", a + b)  # Addition\n",
    "print(\"a - b = \", a - b)  # Subtraction\n",
    "print(\"a * b = \", a * b)  # Multiplication\n",
    "print(\"a / b = \", a / b)  # Division\n",
    "print(\"a % b = \", a % b)  # Modulus\n",
    "print(\"a ** b = \", a ** b)  # Exponentiation\n",
    "print(\"a // b = \", a // b)  # Floor division"
   ]
  },
  {
   "cell_type": "markdown",
   "id": "b05dbd65-f252-436f-a4dd-722a78f6b564",
   "metadata": {
    "tags": []
   },
   "source": [
    "#### Operator Perbandingan"
   ]
  },
  {
   "cell_type": "code",
   "execution_count": 8,
   "id": "11d49675-194d-4128-8daf-80b8fc939ab7",
   "metadata": {
    "tags": []
   },
   "outputs": [
    {
     "name": "stdout",
     "output_type": "stream",
     "text": [
      "x > y is  False\n",
      "x < y is  True\n",
      "x == y is  False\n",
      "x != y is  True\n",
      "x >= y is  False\n",
      "x <= y is  True\n"
     ]
    }
   ],
   "source": [
    "## Comparison Operators\n",
    "x = 5\n",
    "y = 10\n",
    "print(\"x > y is \", x > x)   # Greater than\n",
    "print(\"x < y is \", x < y)   # Less than\n",
    "print(\"x == y is \", x == y)  # Equal to\n",
    "print(\"x != y is \", x != y)  # Not equal to\n",
    "print(\"x >= y is \", x >= y)  # Greater than or equal to\n",
    "print(\"x <= y is \", x <= y)  # Less than or equal to"
   ]
  },
  {
   "cell_type": "markdown",
   "id": "4d071653-7091-4bfa-bc33-0a06eb490d68",
   "metadata": {
    "tags": []
   },
   "source": [
    "#### Operator logika"
   ]
  },
  {
   "cell_type": "code",
   "execution_count": 9,
   "id": "60dbfedb-34b6-4978-a83a-96d979403998",
   "metadata": {
    "tags": []
   },
   "outputs": [
    {
     "name": "stdout",
     "output_type": "stream",
     "text": [
      "a and b is  False\n",
      "a or b is  True\n",
      "not a is  False\n"
     ]
    }
   ],
   "source": [
    "## Logical Operators\n",
    "a = True\n",
    "b = False\n",
    "print(\"a and b is \", a and b)  # Logical AND\n",
    "print(\"a or b is \", a or c)   # Logical OR\n",
    "print(\"not a is \", not a)     # Logical NOT"
   ]
  },
  {
   "cell_type": "markdown",
   "id": "4151ada0-0433-4d58-bb4f-061f078ee711",
   "metadata": {
    "tags": []
   },
   "source": [
    "#### Operator penugasan"
   ]
  },
  {
   "cell_type": "markdown",
   "id": "ee93cb75-4ee5-49eb-be71-1c407a20055b",
   "metadata": {},
   "source": [
    "```python\n",
    "=   <sama dengan>                     a=1, a->1\n",
    "+=  <tambah sama dengan>              a+=1, a->2\n",
    "-=  <kurang sama dengan>              a-=1, a->1\n",
    "*=  <kali sama dengan>                a*=2, a->2\n",
    "/=  <bagi sama dengan>                a/=2, a->1\n",
    "%=  <sisa bagi sama dengan>   a=10    a%=6, a->4\n",
    "**= <pangkat sama dengan>             a**=2, a->16\n",
    "//= <bagi bulat sama dengan>          a//=3, a->5        \n",
    "```"
   ]
  },
  {
   "cell_type": "markdown",
   "id": "707d34f3-6d35-4745-8fe7-6a1e4e419cf4",
   "metadata": {
    "tags": []
   },
   "source": [
    "#### Operator Identitas"
   ]
  },
  {
   "cell_type": "code",
   "execution_count": 10,
   "id": "a2b0a34f-8d1d-46cf-8a0d-7e95aeaf3fca",
   "metadata": {
    "tags": []
   },
   "outputs": [
    {
     "name": "stdout",
     "output_type": "stream",
     "text": [
      "True\n",
      "False\n"
     ]
    }
   ],
   "source": [
    "## Identity Operator\n",
    "x = 5\n",
    "y = 5\n",
    "\n",
    "# The \"is\" operator to check whether two variables refer to the same object in memory\n",
    "print(z is y) # Output: True, because x and y refer to the same object in memory\n",
    "\n",
    "# The \"is not\" operator to check whether two variables do not refer to the same object in memory\n",
    "print(x is not y) # Output: False, because x and y refer to the same object in memory"
   ]
  },
  {
   "cell_type": "markdown",
   "id": "742c2474-92f8-4d7c-91d4-a1087fee23e6",
   "metadata": {},
   "source": [
    "#### Operator keanggotaan"
   ]
  },
  {
   "cell_type": "code",
   "execution_count": 11,
   "id": "a566f925-2f1c-497c-9a9e-e45057be9b0d",
   "metadata": {
    "tags": []
   },
   "outputs": [
    {
     "name": "stdout",
     "output_type": "stream",
     "text": [
      "False\n",
      "False\n",
      "True\n",
      "True\n"
     ]
    }
   ],
   "source": [
    "my_string = \"Kang Mas\"\n",
    "\n",
    "# The \"in\" operator to check whether a certain character is in a string\n",
    "print('A' in my_string) # Output: True, because 'A' is in my_string\n",
    "print('z' in my_string) # Output: False, because 'z' is not in my_string\n",
    "\n",
    "# The \"not in\" operator to check whether a certain character is not in a string\n",
    "print('A' not in my_string) # Output: False, because 'A' is in my_string\n",
    "print('z' not in my_string) # Output: True, because 'z' is not in my_string"
   ]
  },
  {
   "cell_type": "markdown",
   "id": "2397c3a2-76dc-47ed-b2b0-b63cc8b7b694",
   "metadata": {
    "tags": []
   },
   "source": [
    "## 4. Control flow"
   ]
  },
  {
   "cell_type": "markdown",
   "id": "fcdeaa13-0519-4ff4-b29a-b10814ab0950",
   "metadata": {
    "tags": []
   },
   "source": [
    "### Statement kondisional"
   ]
  },
  {
   "cell_type": "code",
   "execution_count": 12,
   "id": "55382161-faee-4ceb-a50c-4b5add54b878",
   "metadata": {
    "tags": []
   },
   "outputs": [
    {
     "name": "stdout",
     "output_type": "stream",
     "text": [
      "x is greater than 5\n"
     ]
    }
   ],
   "source": [
    "\"\"\"\n",
    "If statement\n",
    "\"\"\"\n",
    "\n",
    "x = 10\n",
    "if x > 5:\n",
    "    print(\"x is greater than 5\")"
   ]
  },
  {
   "cell_type": "code",
   "execution_count": 13,
   "id": "118e3c17-b63e-4b8f-8200-47e2cf57de91",
   "metadata": {
    "tags": []
   },
   "outputs": [
    {
     "name": "stdout",
     "output_type": "stream",
     "text": [
      "x is 10\n"
     ]
    }
   ],
   "source": [
    "\"\"\"\n",
    "if-elif-else Statement\n",
    "\"\"\"\n",
    "x = 10\n",
    "if x > 15:\n",
    "    print(\"x is greater than 15\")\n",
    "elif x == 10:\n",
    "    print(\"x is 10\")\n",
    "else:\n",
    "    print(\"x is not greater than 15 and not equal to 10\")"
   ]
  },
  {
   "cell_type": "markdown",
   "id": "40d697a6-ca79-4f20-a3be-bcaa9c0520c1",
   "metadata": {
    "tags": []
   },
   "source": [
    "### Loop"
   ]
  },
  {
   "cell_type": "code",
   "execution_count": 14,
   "id": "b7e8b545-66ec-459f-a67f-e27feaf68204",
   "metadata": {
    "tags": []
   },
   "outputs": [
    {
     "name": "stdout",
     "output_type": "stream",
     "text": [
      "Now the number to 0\n",
      "Now the number to 1\n",
      "Now the number to 2\n",
      "Now the number to 3\n",
      "Now the number to 4\n",
      "Now the number to 5\n",
      "Now the number to 6\n",
      "Now the number to 7\n",
      "Now the number to 8\n",
      "Now the number to 9\n",
      "Done\n"
     ]
    }
   ],
   "source": [
    "# while loop\n",
    "\n",
    "number = 0\n",
    "while number<10:\n",
    "    print('Now the number to', number) # pay attention to whitespace\n",
    "    number+=1\n",
    "print('Done')"
   ]
  },
  {
   "cell_type": "code",
   "execution_count": 15,
   "id": "2bb3179e-ce17-44b5-9731-adaefc4b603e",
   "metadata": {
    "tags": []
   },
   "outputs": [
    {
     "name": "stdout",
     "output_type": "stream",
     "text": [
      "I eat bread\n",
      "I eat omelet\n",
      "I eat kebab\n",
      "I eat Padang rice\n",
      "I eat duck rice\n",
      "I eat meatballs\n"
     ]
    }
   ],
   "source": [
    "# for loop\n",
    "food = ['bread', 'omelet', 'kebab', 'Padang rice', 'duck rice', 'meatballs']\n",
    "\n",
    "for m in food:\n",
    "    print('I eat', m)"
   ]
  },
  {
   "cell_type": "markdown",
   "id": "f290c612-9c55-4dce-b8eb-1a52345b5da3",
   "metadata": {
    "tags": []
   },
   "source": [
    "### Statement `break` & `contitue`"
   ]
  },
  {
   "cell_type": "code",
   "execution_count": 16,
   "id": "03b76149-553f-409a-9e5c-77a0c1a1d556",
   "metadata": {
    "tags": []
   },
   "outputs": [
    {
     "name": "stdout",
     "output_type": "stream",
     "text": [
      "0\n",
      "1\n",
      "2\n"
     ]
    }
   ],
   "source": [
    "## Break statement\n",
    "## The break statement is used to exit a loop prematurely.\n",
    "\n",
    "for num in range(5):\n",
    "    if num == 3:\n",
    "        break\n",
    "    print(num)"
   ]
  },
  {
   "cell_type": "code",
   "execution_count": 17,
   "id": "b604eb7d-ec89-4340-863b-e337cbc16f7a",
   "metadata": {
    "tags": []
   },
   "outputs": [
    {
     "name": "stdout",
     "output_type": "stream",
     "text": [
      "0\n",
      "1\n",
      "2\n",
      "4\n",
      "5\n"
     ]
    }
   ],
   "source": [
    "## Continue statement\n",
    "## The continue statement skips the current iteration and continues with the next iteration.\n",
    "\n",
    "for num in range(6):\n",
    "    if num == 3:\n",
    "        continue\n",
    "    print(num)"
   ]
  },
  {
   "cell_type": "markdown",
   "id": "575d6c5c-e656-4bf2-9d82-398bdeef6b59",
   "metadata": {
    "tags": []
   },
   "source": [
    "## 5. Collections"
   ]
  },
  {
   "cell_type": "markdown",
   "id": "178693e9-9a41-4165-9033-d81179f5adda",
   "metadata": {},
   "source": [
    "| No | Data Types | Description | Example |\n",
    "| -- | --------- | --------- | ------ |\n",
    "| 1. | `list`    | Mutable ordering of objects | `[1, 2, 0, \"a\", \"c\", 'e', -9]` |\n",
    "| 2. | `tuple`   | Immutable ordering of objects | `(1, 2, 0, \"a\", \"c\", 'e', -9)` |\n",
    "| 3. | `dict`    | Group of couples `{key: value}` | `{\"name\": \"Kang Mas Haryo Sinuwun\", \"age\":33}` |"
   ]
  },
  {
   "cell_type": "markdown",
   "id": "e16a8188-cc2b-49b5-abe0-9e1685e17c85",
   "metadata": {
    "tags": []
   },
   "source": [
    "### List"
   ]
  },
  {
   "cell_type": "code",
   "execution_count": 18,
   "id": "456f49fe-d08e-4f71-bcc7-d56bcb282ad2",
   "metadata": {
    "tags": []
   },
   "outputs": [
    {
     "name": "stdout",
     "output_type": "stream",
     "text": [
      "['apple', 'banana', 'cherry']\n",
      "apple\n",
      "banana\n",
      "cherry\n",
      "['apple', 'banana', 'cherry', 'orange']\n",
      "['apple', 'cherry', 'orange']\n"
     ]
    }
   ],
   "source": [
    "\"\"\"\n",
    "Lists are ordered collections that are changeable and allow duplicate elements.\n",
    "\"\"\"\n",
    "# Creating a List\n",
    "fruits = [\"apple\", \"banana\", \"cherry\"]\n",
    "print(fruits)  # Output: ['apple', 'banana', 'cherry']\n",
    "\n",
    "# Accessing Elements\n",
    "print(fruits[0])  # Output: apple\n",
    "print(fruits[1])  # Output: banana\n",
    "print(fruits[-1]) # Output: cherry\n",
    "\n",
    "# Adding Elements\n",
    "fruits.append(\"orange\")\n",
    "print(fruits)  # Output: ['apple', 'banana', 'cherry', 'orange']\n",
    "\n",
    "# Removing Elements\n",
    "fruits.remove(\"banana\")\n",
    "print(fruits)  # Output: ['apple', 'cherry', 'orange']"
   ]
  },
  {
   "cell_type": "markdown",
   "id": "fa4c5a6a-f165-4d8d-959a-d53ff7a307b5",
   "metadata": {
    "tags": []
   },
   "source": [
    "### Tuple"
   ]
  },
  {
   "cell_type": "code",
   "execution_count": 19,
   "id": "abe44d69-2c0b-47e9-898b-5f4d42b9c388",
   "metadata": {
    "tags": []
   },
   "outputs": [
    {
     "name": "stdout",
     "output_type": "stream",
     "text": [
      "(1, 2, 3)\n",
      "1\n",
      "2\n",
      "3\n"
     ]
    }
   ],
   "source": [
    "\"\"\"\n",
    "Tuples are ordered collections that are unchangeable and allow duplicate elements.\n",
    "\"\"\"\n",
    "# Creating a Tuple\n",
    "coordinates = (1, 2, 3)\n",
    "print(coordinates)  # Output: (1, 2, 3)\n",
    "\n",
    "# Accessing Elements\n",
    "print(coordinates[0])  # Output: 1\n",
    "print(coordinates[1])  # Output: 2\n",
    "print(coordinates[-1]) # Output: 3"
   ]
  },
  {
   "cell_type": "markdown",
   "id": "b4fc6ef6-915f-47d1-a209-b8d738753d08",
   "metadata": {
    "tags": []
   },
   "source": [
    "### Set"
   ]
  },
  {
   "cell_type": "code",
   "execution_count": 20,
   "id": "69514d1e-3d86-40d7-9a6a-2791948357a6",
   "metadata": {
    "tags": []
   },
   "outputs": [
    {
     "name": "stdout",
     "output_type": "stream",
     "text": [
      "{'apple', 'cherry', 'banana'}\n",
      "{'apple', 'orange', 'cherry', 'banana'}\n",
      "{'apple', 'orange', 'cherry'}\n"
     ]
    }
   ],
   "source": [
    "\"\"\"\n",
    "Sets are unordered collections that do not allow duplicate elements.\n",
    "\"\"\"\n",
    "# Creating a Set\n",
    "fruits = {\"apple\", \"banana\", \"cherry\"}\n",
    "print(fruits)  # Output: {'banana', 'cherry', 'apple'}\n",
    "\n",
    "# Adding Elements\n",
    "fruits.add(\"orange\")\n",
    "print(fruits)  # Output: {'banana', 'cherry', 'apple', 'orange'}\n",
    "\n",
    "# Removing Elements\n",
    "fruits.remove(\"banana\")\n",
    "print(fruits)  # Output: {'cherry', 'apple', 'orange'}"
   ]
  },
  {
   "cell_type": "markdown",
   "id": "a18a561c-65be-49e7-a5f6-5d18715fa10c",
   "metadata": {
    "tags": []
   },
   "source": [
    "### Dictionary"
   ]
  },
  {
   "cell_type": "code",
   "execution_count": 21,
   "id": "cdb617f1-8c94-45a6-9270-cd1d78836801",
   "metadata": {
    "tags": []
   },
   "outputs": [
    {
     "name": "stdout",
     "output_type": "stream",
     "text": [
      "{'name': 'Kang Mas', 'age': 33, 'city': 'Surakarta'}\n",
      "Kang Mas\n",
      "33\n",
      "{'name': 'Kang Mas', 'age': 33, 'city': 'Surakarta', 'email': 'kangmas@example.com'}\n",
      "{'name': 'Kang Mas', 'city': 'Surakarta', 'email': 'kangmas@example.com'}\n"
     ]
    }
   ],
   "source": [
    "\"\"\"\n",
    "Dictionaries are collections of key-value pairs.\n",
    "\"\"\"\n",
    "\n",
    "# Creating a Dictionary\n",
    "person = {\n",
    "    \"name\": \"Kang Mas\",\n",
    "    \"age\": 33,\n",
    "    \"city\": \"Surakarta\"\n",
    "}\n",
    "print(person)  # Output: {'name': 'Kang Mas', 'age': 33, 'city': 'Yogyakarta'}\n",
    "\n",
    "# Accessing Values\n",
    "print(person[\"name\"])  # Output: Kang Mas\n",
    "print(person[\"age\"])   # Output: 33\n",
    "\n",
    "# Adding Key-Value Pairs\n",
    "person[\"email\"] = \"kangmas@example.com\"\n",
    "print(person)  # Output: {'name': 'Kang Mas', 'age': 33, 'city': 'Yogyakarta', 'email': 'kangmas@example.com'}\n",
    "\n",
    "# Removing Key-Value Pairs\n",
    "person.pop(\"age\")\n",
    "print(person)  # Output: {'name': 'Kang Mas', 'city': 'Yogyakarta', 'email': 'kangmas@example.com'}"
   ]
  },
  {
   "cell_type": "markdown",
   "id": "368b83cb-2690-4882-9ef7-b2f6b46b5f96",
   "metadata": {},
   "source": [
    "### Iterasi untuk setiap collections"
   ]
  },
  {
   "cell_type": "code",
   "execution_count": 22,
   "id": "ab1ad421-dff6-4890-a811-5c14f8c8b074",
   "metadata": {
    "tags": []
   },
   "outputs": [
    {
     "name": "stdout",
     "output_type": "stream",
     "text": [
      "apple\n",
      "banana\n",
      "cherry\n",
      "1\n",
      "2\n",
      "3\n",
      "apple\n",
      "cherry\n",
      "banana\n",
      "name: Alice\n",
      "age: 25\n",
      "city: New York\n"
     ]
    }
   ],
   "source": [
    "# Iterating Through a List\n",
    "fruits = [\"apple\", \"banana\", \"cherry\"]\n",
    "for fruit in fruits:\n",
    "    print(fruit)\n",
    "\n",
    "# Iterating Through a Tuple\n",
    "coordinates = (1, 2, 3)\n",
    "for coordinate in coordinates:\n",
    "    print(coordinate)\n",
    "\n",
    "# Iterating Through a Set\n",
    "fruits = {\"apple\", \"banana\", \"cherry\"}\n",
    "for fruit in fruits:\n",
    "    print(fruit)\n",
    "\n",
    "# Iterating Through a Dictionary\n",
    "person = {\n",
    "    \"name\": \"Alice\",\n",
    "    \"age\": 25,\n",
    "    \"city\": \"New York\"\n",
    "}\n",
    "\n",
    "for key, value in person.items():\n",
    "    print(f\"{key}: {value}\")"
   ]
  },
  {
   "cell_type": "markdown",
   "id": "13910876-8261-45e3-9b8f-0bea6fc60d1b",
   "metadata": {
    "tags": []
   },
   "source": [
    "## 6. File I/O dan Error handling"
   ]
  },
  {
   "cell_type": "markdown",
   "id": "1bcccb46-6983-4b8d-8103-f4d6a7a27516",
   "metadata": {
    "tags": []
   },
   "source": [
    "### File I/O"
   ]
  },
  {
   "cell_type": "code",
   "execution_count": 23,
   "id": "a9f08a16-fcd2-4c81-b706-fda2e26da701",
   "metadata": {
    "tags": []
   },
   "outputs": [
    {
     "ename": "StdinNotImplementedError",
     "evalue": "raw_input was called, but this frontend does not support input requests.",
     "output_type": "error",
     "traceback": [
      "\u001b[31m---------------------------------------------------------------------------\u001b[39m",
      "\u001b[31mStdinNotImplementedError\u001b[39m                  Traceback (most recent call last)",
      "\u001b[36mCell\u001b[39m\u001b[36m \u001b[39m\u001b[32mIn[23]\u001b[39m\u001b[32m, line 2\u001b[39m\n\u001b[32m      1\u001b[39m \u001b[38;5;66;03m# Input\u001b[39;00m\n\u001b[32m----> \u001b[39m\u001b[32m2\u001b[39m name = \u001b[38;5;28;43minput\u001b[39;49m\u001b[43m(\u001b[49m\u001b[33;43m\"\u001b[39;49m\u001b[33;43mWhat is your name? \u001b[39;49m\u001b[33;43m\"\u001b[39;49m\u001b[43m)\u001b[49m\n\u001b[32m      3\u001b[39m age = \u001b[38;5;28minput\u001b[39m(\u001b[33m\"\u001b[39m\u001b[33mHow old are you? \u001b[39m\u001b[33m\"\u001b[39m)\n\u001b[32m      4\u001b[39m \u001b[38;5;28mprint\u001b[39m(\u001b[33mf\u001b[39m\u001b[33m\"\u001b[39m\u001b[33mHello, \u001b[39m\u001b[38;5;132;01m{\u001b[39;00mname\u001b[38;5;132;01m}\u001b[39;00m\u001b[33m! You are \u001b[39m\u001b[38;5;132;01m{\u001b[39;00mage\u001b[38;5;132;01m}\u001b[39;00m\u001b[33m years old.\u001b[39m\u001b[33m\"\u001b[39m)\n",
      "\u001b[36mFile \u001b[39m\u001b[32m/opt/conda/envs/ofs/lib/python3.13/site-packages/ipykernel/kernelbase.py:1281\u001b[39m, in \u001b[36mKernel.raw_input\u001b[39m\u001b[34m(self, prompt)\u001b[39m\n\u001b[32m   1279\u001b[39m \u001b[38;5;28;01mif\u001b[39;00m \u001b[38;5;129;01mnot\u001b[39;00m \u001b[38;5;28mself\u001b[39m._allow_stdin:\n\u001b[32m   1280\u001b[39m     msg = \u001b[33m\"\u001b[39m\u001b[33mraw_input was called, but this frontend does not support input requests.\u001b[39m\u001b[33m\"\u001b[39m\n\u001b[32m-> \u001b[39m\u001b[32m1281\u001b[39m     \u001b[38;5;28;01mraise\u001b[39;00m StdinNotImplementedError(msg)\n\u001b[32m   1282\u001b[39m \u001b[38;5;28;01mreturn\u001b[39;00m \u001b[38;5;28mself\u001b[39m._input_request(\n\u001b[32m   1283\u001b[39m     \u001b[38;5;28mstr\u001b[39m(prompt),\n\u001b[32m   1284\u001b[39m     \u001b[38;5;28mself\u001b[39m._parent_ident[\u001b[33m\"\u001b[39m\u001b[33mshell\u001b[39m\u001b[33m\"\u001b[39m],\n\u001b[32m   1285\u001b[39m     \u001b[38;5;28mself\u001b[39m.get_parent(\u001b[33m\"\u001b[39m\u001b[33mshell\u001b[39m\u001b[33m\"\u001b[39m),\n\u001b[32m   1286\u001b[39m     password=\u001b[38;5;28;01mFalse\u001b[39;00m,\n\u001b[32m   1287\u001b[39m )\n",
      "\u001b[31mStdinNotImplementedError\u001b[39m: raw_input was called, but this frontend does not support input requests."
     ]
    }
   ],
   "source": [
    "# Input\n",
    "name = input(\"What is your name? \")\n",
    "age = input(\"How old are you? \")\n",
    "print(f\"Hello, {name}! You are {age} years old.\")"
   ]
  },
  {
   "cell_type": "code",
   "execution_count": 3,
   "id": "f886aa2d-adae-4d92-bbc2-436998cc66f2",
   "metadata": {
    "tags": []
   },
   "outputs": [],
   "source": [
    "# Output to File\n",
    "f = open(\"output.txt\", \"w\")\n",
    "f.write(\"First line\\n\")\n",
    "f.write(\"Second line\\n\")\n",
    "f.write(\"Third line\\n\" )\n",
    "f.close()"
   ]
  },
  {
   "cell_type": "code",
   "execution_count": 4,
   "id": "b122ea55-7a7d-419c-88d8-81addde1a5c1",
   "metadata": {
    "tags": []
   },
   "outputs": [],
   "source": [
    "# other style\n",
    "with open(\"output.txt\", \"w\") as f:\n",
    "    f.write(\"First line another way\\n\")\n",
    "    f.write(\"Second line another way\\n\")"
   ]
  },
  {
   "cell_type": "markdown",
   "id": "64cffce7-c7e2-4078-8441-b129896a386e",
   "metadata": {},
   "source": [
    "### Error handling"
   ]
  },
  {
   "cell_type": "code",
   "execution_count": 39,
   "id": "6c850866-77de-4a0f-b524-9cb3bbcb39ac",
   "metadata": {
    "tags": []
   },
   "outputs": [
    {
     "name": "stdout",
     "output_type": "stream",
     "text": [
      "Enter an odd number:  8\n"
     ]
    },
    {
     "name": "stdout",
     "output_type": "stream",
     "text": [
      "Error: The number must be odd!\n"
     ]
    }
   ],
   "source": [
    "## Simple Exception Handling\n",
    "try:\n",
    "    # Receive input from the user\n",
    "    number = int(input(\"Enter an odd number: \"))\n",
    "\n",
    "    # Check if the number is odd\n",
    "    if number % 2 == 0:\n",
    "        raise ValueError(\"Error: The number must be odd!\")\n",
    "    else:\n",
    "        print(\"Now this is an odd number:\", number)\n",
    "\n",
    "except Exception as error:\n",
    "  # Handle exceptions if the number entered is not odd\n",
    "  print(error)"
   ]
  },
  {
   "cell_type": "code",
   "execution_count": 40,
   "id": "bd618204-2bff-44b1-b2a0-e581f34be61f",
   "metadata": {
    "tags": []
   },
   "outputs": [
    {
     "name": "stdout",
     "output_type": "stream",
     "text": [
      "Error: File not found!\n",
      "Program completed.\n"
     ]
    }
   ],
   "source": [
    "## Exception Handling Complex\n",
    "try:\n",
    "    # Opening a file for reading\n",
    "    file = open('data.txt', 'r')\n",
    "    # Reading the contents of the file\n",
    "    isi_file = file.read()\n",
    "    # Closing the file\n",
    "    file.close()\n",
    "\n",
    "except FileNotFoundError:\n",
    "    # Handle exceptions if the file is not found\n",
    "    print(\"Error: File not found!\")\n",
    "\n",
    "except IOError:\n",
    "    # Handle general exceptions if an error occurs while reading or writing a file\n",
    "    print(\"Error: An error occurred while reading or writing the file!\")\n",
    "\n",
    "else:\n",
    "    # This block will be executed if no exception occurs\n",
    "    print(\"File contents:\")\n",
    "    print(isi_file)\n",
    "\n",
    "finally:\n",
    "    # This block will be executed regardless of what happens\n",
    "    print(\"Program completed.\")"
   ]
  }
 ],
 "metadata": {
  "kernelspec": {
   "display_name": "Python (OFS)",
   "language": "python",
   "name": "ofs"
  },
  "language_info": {
   "codemirror_mode": {
    "name": "ipython",
    "version": 3
   },
   "file_extension": ".py",
   "mimetype": "text/x-python",
   "name": "python",
   "nbconvert_exporter": "python",
   "pygments_lexer": "ipython3",
   "version": "3.13.3"
  }
 },
 "nbformat": 4,
 "nbformat_minor": 5
}