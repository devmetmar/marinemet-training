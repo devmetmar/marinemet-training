{
 "cells": [
  {
   "cell_type": "markdown",
   "id": "37cdca67-3b99-4650-92f8-286dbd3788ea",
   "metadata": {
    "tags": []
   },
   "source": [
    "# Jupyterlab as an IDE\n",
    "\n",
    "> Setelah membaca chapter ini, pembaca diharapkan dapat memahami Jupyterlab sebagai IDE secara tepat."
   ]
  },
  {
   "cell_type": "markdown",
   "id": "aadd662c-b3f5-41c4-9b5e-324d76185c9d",
   "metadata": {},
   "source": [
    "[JupyterLab](https://jupyterlab.readthedocs.io/en/latest/user/interface.html) adalah IDE (Integrated Development Environment) berbasis web yang interaktif dan fleksibel. Ideal untuk analisis data karena mendukung dokumentasi (Markdown), kode Python, dan visualisasi dalam satu antarmuka.\n",
    "\n",
    "Fitur Utama JupyterLab:\n",
    "- Cell-based execution: Kode dijalankan per blok\n",
    "- Visualisasi inline: Grafik langsung muncul di dalam notebook\n",
    "- Dukungan Markdown: Untuk menulis penjelasan dan dokumentasi\n",
    "- Layout yang dapat dicustom: tampilan multi window\n",
    "- Dukungan terminal, console, python, text, hingga csv editor."
   ]
  },
  {
   "cell_type": "markdown",
   "id": "7c592f6a-f500-48a7-8df5-41f941cc4d31",
   "metadata": {},
   "source": [
    "<div align=\"center\"><img src=\"https://raw.githubusercontent.com/devmetmar/marinemet-training/refs/heads/main/img/1_jupyterlab.png\" alt=\"jupyterlab\" width=\"800px\"/><br>***</div>\n",
    "\n",
    "---"
   ]
  },
  {
   "cell_type": "markdown",
   "id": "6c340651",
   "metadata": {},
   "source": [
    "## Platform [hub-training.pusmar.org](https://hub-training.pusmar.org/)"
   ]
  },
  {
   "cell_type": "markdown",
   "id": "db85ef34-5554-44c8-8e9c-e80448c6be3f",
   "metadata": {},
   "source": [
    "Platform hub-training.pusmar.org dibangun untuk memenuhi kebutuhan komputasi agar peserta secara merata dapat mengikuti pelatihan dengan lancar. Platform ini dibangun diatas kontainer (docker) menggunakan ekstensi jupyterhub untuk dapat menjalankan service jupyterlab multi user. Pada level user, tampilan yang tersedia merupakan tampilan jupyterlab secara umum."
   ]
  },
  {
   "cell_type": "markdown",
   "id": "da062e8c-3ae6-406c-90c8-fb7e88f2017a",
   "metadata": {},
   "source": [
    "### Halaman login\n",
    "\n",
    "List username dan password dapat diakses melalui pranala berikut [link.bmkg.go.id/userpass-hubtraining](https://link.bmkg.go.id/userpass-hubtraining).  "
   ]
  },
  {
   "cell_type": "markdown",
   "id": "2b933e9f-4820-4f23-b065-23cbfaaed1d8",
   "metadata": {},
   "source": [
    "<div align=\"center\"><img src=\"../img/1_hub_login.png\" alt=\"jupyterlab\" width=\"800px\"/></div>"
   ]
  },
  {
   "cell_type": "markdown",
   "id": "f6adfd7e-b41e-47ac-801c-b80807f6bbc3",
   "metadata": {},
   "source": [
    "### Halaman Menu Awal"
   ]
  },
  {
   "cell_type": "markdown",
   "id": "033f0e87-ea8e-4317-8428-82e277b1f825",
   "metadata": {},
   "source": [
    "Tampilan awal untuk pertama kali login tertera pada gambar dibawah. Dalam praktik ini, kita akan menggunakan file Notebook untuk melakukan pengolahan data. Source code yang akan digunakan dalam hands-on terdapat didalam folder `templates`."
   ]
  },
  {
   "cell_type": "markdown",
   "id": "bb8fc77a-659e-4710-b648-7bccbb80d729",
   "metadata": {},
   "source": [
    "<div align=\"center\"><img src=\"../img/1_hub_mainmenu.png\" alt=\"jupyterlab\" width=\"800px\"/></div>"
   ]
  },
  {
   "cell_type": "markdown",
   "id": "66f8af60-d481-4d25-945b-c3928608f1dc",
   "metadata": {},
   "source": [
    "### ✅Do's and Don'ts⚠️"
   ]
  },
  {
   "cell_type": "markdown",
   "id": "99f8e763-cb7c-4c2d-b13a-76233f34eaf8",
   "metadata": {},
   "source": [
    "#### Do’s ✅"
   ]
  },
  {
   "cell_type": "markdown",
   "id": "57d71852-5b4f-4982-82f0-9a1b9a71b799",
   "metadata": {},
   "source": [
    "##### 1. Sebelum memulai hands-on\n",
    "Untuk memulai pelatihan, langkah pertama adalah untuk menyalin folder templates berikut dengan files yang terdapat didalamnya.\n",
    "Langkah:\n",
    "1. Buka Terminal pada tab Launcher\n",
    "2. Pastikan berada didalam direktori home kemudian salin folder templates ke templates_edit menggunakan command `cp`.\n",
    "    ```bash\n",
    "    cd ~\n",
    "    cp --recursive templates templates_edit\n",
    "    ```\n",
    "    <div align=\"left\"><img src=\"../img/1_cp_folder.png\" alt=\"jupyterlab\" width=\"400px\"/></div>\n",
    "\n",
    "3. Selesai, peserta dapat mengikuti hands-on menggunakan file yang terdapat didalam folder templates_edit\n",
    "     <div align=\"left\"><img src=\"../img/1_templates_edit.png\" alt=\"jupyterlab\" width=\"200px\"/></div>\n",
    "4. Hanya lakukan ini sekali!\n",
    "\n",
    "##### 2. Kernel, terminal, dan tabs.\n",
    "\n",
    "Selalu mematikan kernel, terminal dan menutup tabs sebelum meninggalkan hub-training.pusmar.org. Close All dan Shut Down All pada menu Running kernel dan terminal di sebelah kiri.\n",
    "<div align=\"left\"><img src=\"../img/1_running_kernel.png\" alt=\"jupyterlab\" width=\"200px\"/></div>"
   ]
  },
  {
   "cell_type": "markdown",
   "id": "77f0ef3d-c2b5-4220-9c21-78a09731139e",
   "metadata": {},
   "source": [
    "#### Dont's ⚠️"
   ]
  },
  {
   "cell_type": "markdown",
   "id": "538d7714-8fbe-413f-9f7e-20880d5ba26b",
   "metadata": {},
   "source": [
    "1. Mengedit file didalam folder templates, selalu gunakan file yang tersimpan di dalam folder templates_edit selama pelatihan berlangsung.\n",
    "2. Melakukan pengolahan data yang sangat besar sehingga mengganggu performa server.\n",
    "3. Meninggalkan hub-training.pusmar.org dengan keadaan masih banyak tab terbuka dan kernel masih aktif. \n"
   ]
  }
 ],
 "metadata": {
  "kernelspec": {
   "display_name": "Python (OFS)",
   "language": "python",
   "name": "ofs"
  },
  "language_info": {
   "codemirror_mode": {
    "name": "ipython",
    "version": 3
   },
   "file_extension": ".py",
   "mimetype": "text/x-python",
   "name": "python",
   "nbconvert_exporter": "python",
   "pygments_lexer": "ipython3",
   "version": "3.13.3"
  }
 },
 "nbformat": 4,
 "nbformat_minor": 5
}
