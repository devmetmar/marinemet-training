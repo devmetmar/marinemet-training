{
 "cells": [
  {
   "cell_type": "markdown",
   "id": "37cdca67-3b99-4650-92f8-286dbd3788ea",
   "metadata": {
    "tags": []
   },
   "source": [
    "# Python function, module, and library\n",
    "\n",
    "---\n",
    "\n",
    "### Kompetensi \n",
    "- Memahami dasar-dasar pemrograman Python.\n",
    "\n",
    "### Indikator keberhasilan\n",
    "- Peserta dapat menjelaskan sintaks dasar Python (function, module, and library).\n",
    "\n",
    "---"
   ]
  },
  {
   "cell_type": "markdown",
   "id": "5cc01f7c-6d4a-4627-8f22-93e2b38ce180",
   "metadata": {
    "jp-MarkdownHeadingCollapsed": true,
    "tags": []
   },
   "source": [
    "## Function\n",
    "\n",
    "Sebuah *reusable* kode blok yang digunakan untuk menjalankan tugas tertentu."
   ]
  },
  {
   "cell_type": "code",
   "execution_count": 30,
   "id": "9bf50da0-3b8b-4826-968d-fcb316885455",
   "metadata": {
    "tags": []
   },
   "outputs": [
    {
     "name": "stdout",
     "output_type": "stream",
     "text": [
      "Hello, World!\n"
     ]
    }
   ],
   "source": [
    "# Defining a Function\n",
    "def greet():\n",
    "    print(\"Hello, World!\")\n",
    "\n",
    "# calling a function\n",
    "greet() # Output: Hello, World!"
   ]
  },
  {
   "cell_type": "code",
   "execution_count": 29,
   "id": "1ae21e9a-e6ec-4944-93cd-85cbc56e42c5",
   "metadata": {
    "tags": []
   },
   "outputs": [
    {
     "name": "stdout",
     "output_type": "stream",
     "text": [
      "Hello, Kang Mas Haryo Sinuwun!\n"
     ]
    }
   ],
   "source": [
    "# Fungsi dengan argument\n",
    "def greet(name):\n",
    "    print(f\"Hello, {name}!\")\n",
    "\n",
    "greet(\"Kang Mas Haryo Sinuwun\")  # Output: Hello, Kang Mas Haryo Sinuwun!"
   ]
  },
  {
   "cell_type": "code",
   "execution_count": 31,
   "id": "0ad9ecb1-e4ad-44f0-b6ad-8abcae76e44c",
   "metadata": {
    "tags": []
   },
   "outputs": [
    {
     "name": "stdout",
     "output_type": "stream",
     "text": [
      "I have a dog named Willie.\n"
     ]
    }
   ],
   "source": [
    "# keyword arguments\n",
    "def describe_pet(animal_type, pet_name):\n",
    "    print(f\"I have a {animal_type} named {pet_name}.\")\n",
    "\n",
    "describe_pet(pet_name=\"Willie\", animal_type=\"dog\")\n",
    "# Output: I have a dog named Willie."
   ]
  },
  {
   "cell_type": "markdown",
   "id": "e1ccbcdd-86d5-4c22-b2e1-960e4cd7ee1f",
   "metadata": {
    "jp-MarkdownHeadingCollapsed": true,
    "tags": []
   },
   "source": [
    "## Module"
   ]
  },
  {
   "cell_type": "markdown",
   "id": "a5de7804-ea7d-4554-ad32-4c273293a823",
   "metadata": {},
   "source": [
    "Modul adalah file yang berisi kode Python, yang dapat mencakup fungsi, kelas, dan variabel. Modul membantu mengatur kode ke dalam beberapa bagian yang mudah dikelola.\n",
    "\n",
    "```python\n",
    "# mymodule.py\n",
    "\n",
    "def greet(name):\n",
    "    return f\"Hello, {name}!\"\n",
    "\n",
    "import mymodule\n",
    "\n",
    "mymodule.greet(\"Kang Mas\")\n",
    "\n",
    "Output: Hello, Kang Mas\n",
    "```"
   ]
  },
  {
   "cell_type": "markdown",
   "id": "421b0442-ed11-4bd0-9397-861c96bf4499",
   "metadata": {},
   "source": [
    "Example of Python standard module"
   ]
  },
  {
   "cell_type": "code",
   "execution_count": 41,
   "id": "bc8f24ac-70ec-4b05-9fdd-a2d6fa73f325",
   "metadata": {
    "tags": []
   },
   "outputs": [
    {
     "name": "stdout",
     "output_type": "stream",
     "text": [
      "Square root of 9: 3.0\n",
      "Value of pi: 3.141592653589793\n"
     ]
    }
   ],
   "source": [
    "## Modul standart python, misalnya math\n",
    "import math\n",
    "\n",
    "# Calculate the square root of 2\n",
    "sqrt2 = math.sqrt(9)\n",
    "print(\"Square root of 9:\", sqrt2)\n",
    "\n",
    "# Calculate the value of pi\n",
    "pi = math.pi\n",
    "print(\"Value of pi:\", pi)"
   ]
  },
  {
   "cell_type": "markdown",
   "id": "013f9638",
   "metadata": {},
   "source": [
    "## Library"
   ]
  },
  {
   "cell_type": "markdown",
   "id": "d9846b7c-9a22-4203-92f6-4278d7d442bf",
   "metadata": {},
   "source": [
    "A library or package is a collection of modules in a directory that contains a special __init__.py file.\n",
    "\n",
    "```markdown\n",
    "mypackage/\n",
    "    __init__.py\n",
    "    module1.py\n",
    "    module2.py\n",
    "```\n",
    "\n",
    "Using package\n",
    "```python\n",
    "# main.py\n",
    "\n",
    "from mypackage import module1, module2\n",
    "\n",
    "print(module1.func1())  # Output: Function 1 from Module 1\n",
    "print(module2.func2())  # Output: Function 2 from Module 2\n",
    "```"
   ]
  },
  {
   "cell_type": "markdown",
   "id": "be7d07a1",
   "metadata": {},
   "source": [
    "Example of Python standard library\n",
    "\n",
    "The Python Standard Library contains a wide range of modules that provide access to system functionality."
   ]
  },
  {
   "cell_type": "code",
   "execution_count": 1,
   "id": "9448d73b-6955-49bd-bd7a-ab54e64c1801",
   "metadata": {},
   "outputs": [
    {
     "name": "stdout",
     "output_type": "stream",
     "text": [
      "/home/opn/apps/jupyterbook/marinemet-training/1_\n",
      "['1_1_4_python_function_mod_lib.ipynb', 'Test.csv', '1_2_python_libraries.ipynb', '1_4_data_visualization.ipynb', '1_3_data_manipulation.ipynb', '1_1_3_python_basic_syntax.ipynb', '1_1_2_jupyterlab.ipynb', '1_1_1_understanding_python_conda.ipynb', '1_0_intro.ipynb']\n"
     ]
    }
   ],
   "source": [
    "import os\n",
    "\n",
    "# Get current working directory\n",
    "print(os.getcwd())\n",
    "\n",
    "# List files in a directory\n",
    "print(os.listdir())\n",
    "\n",
    "# Create a directory\n",
    "os.mkdir(\"new_directory\")\n"
   ]
  }
 ],
 "metadata": {
  "kernelspec": {
   "display_name": "jupyterbook",
   "language": "python",
   "name": "python3"
  },
  "language_info": {
   "codemirror_mode": {
    "name": "ipython",
    "version": 3
   },
   "file_extension": ".py",
   "mimetype": "text/x-python",
   "name": "python",
   "nbconvert_exporter": "python",
   "pygments_lexer": "ipython3",
   "version": "3.13.2"
  }
 },
 "nbformat": 4,
 "nbformat_minor": 5
}
