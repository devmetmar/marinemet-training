{
 "cells": [
  {
   "cell_type": "markdown",
   "id": "dfe13e13-fbdf-4d8b-80b1-1b86501b7671",
   "metadata": {
    "tags": []
   },
   "source": [
    "# Python scientific libraries\n",
    "\n",
    "> Setelah membaca ini, pembaca diharapkan dapat memahami penggunaan library [NumPy](https://numpy.org/doc/stable/user/quickstart.html), [Pandas](https://pandas.pydata.org/docs/getting_started/intro_tutorials/01_table_oriented.html), dan [Matplotlib](https://matplotlib.org/stable/users/explain/quick_start.html) untuk pengolahan data."
   ]
  },
  {
   "cell_type": "markdown",
   "id": "12d81e3e-920b-4f04-90e7-ea6bf6405bc6",
   "metadata": {
    "tags": []
   },
   "source": [
    "## Mengapa menggunakan libraries?"
   ]
  },
  {
   "cell_type": "markdown",
   "id": "98496715-6d6f-4500-b019-c1f852131bd3",
   "metadata": {},
   "source": [
    "Library diperlukan untuk memudahkan pemrosesan data sesuai dengan fokus spesifik yang diperlukan. \n",
    "\n",
    "Library python yang umum digunakan dalam pengolahan data meteorologi maritim.\n",
    "\n",
    "| No | Library | Penggunaan |\n",
    "| - | :- | - |\n",
    "| 1 | NumPy | Manipulasi array |\n",
    "| 2 | Pandas | manipulasi data tabular |\n",
    "| 3 | Matplotlib | visualisasi data |\n",
    "| | ---Tidak disampaikan dalam Mata Pelatihan 1, namun di Mata Pelatihan 2--- | \n",
    "| 4 | Xarray | manipulasi data multidimensi |\n",
    "| 5 | Cartopy | visualisasi map |\n",
    "| 6 | Geopandas | manipulasi data geospasial |"
   ]
  },
  {
   "cell_type": "markdown",
   "id": "56cb41db-2627-4a76-a42e-0aae3a2d9455",
   "metadata": {
    "jp-MarkdownHeadingCollapsed": true,
    "tags": []
   },
   "source": [
    "## NumPy"
   ]
  },
  {
   "cell_type": "markdown",
   "id": "c4ad6fdd-b0f7-4167-b38f-78c15263ccd7",
   "metadata": {},
   "source": [
    "NumPy menyediakan dukungan untuk array, yang lebih efisien dan praktis daripada `list` Python untuk data numerik.\n",
    "\n",
    "> Konsep: Membuat array, atribut array, operasi array dasar."
   ]
  },
  {
   "cell_type": "code",
   "execution_count": 26,
   "id": "23ccec80-fc86-41ac-bae5-929b2a5959a7",
   "metadata": {
    "scrolled": true,
    "tags": []
   },
   "outputs": [],
   "source": [
    "# Mengimport library\n",
    "import numpy as np"
   ]
  },
  {
   "cell_type": "markdown",
   "id": "56c71763-6a56-4a1c-b203-364aff49ec34",
   "metadata": {
    "jp-MarkdownHeadingCollapsed": true,
    "tags": []
   },
   "source": [
    "### Creating NumPy array"
   ]
  },
  {
   "cell_type": "code",
   "execution_count": 44,
   "id": "5f1921b6-e7a5-4c86-b2dd-50e7f2074fb5",
   "metadata": {
    "tags": []
   },
   "outputs": [
    {
     "name": "stdout",
     "output_type": "stream",
     "text": [
      "[1 2 3 4 5]\n",
      "[[1.1 2.3]\n",
      " [3.1 4.2]]\n"
     ]
    }
   ],
   "source": [
    "# Create a one-dimensional array of integer\n",
    "arr = np.array([1,2,3,4,5])\n",
    "print(arr)\n",
    "\n",
    "# Create a 2D array of floats\n",
    "arr = np.array([[1.1, 2.3],[3.1,4.2]])\n",
    "print(arr)"
   ]
  },
  {
   "cell_type": "markdown",
   "id": "557f1c5e-319b-4176-9671-571910a898e5",
   "metadata": {
    "jp-MarkdownHeadingCollapsed": true,
    "tags": []
   },
   "source": [
    "### Indexing"
   ]
  },
  {
   "cell_type": "code",
   "execution_count": 46,
   "id": "3dac9785-be22-4738-8cf4-ac3f55256090",
   "metadata": {
    "tags": []
   },
   "outputs": [
    {
     "name": "stdout",
     "output_type": "stream",
     "text": [
      "[[1 2 3]\n",
      " [4 5 6]\n",
      " [7 8 9]]\n"
     ]
    }
   ],
   "source": [
    "# Indexing\n",
    "# Create a 2D array\n",
    "arr = np.array([[1,2,3],[4,5,6],[7,8,9]])\n",
    "print(arr)"
   ]
  },
  {
   "cell_type": "code",
   "execution_count": 47,
   "id": "b2ce5fea-8a2b-49f7-b68e-ddcfe5548b9f",
   "metadata": {
    "tags": []
   },
   "outputs": [
    {
     "name": "stdout",
     "output_type": "stream",
     "text": [
      "2\n"
     ]
    }
   ],
   "source": [
    "# Access the element in the first row, second column\n",
    "selected = arr[0,1]\n",
    "print(selected)"
   ]
  },
  {
   "cell_type": "markdown",
   "id": "8acb3d64-a15f-42bd-a9de-328418018cb8",
   "metadata": {
    "jp-MarkdownHeadingCollapsed": true,
    "tags": []
   },
   "source": [
    "### Slicing"
   ]
  },
  {
   "cell_type": "code",
   "execution_count": 49,
   "id": "ba54df0e-013b-411a-a9a5-ddacf87142ba",
   "metadata": {
    "tags": []
   },
   "outputs": [
    {
     "name": "stdout",
     "output_type": "stream",
     "text": [
      "[0 1 2 3 4 5 6 7 8 9]\n",
      "[0 1 2 3 4]\n",
      "[5 6 7 8 9]\n",
      "[0 2 4 6 8]\n"
     ]
    }
   ],
   "source": [
    "# Slicing\n",
    "# Create 1D array\n",
    "arr = np.arange(10)\n",
    "print(arr)\n",
    "\n",
    "# Access the FIRST 5 elements\n",
    "print(arr[:5])\n",
    "\n",
    "# Access the LAST 5 elements\n",
    "print(arr[-5:])\n",
    "\n",
    "# Access elements having even index\n",
    "print(arr[::2])\n"
   ]
  },
  {
   "cell_type": "markdown",
   "id": "d4483da7-e9ec-417e-bc84-c574a1aac376",
   "metadata": {
    "jp-MarkdownHeadingCollapsed": true,
    "tags": []
   },
   "source": [
    "### Math operations"
   ]
  },
  {
   "cell_type": "code",
   "execution_count": 50,
   "id": "521dd7c2-de82-4be1-88e7-e811f1f11883",
   "metadata": {
    "tags": []
   },
   "outputs": [
    {
     "name": "stdout",
     "output_type": "stream",
     "text": [
      "[1 2 3 4 5]\n",
      "[3 4 5 6 7]\n",
      "[ 3  6  9 12 15]\n",
      "55\n"
     ]
    }
   ],
   "source": [
    "# Mathematical Operations\n",
    "# Create 1D array\n",
    "arr = np.array([1,2,3,4,5])\n",
    "print(arr)\n",
    "\n",
    "# Operation of adding the value of each element\n",
    "print(arr+2)\n",
    "\n",
    "# Operation of multiplication of each element\n",
    "print(arr*3)\n",
    "\n",
    "# Compute dot products of the array with itself\n",
    "print(np.dot(arr,arr))"
   ]
  },
  {
   "cell_type": "markdown",
   "id": "2854c3b5-2e73-44b2-8668-87524730b4c7",
   "metadata": {
    "jp-MarkdownHeadingCollapsed": true,
    "tags": []
   },
   "source": [
    "### Aggregation"
   ]
  },
  {
   "cell_type": "code",
   "execution_count": 51,
   "id": "2195c835-e143-4397-9e2e-db9d58e9c9a2",
   "metadata": {
    "tags": []
   },
   "outputs": [
    {
     "name": "stdout",
     "output_type": "stream",
     "text": [
      "[1 2 3 4 5]\n",
      "5\n",
      "1\n",
      "1.4142135623730951\n"
     ]
    }
   ],
   "source": [
    "# Aggregation Operations\n",
    "# Create 1D array\n",
    "arr = np.array([1,2,3,4,5])\n",
    "print(arr)\n",
    "\n",
    "# Finding max value\n",
    "print(np.max(arr))\n",
    "\n",
    "# Finding min value\n",
    "print(np.min(arr))\n",
    "\n",
    "# Finding standard deviation\n",
    "print(np.std(arr))"
   ]
  },
  {
   "cell_type": "markdown",
   "id": "827e5caf-c2f9-4e41-ae62-12c336f6e5f8",
   "metadata": {
    "jp-MarkdownHeadingCollapsed": true,
    "tags": []
   },
   "source": [
    "### Reshaping and Transposing"
   ]
  },
  {
   "cell_type": "code",
   "execution_count": 52,
   "id": "99b6b78b-d61f-410c-b025-888aa8817c8b",
   "metadata": {
    "tags": []
   },
   "outputs": [
    {
     "name": "stdout",
     "output_type": "stream",
     "text": [
      "[1 2 3 4 5 6]\n",
      "[[1 2 3]\n",
      " [4 5 6]]\n",
      "[[1 4]\n",
      " [2 5]\n",
      " [3 6]]\n"
     ]
    }
   ],
   "source": [
    "# Create 1D array\n",
    "arr = np.array([1,2,3,4,5,6])\n",
    "print(arr)\n",
    "\n",
    "# Reshape the array into a 2D array\n",
    "result = arr.reshape(2,3)\n",
    "print(result)\n",
    "\n",
    "# Transpose array\n",
    "print(result.T)"
   ]
  },
  {
   "cell_type": "markdown",
   "id": "c0e6d28e-dbc6-43a3-b362-09328c20c8c1",
   "metadata": {
    "tags": []
   },
   "source": [
    "## Pandas"
   ]
  },
  {
   "cell_type": "code",
   "execution_count": 27,
   "id": "33294222-848e-48e5-95c8-5034273d7c41",
   "metadata": {
    "scrolled": true,
    "tags": []
   },
   "outputs": [],
   "source": [
    "# Mengimport library\n",
    "import pandas as pd"
   ]
  },
  {
   "cell_type": "markdown",
   "id": "038970c4-703e-4e03-b4d7-42d22a42dcc1",
   "metadata": {},
   "source": [
    "### Series dan DataFrame"
   ]
  },
  {
   "cell_type": "code",
   "execution_count": 54,
   "id": "837fe67c-f361-4f73-81e9-5ddff7c98c92",
   "metadata": {
    "tags": []
   },
   "outputs": [
    {
     "name": "stdout",
     "output_type": "stream",
     "text": [
      "0    1.0\n",
      "1    3.0\n",
      "2    5.0\n",
      "3    NaN\n",
      "4    6.0\n",
      "5    8.0\n",
      "dtype: float64\n",
      "   A  B\n",
      "0  1  5\n",
      "1  2  6\n",
      "2  3  7\n",
      "3  4  8\n",
      "     A  B\n",
      "aba  1  5\n",
      "abi  2  6\n",
      "iba  3  7\n",
      "abu  4  8\n"
     ]
    }
   ],
   "source": [
    "import pandas as pd\n",
    "\n",
    "# Create a Series\n",
    "s = pd.Series(\n",
    "    [1, 3, 5, np.nan, 6, 8]\n",
    ")\n",
    "print(s)\n",
    "\n",
    "df = pd.DataFrame({\n",
    "    'A': [1, 2, 3, 4],\n",
    "    'B': [5, 6, 7, 8]\n",
    "})\n",
    "print(df)\n",
    "\n",
    "# Create a DataFrame\n",
    "df = pd.DataFrame({\n",
    "    'A': [1, 2, 3, 4],\n",
    "    'B': [5, 6, 7, 8]},\n",
    "    index=['aba','abi','iba','abu', ]\n",
    ")\n",
    "print(df)\n",
    "\n",
    "df.to_csv('Test.csv')"
   ]
  },
  {
   "cell_type": "code",
   "execution_count": 55,
   "id": "b47b616c-cbf9-4eab-ad8a-c33c07920385",
   "metadata": {
    "tags": []
   },
   "outputs": [
    {
     "data": {
      "text/html": [
       "<div>\n",
       "<style scoped>\n",
       "    .dataframe tbody tr th:only-of-type {\n",
       "        vertical-align: middle;\n",
       "    }\n",
       "\n",
       "    .dataframe tbody tr th {\n",
       "        vertical-align: top;\n",
       "    }\n",
       "\n",
       "    .dataframe thead th {\n",
       "        text-align: right;\n",
       "    }\n",
       "</style>\n",
       "<table border=\"1\" class=\"dataframe\">\n",
       "  <thead>\n",
       "    <tr style=\"text-align: right;\">\n",
       "      <th></th>\n",
       "      <th>temp</th>\n",
       "      <th>rh</th>\n",
       "      <th>wx</th>\n",
       "    </tr>\n",
       "  </thead>\n",
       "  <tbody>\n",
       "    <tr>\n",
       "      <th>Jakarta</th>\n",
       "      <td>27</td>\n",
       "      <td>70</td>\n",
       "      <td>clear</td>\n",
       "    </tr>\n",
       "    <tr>\n",
       "      <th>Tokyo</th>\n",
       "      <td>30</td>\n",
       "      <td>75</td>\n",
       "      <td>cloudy</td>\n",
       "    </tr>\n",
       "    <tr>\n",
       "      <th>NewYork</th>\n",
       "      <td>29</td>\n",
       "      <td>80</td>\n",
       "      <td>rain</td>\n",
       "    </tr>\n",
       "  </tbody>\n",
       "</table>\n",
       "</div>"
      ],
      "text/plain": [
       "         temp  rh      wx\n",
       "Jakarta    27  70   clear\n",
       "Tokyo      30  75  cloudy\n",
       "NewYork    29  80    rain"
      ]
     },
     "execution_count": 55,
     "metadata": {},
     "output_type": "execute_result"
    }
   ],
   "source": [
    "# Membuat dataframe\n",
    "data = {'temp': [27,30,29],\n",
    "        'rh': [70,75,80],\n",
    "        'wx': ['clear','cloudy','rain']}\n",
    "\n",
    "df = pd.DataFrame(data,index=['Jakarta','Tokyo','NewYork'])\n",
    "df"
   ]
  },
  {
   "cell_type": "code",
   "execution_count": 38,
   "id": "ee0fd442-8547-4669-8bf2-3085cdceadfc",
   "metadata": {
    "scrolled": true,
    "tags": []
   },
   "outputs": [
    {
     "data": {
      "text/html": [
       "<div>\n",
       "<style scoped>\n",
       "    .dataframe tbody tr th:only-of-type {\n",
       "        vertical-align: middle;\n",
       "    }\n",
       "\n",
       "    .dataframe tbody tr th {\n",
       "        vertical-align: top;\n",
       "    }\n",
       "\n",
       "    .dataframe thead th {\n",
       "        text-align: right;\n",
       "    }\n",
       "</style>\n",
       "<table border=\"1\" class=\"dataframe\">\n",
       "  <thead>\n",
       "    <tr style=\"text-align: right;\">\n",
       "      <th></th>\n",
       "      <th>CH (mm/day)</th>\n",
       "    </tr>\n",
       "  </thead>\n",
       "  <tbody>\n",
       "    <tr>\n",
       "      <th>count</th>\n",
       "      <td>3.000000</td>\n",
       "    </tr>\n",
       "    <tr>\n",
       "      <th>mean</th>\n",
       "      <td>52.333333</td>\n",
       "    </tr>\n",
       "    <tr>\n",
       "      <th>std</th>\n",
       "      <td>41.789153</td>\n",
       "    </tr>\n",
       "    <tr>\n",
       "      <th>min</th>\n",
       "      <td>22.000000</td>\n",
       "    </tr>\n",
       "    <tr>\n",
       "      <th>25%</th>\n",
       "      <td>28.500000</td>\n",
       "    </tr>\n",
       "    <tr>\n",
       "      <th>50%</th>\n",
       "      <td>35.000000</td>\n",
       "    </tr>\n",
       "    <tr>\n",
       "      <th>75%</th>\n",
       "      <td>67.500000</td>\n",
       "    </tr>\n",
       "    <tr>\n",
       "      <th>max</th>\n",
       "      <td>100.000000</td>\n",
       "    </tr>\n",
       "  </tbody>\n",
       "</table>\n",
       "</div>"
      ],
      "text/plain": [
       "       CH (mm/day)\n",
       "count     3.000000\n",
       "mean     52.333333\n",
       "std      41.789153\n",
       "min      22.000000\n",
       "25%      28.500000\n",
       "50%      35.000000\n",
       "75%      67.500000\n",
       "max     100.000000"
      ]
     },
     "execution_count": 38,
     "metadata": {},
     "output_type": "execute_result"
    }
   ],
   "source": [
    "df.describe()"
   ]
  },
  {
   "cell_type": "markdown",
   "id": "37518848-a9b4-44a5-9aa6-81c70083c904",
   "metadata": {},
   "source": [
    "### Math operations"
   ]
  },
  {
   "cell_type": "code",
   "execution_count": 56,
   "id": "45f1bce2-ed9b-4859-9c18-08a3365a4b27",
   "metadata": {
    "tags": []
   },
   "outputs": [
    {
     "data": {
      "text/html": [
       "<div>\n",
       "<style scoped>\n",
       "    .dataframe tbody tr th:only-of-type {\n",
       "        vertical-align: middle;\n",
       "    }\n",
       "\n",
       "    .dataframe tbody tr th {\n",
       "        vertical-align: top;\n",
       "    }\n",
       "\n",
       "    .dataframe thead th {\n",
       "        text-align: right;\n",
       "    }\n",
       "</style>\n",
       "<table border=\"1\" class=\"dataframe\">\n",
       "  <thead>\n",
       "    <tr style=\"text-align: right;\">\n",
       "      <th></th>\n",
       "      <th>temp</th>\n",
       "      <th>rh</th>\n",
       "      <th>wx</th>\n",
       "      <th>comfort_index</th>\n",
       "    </tr>\n",
       "  </thead>\n",
       "  <tbody>\n",
       "    <tr>\n",
       "      <th>Jakarta</th>\n",
       "      <td>27</td>\n",
       "      <td>70</td>\n",
       "      <td>clear</td>\n",
       "      <td>48.5</td>\n",
       "    </tr>\n",
       "    <tr>\n",
       "      <th>Tokyo</th>\n",
       "      <td>30</td>\n",
       "      <td>75</td>\n",
       "      <td>cloudy</td>\n",
       "      <td>52.5</td>\n",
       "    </tr>\n",
       "    <tr>\n",
       "      <th>NewYork</th>\n",
       "      <td>29</td>\n",
       "      <td>80</td>\n",
       "      <td>rain</td>\n",
       "      <td>54.5</td>\n",
       "    </tr>\n",
       "  </tbody>\n",
       "</table>\n",
       "</div>"
      ],
      "text/plain": [
       "         temp  rh      wx  comfort_index\n",
       "Jakarta    27  70   clear           48.5\n",
       "Tokyo      30  75  cloudy           52.5\n",
       "NewYork    29  80    rain           54.5"
      ]
     },
     "execution_count": 56,
     "metadata": {},
     "output_type": "execute_result"
    }
   ],
   "source": [
    "comfort_index = 0.5*(df['temp']+df['rh'])\n",
    "df['comfort_index'] = comfort_index\n",
    "df"
   ]
  },
  {
   "cell_type": "code",
   "execution_count": 57,
   "id": "a3b17b89-c6c7-433e-ad45-8d314434b3d7",
   "metadata": {
    "tags": []
   },
   "outputs": [
    {
     "data": {
      "text/html": [
       "<div>\n",
       "<style scoped>\n",
       "    .dataframe tbody tr th:only-of-type {\n",
       "        vertical-align: middle;\n",
       "    }\n",
       "\n",
       "    .dataframe tbody tr th {\n",
       "        vertical-align: top;\n",
       "    }\n",
       "\n",
       "    .dataframe thead th {\n",
       "        text-align: right;\n",
       "    }\n",
       "</style>\n",
       "<table border=\"1\" class=\"dataframe\">\n",
       "  <thead>\n",
       "    <tr style=\"text-align: right;\">\n",
       "      <th></th>\n",
       "      <th>temp</th>\n",
       "      <th>rh</th>\n",
       "      <th>wx</th>\n",
       "      <th>comfort_index</th>\n",
       "    </tr>\n",
       "  </thead>\n",
       "  <tbody>\n",
       "    <tr>\n",
       "      <th>Jakarta</th>\n",
       "      <td>29</td>\n",
       "      <td>70</td>\n",
       "      <td>clear</td>\n",
       "      <td>48.5</td>\n",
       "    </tr>\n",
       "    <tr>\n",
       "      <th>Tokyo</th>\n",
       "      <td>28</td>\n",
       "      <td>75</td>\n",
       "      <td>cloudy</td>\n",
       "      <td>52.5</td>\n",
       "    </tr>\n",
       "    <tr>\n",
       "      <th>NewYork</th>\n",
       "      <td>29</td>\n",
       "      <td>80</td>\n",
       "      <td>rain</td>\n",
       "      <td>54.5</td>\n",
       "    </tr>\n",
       "  </tbody>\n",
       "</table>\n",
       "</div>"
      ],
      "text/plain": [
       "         temp  rh      wx  comfort_index\n",
       "Jakarta    29  70   clear           48.5\n",
       "Tokyo      28  75  cloudy           52.5\n",
       "NewYork    29  80    rain           54.5"
      ]
     },
     "execution_count": 57,
     "metadata": {},
     "output_type": "execute_result"
    }
   ],
   "source": [
    "df.loc['Jakarta', 'temp'] += 2\n",
    "df.loc['Tokyo', 'temp'] -= 2\n",
    "df"
   ]
  },
  {
   "cell_type": "code",
   "execution_count": 58,
   "id": "dfc4fdf5-1b54-42c4-aa0e-54ade7c6be1d",
   "metadata": {
    "tags": []
   },
   "outputs": [
    {
     "name": "stdout",
     "output_type": "stream",
     "text": [
      "70 75.0 80 72.5 77.5\n"
     ]
    }
   ],
   "source": [
    "# Agregration, simple stats\n",
    "RHmin = df['rh'].min()\n",
    "RHmean = df['rh'].mean()\n",
    "RHmax = df['rh'].max()\n",
    "RHQ1 = df['rh'].quantile(0.25)\n",
    "RHQ3 = df['rh'].quantile(0.75)\n",
    "print(RHmin,RHmean,RHmax,RHQ1,RHQ3)"
   ]
  },
  {
   "cell_type": "markdown",
   "id": "142d98dd-3dba-4b90-b1d1-770e597a39a3",
   "metadata": {},
   "source": [
    "> ### WORTH TO TRY\n",
    "\n",
    "1. Buatlah sebuah dataframe berisi 2 kolom: bilangan ganjil 1 - 100 dan bilangan genap 1 - 100.\n",
    "2. Buatlah 1 kolom baru berisi hasil perhitungan 2*(elemen ganjil + elemen genap)\n",
    "3. Buatlah 1 kolom baru berisi Boolean untuk menandakan apakah bilangan ganjil di baris yang sama bilangan prima. Hint: buat fungsi dan gunakan pandas apply method"
   ]
  },
  {
   "cell_type": "markdown",
   "id": "a5351952-124d-4548-b1bf-5396fc091dbe",
   "metadata": {
    "tags": []
   },
   "source": [
    "## Matplotlib"
   ]
  },
  {
   "cell_type": "code",
   "execution_count": 39,
   "id": "c9e45b01-e11c-48e5-b8f3-31fa89c6ac19",
   "metadata": {
    "scrolled": true,
    "tags": []
   },
   "outputs": [
    {
     "data": {
      "image/png": "[encoded data removed]",
      "text/plain": [
       "<Figure size 640x480 with 1 Axes>"
      ]
     },
     "metadata": {},
     "output_type": "display_data"
    }
   ],
   "source": [
    "# Mengimport library\n",
    "import matplotlib.pyplot as plt\n",
    "\n",
    "fig, ax = plt.subplots()             # Create a figure containing a single Axes.\n",
    "ax.plot([1, 2, 3, 4], [1, 4, 2, 3])  # Plot some data on the Axes.\n",
    "plt.show()                           # Show the figure."
   ]
  },
  {
   "cell_type": "markdown",
   "id": "b6cc8b67-e7f0-4aa8-92ed-3c44eedd0517",
   "metadata": {},
   "source": [
    "---\n",
    "Bagian-bagian dari plot matplotlib\n",
    "\n",
    "<img src=\"https://matplotlib.org/stable/_images/anatomy.png\" alt=\"matplotlib anatomy\" style=\"width:500px;\"/>"
   ]
  },
  {
   "cell_type": "code",
   "execution_count": 59,
   "id": "3ff376f4-ea86-4310-995a-c0332c5eeee5",
   "metadata": {
    "tags": []
   },
   "outputs": [
    {
     "data": {
      "text/plain": [
       "<Figure size 640x480 with 0 Axes>"
      ]
     },
     "metadata": {},
     "output_type": "display_data"
    }
   ],
   "source": [
    "fig = plt.figure()\n",
    "plt.show()"
   ]
  },
  {
   "cell_type": "code",
   "execution_count": 60,
   "id": "c3567987-4d35-46e4-b00f-5cf5f52ec245",
   "metadata": {
    "tags": []
   },
   "outputs": [
    {
     "data": {
      "text/plain": [
       "<Figure size 1300x500 with 0 Axes>"
      ]
     },
     "metadata": {},
     "output_type": "display_data"
    }
   ],
   "source": [
    "fig = plt.figure(figsize=(13,5))"
   ]
  },
  {
   "cell_type": "code",
   "execution_count": 61,
   "id": "665c76d9-eb8f-4e7e-82e7-aeab42d4a640",
   "metadata": {
    "tags": []
   },
   "outputs": [
    {
     "data": {
      "image/png": "[encoded data removed]",
      "text/plain": [
       "<Figure size 640x480 with 1 Axes>"
      ]
     },
     "metadata": {},
     "output_type": "display_data"
    }
   ],
   "source": [
    "import numpy as np\n",
    "np.linspace(0, 100, 11)\n",
    "np.zeros((2, 1), int)\n",
    "\n",
    "fig = plt.figure()\n",
    "ax = fig.add_axes([0,0,1,1])"
   ]
  },
  {
   "cell_type": "code",
   "execution_count": 62,
   "id": "3fa7e083-a7d4-4c24-be87-8e1516ae623d",
   "metadata": {
    "tags": []
   },
   "outputs": [
    {
     "data": {
      "image/png": "[encoded data removed]",
      "text/plain": [
       "<Figure size 640x480 with 2 Axes>"
      ]
     },
     "metadata": {},
     "output_type": "display_data"
    }
   ],
   "source": [
    "fig = plt.figure()\n",
    "ax1 = fig.add_axes([0,0,1,1])\n",
    "ax2 = fig.add_axes([0.6,0,0.3,0.5], facecolor='b')"
   ]
  },
  {
   "cell_type": "code",
   "execution_count": 63,
   "id": "e62bc791-b13d-46c9-97c4-4aeb7ef001bc",
   "metadata": {
    "scrolled": true,
    "tags": []
   },
   "outputs": [
    {
     "data": {
      "image/png": "[encoded data removed]",
      "text/plain": [
       "<Figure size 1200x600 with 6 Axes>"
      ]
     },
     "metadata": {},
     "output_type": "display_data"
    },
    {
     "data": {
      "text/plain": [
       "\u001b[31mSignature:\u001b[39m\n",
       "plt.subplots(\n",
       "    nrows: \u001b[33m'int'\u001b[39m = \u001b[32m1\u001b[39m,\n",
       "    ncols: \u001b[33m'int'\u001b[39m = \u001b[32m1\u001b[39m,\n",
       "    *,\n",
       "    sharex: \u001b[33m\"bool | Literal['none', 'all', 'row', 'col']\"\u001b[39m = \u001b[38;5;28;01mFalse\u001b[39;00m,\n",
       "    sharey: \u001b[33m\"bool | Literal['none', 'all', 'row', 'col']\"\u001b[39m = \u001b[38;5;28;01mFalse\u001b[39;00m,\n",
       "    squeeze: \u001b[33m'bool'\u001b[39m = \u001b[38;5;28;01mTrue\u001b[39;00m,\n",
       "    width_ratios: \u001b[33m'Sequence[float] | None'\u001b[39m = \u001b[38;5;28;01mNone\u001b[39;00m,\n",
       "    height_ratios: \u001b[33m'Sequence[float] | None'\u001b[39m = \u001b[38;5;28;01mNone\u001b[39;00m,\n",
       "    subplot_kw: \u001b[33m'dict[str, Any] | None'\u001b[39m = \u001b[38;5;28;01mNone\u001b[39;00m,\n",
       "    gridspec_kw: \u001b[33m'dict[str, Any] | None'\u001b[39m = \u001b[38;5;28;01mNone\u001b[39;00m,\n",
       "    **fig_kw,\n",
       ") -> \u001b[33m'tuple[Figure, Any]'\u001b[39m\n",
       "\u001b[31mDocstring:\u001b[39m\n",
       "Create a figure and a set of subplots.\n",
       "\n",
       "This utility wrapper makes it convenient to create common layouts of\n",
       "subplots, including the enclosing figure object, in a single call.\n",
       "\n",
       "Parameters\n",
       "----------\n",
       "nrows, ncols : int, default: 1\n",
       "    Number of rows/columns of the subplot grid.\n",
       "\n",
       "sharex, sharey : bool or {'none', 'all', 'row', 'col'}, default: False\n",
       "    Controls sharing of properties among x (*sharex*) or y (*sharey*)\n",
       "    axes:\n",
       "\n",
       "    - True or 'all': x- or y-axis will be shared among all subplots.\n",
       "    - False or 'none': each subplot x- or y-axis will be independent.\n",
       "    - 'row': each subplot row will share an x- or y-axis.\n",
       "    - 'col': each subplot column will share an x- or y-axis.\n",
       "\n",
       "    When subplots have a shared x-axis along a column, only the x tick\n",
       "    labels of the bottom subplot are created. Similarly, when subplots\n",
       "    have a shared y-axis along a row, only the y tick labels of the first\n",
       "    column subplot are created. To later turn other subplots' ticklabels\n",
       "    on, use `~matplotlib.axes.Axes.tick_params`.\n",
       "\n",
       "    When subplots have a shared axis that has units, calling\n",
       "    `.Axis.set_units` will update each axis with the new units.\n",
       "\n",
       "    Note that it is not possible to unshare axes.\n",
       "\n",
       "squeeze : bool, default: True\n",
       "    - If True, extra dimensions are squeezed out from the returned\n",
       "      array of `~matplotlib.axes.Axes`:\n",
       "\n",
       "      - if only one subplot is constructed (nrows=ncols=1), the\n",
       "        resulting single Axes object is returned as a scalar.\n",
       "      - for Nx1 or 1xM subplots, the returned object is a 1D numpy\n",
       "        object array of Axes objects.\n",
       "      - for NxM, subplots with N>1 and M>1 are returned as a 2D array.\n",
       "\n",
       "    - If False, no squeezing at all is done: the returned Axes object is\n",
       "      always a 2D array containing Axes instances, even if it ends up\n",
       "      being 1x1.\n",
       "\n",
       "width_ratios : array-like of length *ncols*, optional\n",
       "    Defines the relative widths of the columns. Each column gets a\n",
       "    relative width of ``width_ratios[i] / sum(width_ratios)``.\n",
       "    If not given, all columns will have the same width.  Equivalent\n",
       "    to ``gridspec_kw={'width_ratios': [...]}``.\n",
       "\n",
       "height_ratios : array-like of length *nrows*, optional\n",
       "    Defines the relative heights of the rows. Each row gets a\n",
       "    relative height of ``height_ratios[i] / sum(height_ratios)``.\n",
       "    If not given, all rows will have the same height. Convenience\n",
       "    for ``gridspec_kw={'height_ratios': [...]}``.\n",
       "\n",
       "subplot_kw : dict, optional\n",
       "    Dict with keywords passed to the\n",
       "    `~matplotlib.figure.Figure.add_subplot` call used to create each\n",
       "    subplot.\n",
       "\n",
       "gridspec_kw : dict, optional\n",
       "    Dict with keywords passed to the `~matplotlib.gridspec.GridSpec`\n",
       "    constructor used to create the grid the subplots are placed on.\n",
       "\n",
       "**fig_kw\n",
       "    All additional keyword arguments are passed to the\n",
       "    `.pyplot.figure` call.\n",
       "\n",
       "Returns\n",
       "-------\n",
       "fig : `.Figure`\n",
       "\n",
       "ax : `~matplotlib.axes.Axes` or array of Axes\n",
       "    *ax* can be either a single `~.axes.Axes` object, or an array of Axes\n",
       "    objects if more than one subplot was created.  The dimensions of the\n",
       "    resulting array can be controlled with the squeeze keyword, see above.\n",
       "\n",
       "    Typical idioms for handling the return value are::\n",
       "\n",
       "        # using the variable ax for single a Axes\n",
       "        fig, ax = plt.subplots()\n",
       "\n",
       "        # using the variable axs for multiple Axes\n",
       "        fig, axs = plt.subplots(2, 2)\n",
       "\n",
       "        # using tuple unpacking for multiple Axes\n",
       "        fig, (ax1, ax2) = plt.subplots(1, 2)\n",
       "        fig, ((ax1, ax2), (ax3, ax4)) = plt.subplots(2, 2)\n",
       "\n",
       "    The names ``ax`` and pluralized ``axs`` are preferred over ``axes``\n",
       "    because for the latter it's not clear if it refers to a single\n",
       "    `~.axes.Axes` instance or a collection of these.\n",
       "\n",
       "See Also\n",
       "--------\n",
       ".pyplot.figure\n",
       ".pyplot.subplot\n",
       ".pyplot.axes\n",
       ".Figure.subplots\n",
       ".Figure.add_subplot\n",
       "\n",
       "Examples\n",
       "--------\n",
       "::\n",
       "\n",
       "    # First create some toy data:\n",
       "    x = np.linspace(0, 2*np.pi, 400)\n",
       "    y = np.sin(x**2)\n",
       "\n",
       "    # Create just a figure and only one subplot\n",
       "    fig, ax = plt.subplots()\n",
       "    ax.plot(x, y)\n",
       "    ax.set_title('Simple plot')\n",
       "\n",
       "    # Create two subplots and unpack the output array immediately\n",
       "    f, (ax1, ax2) = plt.subplots(1, 2, sharey=True)\n",
       "    ax1.plot(x, y)\n",
       "    ax1.set_title('Sharing Y axis')\n",
       "    ax2.scatter(x, y)\n",
       "\n",
       "    # Create four polar Axes and access them through the returned array\n",
       "    fig, axs = plt.subplots(2, 2, subplot_kw=dict(projection=\"polar\"))\n",
       "    axs[0, 0].plot(x, y)\n",
       "    axs[1, 1].scatter(x, y)\n",
       "\n",
       "    # Share a X axis with each column of subplots\n",
       "    plt.subplots(2, 2, sharex='col')\n",
       "\n",
       "    # Share a Y axis with each row of subplots\n",
       "    plt.subplots(2, 2, sharey='row')\n",
       "\n",
       "    # Share both X and Y axes with all subplots\n",
       "    plt.subplots(2, 2, sharex='all', sharey='all')\n",
       "\n",
       "    # Note that this is the same as\n",
       "    plt.subplots(2, 2, sharex=True, sharey=True)\n",
       "\n",
       "    # Create figure number 10 with a single subplot\n",
       "    # and clears it if it already exists.\n",
       "    fig, ax = plt.subplots(num=10, clear=True)\n",
       "\u001b[31mFile:\u001b[39m      ~/miniconda3/envs/ofs/lib/python3.13/site-packages/matplotlib/pyplot.py\n",
       "\u001b[31mType:\u001b[39m      function"
      ]
     },
     "metadata": {},
     "output_type": "display_data"
    }
   ],
   "source": [
    "fig = plt.figure(figsize=(12,6))\n",
    "axes = fig.subplots(nrows=2, ncols=3)\n",
    "plt.subplots?"
   ]
  },
  {
   "cell_type": "code",
   "execution_count": 64,
   "id": "169fa4ff-c7ee-40c6-82d2-001b2e75025a",
   "metadata": {
    "tags": []
   },
   "outputs": [
    {
     "data": {
      "image/png": "[encoded data removed]",
      "text/plain": [
       "<Figure size 400x200 with 1 Axes>"
      ]
     },
     "metadata": {},
     "output_type": "display_data"
    }
   ],
   "source": [
    "fig,ax = plt.subplots(figsize=(4,2))\n",
    "ax.plot([1,2,3],[4,5,1])\n",
    "ax.plot([1,2,3],[3,2,4])\n",
    "plt.show()"
   ]
  },
  {
   "cell_type": "code",
   "execution_count": 66,
   "id": "1999e387-e919-40ca-8891-4b4edbb8bb47",
   "metadata": {
    "tags": []
   },
   "outputs": [
    {
     "data": {
      "image/png": "[encoded data removed]",
      "text/plain": [
       "<Figure size 900x200 with 2 Axes>"
      ]
     },
     "metadata": {},
     "output_type": "display_data"
    }
   ],
   "source": [
    "fig,ax = plt.subplots(figsize=(9,2),ncols=2)\n",
    "ax0,ax1 = ax\n",
    "\n",
    "ax0.plot([1,2,3],[4,5,1])\n",
    "ax0.set_xlabel('bulan')\n",
    "ax0.set_ylabel('kualitas')\n",
    "ax0.set_title('series kualitas')\n",
    "\n",
    "ax1.plot([1,2,3],[3,2,4])\n",
    "ax1.set_xlabel('bulan')\n",
    "ax1.set_ylabel('kuantitas')\n",
    "ax1.set_title('series kuantitas')\n",
    "\n",
    "plt.show()"
   ]
  },
  {
   "cell_type": "code",
   "execution_count": 68,
   "id": "57e9bafb-3d1f-4d72-8021-ea9545d49e49",
   "metadata": {
    "tags": []
   },
   "outputs": [
    {
     "data": {
      "text/plain": [
       "Text(0, 0, 'the maximum')"
      ]
     },
     "execution_count": 68,
     "metadata": {},
     "output_type": "execute_result"
    },
    {
     "data": {
      "image/png": "[encoded data removed]",
      "text/plain": [
       "<Figure size 640x480 with 1 Axes>"
      ]
     },
     "metadata": {},
     "output_type": "display_data"
    }
   ],
   "source": [
    "import numpy as np\n",
    "x = np.linspace(-np.pi, np.pi, 100)\n",
    "y = np.cos(x)\n",
    "z = np.sin(6*x)\n",
    "\n",
    "fig, ax = plt.subplots()\n",
    "ax.plot(x, y)\n",
    "ax.text(-3, 0.3, 'hello world')\n",
    "ax.annotate('the maximum', xy=(0, 1),\n",
    "             xytext=(0, 0), arrowprops={'facecolor': 'k'})"
   ]
  },
  {
   "cell_type": "markdown",
   "id": "e2d9fc0f-c8d0-4803-b380-ca4dcd190470",
   "metadata": {
    "jp-MarkdownHeadingCollapsed": true,
    "tags": []
   },
   "source": [
    "## E. Tips"
   ]
  },
  {
   "cell_type": "markdown",
   "id": "7dc7f9a4-3bc1-49d6-b049-025b3eeb2d1e",
   "metadata": {
    "tags": []
   },
   "source": [
    "#### 1. Memanggil method yang tersimpan dalam library\n",
    "\n",
    "Method dapat dipanggil dengan menambahkan `.` kemudian tab keyboard.\n",
    "\n",
    "<div align=\"center\"><img src=\"../img/1_method_call.png\" alt=\"drawing\" width=\"300\"/><br>***</div>"
   ]
  },
  {
   "cell_type": "code",
   "execution_count": null,
   "id": "23f703bb-2ead-40ee-aec1-e685d904e8f1",
   "metadata": {},
   "outputs": [],
   "source": [
    "np."
   ]
  },
  {
   "cell_type": "markdown",
   "id": "23cc079b-1eeb-4526-8f86-6959e5919513",
   "metadata": {
    "tags": []
   },
   "source": [
    "#### 2. Mendapatkan bantuan\n",
    "\n",
    "Bantuan menggunakan command `help` atau `?`."
   ]
  },
  {
   "cell_type": "code",
   "execution_count": 31,
   "id": "543b5e14-44c2-4e42-b499-4dc53eea0a43",
   "metadata": {
    "scrolled": true
   },
   "outputs": [
    {
     "name": "stdout",
     "output_type": "stream",
     "text": [
      "Help on built-in function array in module numpy:\n",
      "\n",
      "array(...)\n",
      "    array(object, dtype=None, *, copy=True, order='K', subok=False, ndmin=0,\n",
      "          like=None)\n",
      "\n",
      "    Create an array.\n",
      "\n",
      "    Parameters\n",
      "    ----------\n",
      "    object : array_like\n",
      "        An array, any object exposing the array interface, an object whose\n",
      "        ``__array__`` method returns an array, or any (nested) sequence.\n",
      "        If object is a scalar, a 0-dimensional array containing object is\n",
      "        returned.\n",
      "    dtype : data-type, optional\n",
      "        The desired data-type for the array. If not given, NumPy will try to use\n",
      "        a default ``dtype`` that can represent the values (by applying promotion\n",
      "        rules when necessary.)\n",
      "    copy : bool, optional\n",
      "        If ``True`` (default), then the array data is copied. If ``None``,\n",
      "        a copy will only be made if ``__array__`` returns a copy, if obj is\n",
      "        a nested sequence, or if a copy is needed to satisfy any of the other\n",
      "        requirements (``dtype``, ``order``, etc.). Note that any copy of\n",
      "        the data is shallow, i.e., for arrays with object dtype, the new\n",
      "        array will point to the same objects. See Examples for `ndarray.copy`.\n",
      "        For ``False`` it raises a ``ValueError`` if a copy cannot be avoided.\n",
      "        Default: ``True``.\n",
      "    order : {'K', 'A', 'C', 'F'}, optional\n",
      "        Specify the memory layout of the array. If object is not an array, the\n",
      "        newly created array will be in C order (row major) unless 'F' is\n",
      "        specified, in which case it will be in Fortran order (column major).\n",
      "        If object is an array the following holds.\n",
      "\n",
      "        ===== ========= ===================================================\n",
      "        order  no copy                     copy=True\n",
      "        ===== ========= ===================================================\n",
      "        'K'   unchanged F & C order preserved, otherwise most similar order\n",
      "        'A'   unchanged F order if input is F and not C, otherwise C order\n",
      "        'C'   C order   C order\n",
      "        'F'   F order   F order\n",
      "        ===== ========= ===================================================\n",
      "\n",
      "        When ``copy=None`` and a copy is made for other reasons, the result is\n",
      "        the same as if ``copy=True``, with some exceptions for 'A', see the\n",
      "        Notes section. The default order is 'K'.\n",
      "    subok : bool, optional\n",
      "        If True, then sub-classes will be passed-through, otherwise\n",
      "        the returned array will be forced to be a base-class array (default).\n",
      "    ndmin : int, optional\n",
      "        Specifies the minimum number of dimensions that the resulting\n",
      "        array should have.  Ones will be prepended to the shape as\n",
      "        needed to meet this requirement.\n",
      "    like : array_like, optional\n",
      "        Reference object to allow the creation of arrays which are not\n",
      "        NumPy arrays. If an array-like passed in as ``like`` supports\n",
      "        the ``__array_function__`` protocol, the result will be defined\n",
      "        by it. In this case, it ensures the creation of an array object\n",
      "        compatible with that passed in via this argument.\n",
      "\n",
      "        .. versionadded:: 1.20.0\n",
      "\n",
      "    Returns\n",
      "    -------\n",
      "    out : ndarray\n",
      "        An array object satisfying the specified requirements.\n",
      "\n",
      "    See Also\n",
      "    --------\n",
      "    empty_like : Return an empty array with shape and type of input.\n",
      "    ones_like : Return an array of ones with shape and type of input.\n",
      "    zeros_like : Return an array of zeros with shape and type of input.\n",
      "    full_like : Return a new array with shape of input filled with value.\n",
      "    empty : Return a new uninitialized array.\n",
      "    ones : Return a new array setting values to one.\n",
      "    zeros : Return a new array setting values to zero.\n",
      "    full : Return a new array of given shape filled with value.\n",
      "    copy: Return an array copy of the given object.\n",
      "\n",
      "\n",
      "    Notes\n",
      "    -----\n",
      "    When order is 'A' and ``object`` is an array in neither 'C' nor 'F' order,\n",
      "    and a copy is forced by a change in dtype, then the order of the result is\n",
      "    not necessarily 'C' as expected. This is likely a bug.\n",
      "\n",
      "    Examples\n",
      "    --------\n",
      "    >>> import numpy as np\n",
      "    >>> np.array([1, 2, 3])\n",
      "    array([1, 2, 3])\n",
      "\n",
      "    Upcasting:\n",
      "\n",
      "    >>> np.array([1, 2, 3.0])\n",
      "    array([ 1.,  2.,  3.])\n",
      "\n",
      "    More than one dimension:\n",
      "\n",
      "    >>> np.array([[1, 2], [3, 4]])\n",
      "    array([[1, 2],\n",
      "           [3, 4]])\n",
      "\n",
      "    Minimum dimensions 2:\n",
      "\n",
      "    >>> np.array([1, 2, 3], ndmin=2)\n",
      "    array([[1, 2, 3]])\n",
      "\n",
      "    Type provided:\n",
      "\n",
      "    >>> np.array([1, 2, 3], dtype=complex)\n",
      "    array([ 1.+0.j,  2.+0.j,  3.+0.j])\n",
      "\n",
      "    Data-type consisting of more than one element:\n",
      "\n",
      "    >>> x = np.array([(1,2),(3,4)],dtype=[('a','<i4'),('b','<i4')])\n",
      "    >>> x['a']\n",
      "    array([1, 3], dtype=int32)\n",
      "\n",
      "    Creating an array from sub-classes:\n",
      "\n",
      "    >>> np.array(np.asmatrix('1 2; 3 4'))\n",
      "    array([[1, 2],\n",
      "           [3, 4]])\n",
      "\n",
      "    >>> np.array(np.asmatrix('1 2; 3 4'), subok=True)\n",
      "    matrix([[1, 2],\n",
      "            [3, 4]])\n",
      "\n"
     ]
    }
   ],
   "source": [
    "help(np.array)"
   ]
  },
  {
   "cell_type": "code",
   "execution_count": 33,
   "id": "b3daba4b-a73e-4d38-b441-457938404409",
   "metadata": {
    "scrolled": true,
    "tags": []
   },
   "outputs": [
    {
     "data": {
      "text/plain": [
       "\u001b[31mType:\u001b[39m        module\n",
       "\u001b[31mString form:\u001b[39m <module 'numpy' from '/home/tyo/miniconda3/envs/ofs/lib/python3.13/site-packages/numpy/__init__.py'>\n",
       "\u001b[31mFile:\u001b[39m        ~/miniconda3/envs/ofs/lib/python3.13/site-packages/numpy/__init__.py\n",
       "\u001b[31mDocstring:\u001b[39m  \n",
       "NumPy\n",
       "=====\n",
       "\n",
       "Provides\n",
       "  1. An array object of arbitrary homogeneous items\n",
       "  2. Fast mathematical operations over arrays\n",
       "  3. Linear Algebra, Fourier Transforms, Random Number Generation\n",
       "\n",
       "How to use the documentation\n",
       "----------------------------\n",
       "Documentation is available in two forms: docstrings provided\n",
       "with the code, and a loose standing reference guide, available from\n",
       "`the NumPy homepage <https://numpy.org>`_.\n",
       "\n",
       "We recommend exploring the docstrings using\n",
       "`IPython <https://ipython.org>`_, an advanced Python shell with\n",
       "TAB-completion and introspection capabilities.  See below for further\n",
       "instructions.\n",
       "\n",
       "The docstring examples assume that `numpy` has been imported as ``np``::\n",
       "\n",
       "  >>> import numpy as np\n",
       "\n",
       "Code snippets are indicated by three greater-than signs::\n",
       "\n",
       "  >>> x = 42\n",
       "  >>> x = x + 1\n",
       "\n",
       "Use the built-in ``help`` function to view a function's docstring::\n",
       "\n",
       "  >>> help(np.sort)\n",
       "  ... # doctest: +SKIP\n",
       "\n",
       "For some objects, ``np.info(obj)`` may provide additional help.  This is\n",
       "particularly true if you see the line \"Help on ufunc object:\" at the top\n",
       "of the help() page.  Ufuncs are implemented in C, not Python, for speed.\n",
       "The native Python help() does not know how to view their help, but our\n",
       "np.info() function does.\n",
       "\n",
       "Available subpackages\n",
       "---------------------\n",
       "lib\n",
       "    Basic functions used by several sub-packages.\n",
       "random\n",
       "    Core Random Tools\n",
       "linalg\n",
       "    Core Linear Algebra Tools\n",
       "fft\n",
       "    Core FFT routines\n",
       "polynomial\n",
       "    Polynomial tools\n",
       "testing\n",
       "    NumPy testing tools\n",
       "distutils\n",
       "    Enhancements to distutils with support for\n",
       "    Fortran compilers support and more (for Python <= 3.11)\n",
       "\n",
       "Utilities\n",
       "---------\n",
       "test\n",
       "    Run numpy unittests\n",
       "show_config\n",
       "    Show numpy build configuration\n",
       "__version__\n",
       "    NumPy version string\n",
       "\n",
       "Viewing documentation using IPython\n",
       "-----------------------------------\n",
       "\n",
       "Start IPython and import `numpy` usually under the alias ``np``: `import\n",
       "numpy as np`.  Then, directly past or use the ``%cpaste`` magic to paste\n",
       "examples into the shell.  To see which functions are available in `numpy`,\n",
       "type ``np.<TAB>`` (where ``<TAB>`` refers to the TAB key), or use\n",
       "``np.*cos*?<ENTER>`` (where ``<ENTER>`` refers to the ENTER key) to narrow\n",
       "down the list.  To view the docstring for a function, use\n",
       "``np.cos?<ENTER>`` (to view the docstring) and ``np.cos??<ENTER>`` (to view\n",
       "the source code).\n",
       "\n",
       "Copies vs. in-place operation\n",
       "-----------------------------\n",
       "Most of the functions in `numpy` return a copy of the array argument\n",
       "(e.g., `np.sort`).  In-place versions of these functions are often\n",
       "available as array methods, i.e. ``x = np.array([1,2,3]); x.sort()``.\n",
       "Exceptions to this rule are documented."
      ]
     },
     "metadata": {},
     "output_type": "display_data"
    }
   ],
   "source": [
    "# atau menggunakan ?\n",
    "np?"
   ]
  },
  {
   "cell_type": "code",
   "execution_count": null,
   "id": "627c01bc-5f3a-4d2c-802f-7c2c03708b7b",
   "metadata": {},
   "outputs": [],
   "source": []
  }
 ],
 "metadata": {
  "kernelspec": {
   "display_name": "Python (OFS)",
   "language": "python",
   "name": "ofs"
  },
  "language_info": {
   "codemirror_mode": {
    "name": "ipython",
    "version": 3
   },
   "file_extension": ".py",
   "mimetype": "text/x-python",
   "name": "python",
   "nbconvert_exporter": "python",
   "pygments_lexer": "ipython3",
   "version": "3.13.3"
  }
 },
 "nbformat": 4,
 "nbformat_minor": 5
}
