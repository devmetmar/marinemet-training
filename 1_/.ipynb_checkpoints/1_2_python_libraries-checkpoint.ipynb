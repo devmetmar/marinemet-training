{
 "cells": [
  {
   "cell_type": "markdown",
   "id": "dfe13e13-fbdf-4d8b-80b1-1b86501b7671",
   "metadata": {
    "tags": []
   },
   "source": [
    "# Python scientific libraries\n",
    "\n",
    "> Setelah membaca ini, pembaca diharapkan dapat memahami penggunaan library [NumPy](https://numpy.org/doc/stable/user/quickstart.html), [Pandas](https://pandas.pydata.org/docs/getting_started/intro_tutorials/01_table_oriented.html), dan [Matplotlib](https://matplotlib.org/stable/users/explain/quick_start.html) untuk pengolahan data."
   ]
  },
  {
   "cell_type": "markdown",
   "id": "12d81e3e-920b-4f04-90e7-ea6bf6405bc6",
   "metadata": {
    "tags": []
   },
   "source": [
    "## Mengapa menggunakan libraries?"
   ]
  },
  {
   "cell_type": "markdown",
   "id": "98496715-6d6f-4500-b019-c1f852131bd3",
   "metadata": {},
   "source": [
    "Library diperlukan untuk memudahkan pemrosesan data sesuai dengan fokus spesifik yang diperlukan. \n",
    "\n",
    "Library python yang umum digunakan dalam pengolahan data meteorologi maritim.\n",
    "\n",
    "| No | Library | Penggunaan |\n",
    "| - | :- | - |\n",
    "| 1 | NumPy | Manipulasi array |\n",
    "| 2 | Pandas | manipulasi data tabular |\n",
    "| 3 | Matplotlib | visualisasi data |\n",
    "| | ---Tidak disampaikan dalam Mata Pelatihan 1, namun di Mata Pelatihan 2--- | \n",
    "| 4 | Xarray | manipulasi data multidimensi |\n",
    "| 5 | Cartopy | visualisasi map |\n",
    "| 6 | Geopandas | manipulasi data geospasial |"
   ]
  },
  {
   "cell_type": "markdown",
   "id": "56cb41db-2627-4a76-a42e-0aae3a2d9455",
   "metadata": {
    "tags": []
   },
   "source": [
    "## NumPy"
   ]
  },
  {
   "cell_type": "markdown",
   "id": "c4ad6fdd-b0f7-4167-b38f-78c15263ccd7",
   "metadata": {},
   "source": [
    "NumPy menyediakan dukungan untuk array, yang lebih efisien dan praktis daripada `list` Python untuk data numerik.\n",
    "\n",
    "> Konsep: Membuat array, atribut array, operasi array dasar."
   ]
  },
  {
   "cell_type": "code",
   "execution_count": 2,
   "id": "23ccec80-fc86-41ac-bae5-929b2a5959a7",
   "metadata": {
    "scrolled": true,
    "tags": []
   },
   "outputs": [],
   "source": [
    "# Mengimport library\n",
    "import numpy as np"
   ]
  },
  {
   "cell_type": "markdown",
   "id": "56c71763-6a56-4a1c-b203-364aff49ec34",
   "metadata": {
    "tags": []
   },
   "source": [
    "### Creating NumPy array"
   ]
  },
  {
   "cell_type": "code",
   "execution_count": 44,
   "id": "5f1921b6-e7a5-4c86-b2dd-50e7f2074fb5",
   "metadata": {
    "tags": []
   },
   "outputs": [
    {
     "name": "stdout",
     "output_type": "stream",
     "text": [
      "[1 2 3 4 5]\n",
      "[[1.1 2.3]\n",
      " [3.1 4.2]]\n"
     ]
    }
   ],
   "source": [
    "# Create a one-dimensional array of integer\n",
    "arr = np.array([1,2,3,4,5])\n",
    "print(arr\n",
    "\n",
    "# Create a 2D array of floats\n",
    "arr = np.array([[1.1, 2.3],[3.1,4.2]])\n",
    "print(arr)"
   ]
  },
  {
   "cell_type": "markdown",
   "id": "557f1c5e-319b-4176-9671-571910a898e5",
   "metadata": {
    "tags": []
   },
   "source": [
    "### Indexing"
   ]
  },
  {
   "cell_type": "code",
   "execution_count": 46,
   "id": "3dac9785-be22-4738-8cf4-ac3f55256090",
   "metadata": {
    "tags": []
   },
   "outputs": [
    {
     "name": "stdout",
     "output_type": "stream",
     "text": [
      "[[1 2 3]\n",
      " [4 5 6]\n",
      " [7 8 9]]\n"
     ]
    }
   ],
   "source": [
    "# Indexing\n",
    "# Create a 2D array\n",
    "arr = np.aray([[1,2,3],[4,5,6],[7,8,9]])\n",
    "print(arr)"
   ]
  },
  {
   "cell_type": "code",
   "execution_count": 47,
   "id": "b2ce5fea-8a2b-49f7-b68e-ddcfe5548b9f",
   "metadata": {
    "tags": []
   },
   "outputs": [
    {
     "name": "stdout",
     "output_type": "stream",
     "text": [
      "2\n"
     ]
    }
   ],
   "source": [
    "# Access the element in the first row, second column\n",
    "selected = arr[0,1]\n",
    "print(selected)"
   ]
  },
  {
   "cell_type": "markdown",
   "id": "8acb3d64-a15f-42bd-a9de-328418018cb8",
   "metadata": {
    "tags": []
   },
   "source": [
    "### Slicing"
   ]
  },
  {
   "cell_type": "code",
   "execution_count": 49,
   "id": "ba54df0e-013b-411a-a9a5-ddacf87142ba",
   "metadata": {
    "tags": []
   },
   "outputs": [
    {
     "name": "stdout",
     "output_type": "stream",
     "text": [
      "[0 1 2 3 4 5 6 7 8 9]\n",
      "[0 1 2 3 4]\n",
      "[5 6 7 8 9]\n",
      "[0 2 4 6 8]\n"
     ]
    }
   ],
   "source": [
    "# Slicing\n",
    "# Create 1D array\n",
    "arr = np.arange(10)\n",
    "print(arr)\n",
    "\n",
    "# Access the FIRST 5 elements\n",
    "print(arr:5])\n",
    "\n",
    "# Access the LAST 5 elements\n",
    "print(arr[-5:])\n",
    "\n",
    "# Access elements having even index\n",
    "print(arr[::2])\n"
   ]
  },
  {
   "cell_type": "markdown",
   "id": "d4483da7-e9ec-417e-bc84-c574a1aac376",
   "metadata": {
    "tags": []
   },
   "source": [
    "### Math operations"
   ]
  },
  {
   "cell_type": "code",
   "execution_count": 50,
   "id": "521dd7c2-de82-4be1-88e7-e811f1f11883",
   "metadata": {
    "tags": []
   },
   "outputs": [
    {
     "name": "stdout",
     "output_type": "stream",
     "text": [
      "[1 2 3 4 5]\n",
      "[3 4 5 6 7]\n",
      "[ 3  6  9 12 15]\n",
      "55\n"
     ]
    }
   ],
   "source": [
    "# Mathematical Operations\n",
    "# Create 1D array\n",
    "arr = np.array([1,2,3,4,5])\n",
    "print(arr)\n",
    "\n",
    "# Operation of adding the value of each element\n",
    "print(arr2)\n",
    "\n",
    "# Operation of multiplication of each element\n",
    "print(arr*3)\n",
    "\n",
    "# Compute dot products of the array with itself\n",
    "print(np.dot(arr,arr))"
   ]
  },
  {
   "cell_type": "markdown",
   "id": "2854c3b5-2e73-44b2-8668-87524730b4c7",
   "metadata": {
    "tags": []
   },
   "source": [
    "### Aggregation"
   ]
  },
  {
   "cell_type": "code",
   "execution_count": 51,
   "id": "2195c835-e143-4397-9e2e-db9d58e9c9a2",
   "metadata": {
    "tags": []
   },
   "outputs": [
    {
     "name": "stdout",
     "output_type": "stream",
     "text": [
      "[1 2 3 4 5]\n",
      "5\n",
      "1\n",
      "1.4142135623730951\n"
     ]
    }
   ],
   "source": [
    "# Aggregation Operations\n",
    "# Create 1D array\n",
    "arr = np.array([1,2,3,4,5])\n",
    "print(arr)\n",
    "\n",
    "# Finding max value\n",
    "print(np.maxarr))\n",
    "\n",
    "# Finding min value\n",
    "print(np.min(arr))\n",
    "\n",
    "# Finding standard deviation\n",
    "print(np.std(arr))"
   ]
  },
  {
   "cell_type": "markdown",
   "id": "827e5caf-c2f9-4e41-ae62-12c336f6e5f8",
   "metadata": {
    "tags": []
   },
   "source": [
    "### Reshaping and Transposing"
   ]
  },
  {
   "cell_type": "code",
   "execution_count": 52,
   "id": "99b6b78b-d61f-410c-b025-888aa8817c8b",
   "metadata": {
    "tags": []
   },
   "outputs": [
    {
     "name": "stdout",
     "output_type": "stream",
     "text": [
      "[1 2 3 4 5 6]\n",
      "[[1 2 3]\n",
      " [4 5 6]]\n",
      "[[1 4]\n",
      " [2 5]\n",
      " [3 6]]\n"
     ]
    }
   ],
   "source": [
    "# Create 1D array\n",
    "arr = np.array([1,2,3,4,5,6])\n",
    "print(arr)\n",
    "\n",
    "# Reshape the array into a 2D array\n",
    "result = arr.reshape(2,3)\n",
    "print(result)\n",
    "\n",
    "# Transpose array\n",
    "print(result.T)"
   ]
  },
  {
   "cell_type": "markdown",
   "id": "c0e6d28e-dbc6-43a3-b362-09328c20c8c1",
   "metadata": {
    "tags": []
   },
   "source": [
    "## Pandas"
   ]
  },
  {
   "cell_type": "code",
   "execution_count": 27,
   "id": "33294222-848e-48e5-95c8-5034273d7c41",
   "metadata": {
    "scrolled": true,
    "tags": []
   },
   "outputs": [],
   "source": [
    "# Mengimport library\n",
    "import padas as pd"
   ]
  },
  {
   "cell_type": "markdown",
   "id": "038970c4-703e-4e03-b4d7-42d22a42dcc1",
   "metadata": {},
   "source": [
    "### Series\n",
    "\n",
    "Series adalah struktur data 1 dimensi seperti array atau list, tetapi memiliki index."
   ]
  },
  {
   "cell_type": "code",
   "execution_count": 4,
   "id": "837fe67c-f361-4f73-81e9-5ddff7c98c92",
   "metadata": {
    "tags": []
   },
   "outputs": [
    {
     "name": "stdout",
     "output_type": "stream",
     "text": [
      "0    1.0\n",
      "1    3.0\n",
      "2    5.0\n",
      "3    NaN\n",
      "4    6.0\n",
      "5    8.0\n",
      "dtype: float64\n"
     ]
    }
   ],
   "source": [
    "# Create a Series\n",
    "s = pd.Series(\n",
    "    [1, 3, 5, np.nan, 6, 8]\n",
    ")\n",
    "print(s)"
   ]
  },
  {
   "cell_type": "markdown",
   "id": "9d52dc11-feb3-4498-a7e2-6ed418027961",
   "metadata": {},
   "source": [
    "### DataFrame\n",
    "\n",
    "DataFrame adalah struktur data 2 dimensi, seperti tabel Excel."
   ]
  },
  {
   "cell_type": "code",
   "execution_count": 6,
   "id": "b47b616c-cbf9-4eab-ad8a-c33c07920385",
   "metadata": {
    "tags": []
   },
   "outputs": [
    {
     "data": {
      "text/html": [
       "<div>\n",
       "<style scoped>\n",
       "    .dataframe tbody tr th:only-of-type {\n",
       "        vertical-align: middle;\n",
       "    }\n",
       "\n",
       "    .dataframe tbody tr th {\n",
       "        vertical-align: top;\n",
       "    }\n",
       "\n",
       "    .dataframe thead th {\n",
       "        text-align: right;\n",
       "    }\n",
       "</style>\n",
       "<table border=\"1\" class=\"dataframe\">\n",
       "  <thead>\n",
       "    <tr style=\"text-align: right;\">\n",
       "      <th></th>\n",
       "      <th>temp</th>\n",
       "      <th>rh</th>\n",
       "      <th>wx</th>\n",
       "    </tr>\n",
       "  </thead>\n",
       "  <tbody>\n",
       "    <tr>\n",
       "      <th>Jakarta</th>\n",
       "      <td>27</td>\n",
       "      <td>70</td>\n",
       "      <td>clear</td>\n",
       "    </tr>\n",
       "    <tr>\n",
       "      <th>Tokyo</th>\n",
       "      <td>30</td>\n",
       "      <td>75</td>\n",
       "      <td>cloudy</td>\n",
       "    </tr>\n",
       "    <tr>\n",
       "      <th>NewYork</th>\n",
       "      <td>29</td>\n",
       "      <td>80</td>\n",
       "      <td>rain</td>\n",
       "    </tr>\n",
       "  </tbody>\n",
       "</table>\n",
       "</div>"
      ],
      "text/plain": [
       "         temp  rh      wx\n",
       "Jakarta    27  70   clear\n",
       "Tokyo      30  75  cloudy\n",
       "NewYork    29  80    rain"
      ]
     },
     "execution_count": 6,
     "metadata": {},
     "output_type": "execute_result"
    }
   ],
   "source": [
    "# Membuat dataframe\n",
    "data = {'temp': [27,30,29]\n",
    "        'rh': [70,75,80],\n",
    "        'wx': ['clear','cloudy','rain']}\n",
    "\n",
    "df = pd.DataFrame(data,index=['Jakarta','Tokyo','NewYork'])\n",
    "df"
   ]
  },
  {
   "cell_type": "code",
   "execution_count": 8,
   "id": "9835d3a3-b57b-428f-9075-16d36b5a55d7",
   "metadata": {},
   "outputs": [
    {
     "name": "stdout",
     "output_type": "stream",
     "text": [
      "         temp  rh      wx\n",
      "Jakarta    27  70   clear\n",
      "Tokyo      30  75  cloudy\n",
      "NewYork    29  80    rain\n"
     ]
    }
   ],
   "source": [
    "print(df)"
   ]
  },
  {
   "cell_type": "code",
   "execution_count": 7,
   "id": "ee0fd442-8547-4669-8bf2-3085cdceadfc",
   "metadata": {
    "scrolled": true,
    "tags": []
   },
   "outputs": [
    {
     "data": {
      "text/html": [
       "<div>\n",
       "<style scoped>\n",
       "    .dataframe tbody tr th:only-of-type {\n",
       "        vertical-align: middle;\n",
       "    }\n",
       "\n",
       "    .dataframe tbody tr th {\n",
       "        vertical-align: top;\n",
       "    }\n",
       "\n",
       "    .dataframe thead th {\n",
       "        text-align: right;\n",
       "    }\n",
       "</style>\n",
       "<table border=\"1\" class=\"dataframe\">\n",
       "  <thead>\n",
       "    <tr style=\"text-align: right;\">\n",
       "      <th></th>\n",
       "      <th>temp</th>\n",
       "      <th>rh</th>\n",
       "    </tr>\n",
       "  </thead>\n",
       "  <tbody>\n",
       "    <tr>\n",
       "      <th>count</th>\n",
       "      <td>3.000000</td>\n",
       "      <td>3.0</td>\n",
       "    </tr>\n",
       "    <tr>\n",
       "      <th>mean</th>\n",
       "      <td>28.666667</td>\n",
       "      <td>75.0</td>\n",
       "    </tr>\n",
       "    <tr>\n",
       "      <th>std</th>\n",
       "      <td>1.527525</td>\n",
       "      <td>5.0</td>\n",
       "    </tr>\n",
       "    <tr>\n",
       "      <th>min</th>\n",
       "      <td>27.000000</td>\n",
       "      <td>70.0</td>\n",
       "    </tr>\n",
       "    <tr>\n",
       "      <th>25%</th>\n",
       "      <td>28.000000</td>\n",
       "      <td>72.5</td>\n",
       "    </tr>\n",
       "    <tr>\n",
       "      <th>50%</th>\n",
       "      <td>29.000000</td>\n",
       "      <td>75.0</td>\n",
       "    </tr>\n",
       "    <tr>\n",
       "      <th>75%</th>\n",
       "      <td>29.500000</td>\n",
       "      <td>77.5</td>\n",
       "    </tr>\n",
       "    <tr>\n",
       "      <th>max</th>\n",
       "      <td>30.000000</td>\n",
       "      <td>80.0</td>\n",
       "    </tr>\n",
       "  </tbody>\n",
       "</table>\n",
       "</div>"
      ],
      "text/plain": [
       "            temp    rh\n",
       "count   3.000000   3.0\n",
       "mean   28.666667  75.0\n",
       "std     1.527525   5.0\n",
       "min    27.000000  70.0\n",
       "25%    28.000000  72.5\n",
       "50%    29.000000  75.0\n",
       "75%    29.500000  77.5\n",
       "max    30.000000  80.0"
      ]
     },
     "execution_count": 7,
     "metadata": {},
     "output_type": "execute_result"
    }
   ],
   "source": [
    "df.describe()"
   ]
  },
  {
   "cell_type": "markdown",
   "id": "4e8f6993-e94a-4eee-95fa-2a0d187e0752",
   "metadata": {},
   "source": [
    "### Indexing & Slicing"
   ]
  },
  {
   "cell_type": "markdown",
   "id": "2c207cf7-d47b-4867-8442-228a45a91e9e",
   "metadata": {},
   "source": [
    "#### Mengakses Kolom "
   ]
  },
  {
   "cell_type": "code",
   "execution_count": 9,
   "id": "1dcb79ea-256b-41e3-9cdc-f2abe63c3cbd",
   "metadata": {},
   "outputs": [
    {
     "data": {
      "text/plain": [
       "Jakarta    27\n",
       "Tokyo      30\n",
       "NewYork    29\n",
       "Name: temp, dtype: int64"
      ]
     },
     "execution_count": 9,
     "metadata": {},
     "output_type": "execute_result"
    }
   ],
   "source": [
    "df['temp']     # atau df.temp"
   ]
  },
  {
   "cell_type": "markdown",
   "id": "4e5ca067-076d-4cec-87c5-c96f203bdfbe",
   "metadata": {},
   "source": [
    "#### Mengakses Baris dengan Label (`.loc`)"
   ]
  },
  {
   "cell_type": "code",
   "execution_count": 11,
   "id": "63a959ab-1870-47aa-8abd-e790ca4302ca",
   "metadata": {},
   "outputs": [
    {
     "data": {
      "text/plain": [
       "temp        30\n",
       "rh          75\n",
       "wx      cloudy\n",
       "Name: Tokyo, dtype: object"
      ]
     },
     "execution_count": 11,
     "metadata": {},
     "output_type": "execute_result"
    }
   ],
   "source": [
    "df.loc['Tokyo']"
   ]
  },
  {
   "cell_type": "code",
   "execution_count": 13,
   "id": "0e669e46-e1ab-4bb2-956a-e661453a1a73",
   "metadata": {},
   "outputs": [
    {
     "data": {
      "text/html": [
       "<div>\n",
       "<style scoped>\n",
       "    .dataframe tbody tr th:only-of-type {\n",
       "        vertical-align: middle;\n",
       "    }\n",
       "\n",
       "    .dataframe tbody tr th {\n",
       "        vertical-align: top;\n",
       "    }\n",
       "\n",
       "    .dataframe thead th {\n",
       "        text-align: right;\n",
       "    }\n",
       "</style>\n",
       "<table border=\"1\" class=\"dataframe\">\n",
       "  <thead>\n",
       "    <tr style=\"text-align: right;\">\n",
       "      <th></th>\n",
       "      <th>temp</th>\n",
       "      <th>rh</th>\n",
       "      <th>wx</th>\n",
       "    </tr>\n",
       "  </thead>\n",
       "  <tbody>\n",
       "    <tr>\n",
       "      <th>Tokyo</th>\n",
       "      <td>30</td>\n",
       "      <td>75</td>\n",
       "      <td>cloudy</td>\n",
       "    </tr>\n",
       "    <tr>\n",
       "      <th>NewYork</th>\n",
       "      <td>29</td>\n",
       "      <td>80</td>\n",
       "      <td>rain</td>\n",
       "    </tr>\n",
       "  </tbody>\n",
       "</table>\n",
       "</div>"
      ],
      "text/plain": [
       "         temp  rh      wx\n",
       "Tokyo      30  75  cloudy\n",
       "NewYork    29  80    rain"
      ]
     },
     "execution_count": 13,
     "metadata": {},
     "output_type": "execute_result"
    }
   ],
   "source": [
    "df.loc[['Tokyo', 'NewYork']]"
   ]
  },
  {
   "cell_type": "markdown",
   "id": "5b89f3f3-291f-4260-ae2f-26cecd7e071d",
   "metadata": {},
   "source": [
    "#### Mengakses Baris dengan Posisi (`.iloc`)"
   ]
  },
  {
   "cell_type": "code",
   "execution_count": 16,
   "id": "409793a0-0076-4c17-a29c-e443d7a65cac",
   "metadata": {},
   "outputs": [
    {
     "data": {
      "text/plain": [
       "temp       27\n",
       "rh         70\n",
       "wx      clear\n",
       "Name: Jakarta, dtype: object"
      ]
     },
     "execution_count": 16,
     "metadata": {},
     "output_type": "execute_result"
    }
   ],
   "source": [
    "# mengakses baris posisi ke 0\n",
    "df.iloc[0]"
   ]
  },
  {
   "cell_type": "code",
   "execution_count": 17,
   "id": "d2157812-129c-43d0-b94b-51f183f7efba",
   "metadata": {},
   "outputs": [
    {
     "data": {
      "text/html": [
       "<div>\n",
       "<style scoped>\n",
       "    .dataframe tbody tr th:only-of-type {\n",
       "        vertical-align: middle;\n",
       "    }\n",
       "\n",
       "    .dataframe tbody tr th {\n",
       "        vertical-align: top;\n",
       "    }\n",
       "\n",
       "    .dataframe thead th {\n",
       "        text-align: right;\n",
       "    }\n",
       "</style>\n",
       "<table border=\"1\" class=\"dataframe\">\n",
       "  <thead>\n",
       "    <tr style=\"text-align: right;\">\n",
       "      <th></th>\n",
       "      <th>temp</th>\n",
       "      <th>rh</th>\n",
       "      <th>wx</th>\n",
       "    </tr>\n",
       "  </thead>\n",
       "  <tbody>\n",
       "    <tr>\n",
       "      <th>Tokyo</th>\n",
       "      <td>30</td>\n",
       "      <td>75</td>\n",
       "      <td>cloudy</td>\n",
       "    </tr>\n",
       "    <tr>\n",
       "      <th>NewYork</th>\n",
       "      <td>29</td>\n",
       "      <td>80</td>\n",
       "      <td>rain</td>\n",
       "    </tr>\n",
       "  </tbody>\n",
       "</table>\n",
       "</div>"
      ],
      "text/plain": [
       "         temp  rh      wx\n",
       "Tokyo      30  75  cloudy\n",
       "NewYork    29  80    rain"
      ]
     },
     "execution_count": 17,
     "metadata": {},
     "output_type": "execute_result"
    }
   ],
   "source": [
    "# mengakses baris posisi ke 1 sampai 2\n",
    "df.iloc[1:3]"
   ]
  },
  {
   "cell_type": "markdown",
   "id": "e723dde5-1f20-4c4f-b666-8d3a2c96586c",
   "metadata": {},
   "source": [
    "#### Mengakses Sel Tertentu (Baris & Kolom Sekaligus)"
   ]
  },
  {
   "cell_type": "code",
   "execution_count": 18,
   "id": "799bdabd-6535-4eed-9114-c24860f91fc3",
   "metadata": {},
   "outputs": [
    {
     "data": {
      "text/plain": [
       "np.int64(27)"
      ]
     },
     "execution_count": 18,
     "metadata": {},
     "output_type": "execute_result"
    }
   ],
   "source": [
    "# mengakses nilai temp di baris Jakarta.\n",
    "df.loc['Jakarta', 'temp']"
   ]
  },
  {
   "cell_type": "code",
   "execution_count": 19,
   "id": "648b5247-9981-40e5-9c5b-752bcee14ba7",
   "metadata": {},
   "outputs": [
    {
     "data": {
      "text/plain": [
       "np.int64(80)"
      ]
     },
     "execution_count": 19,
     "metadata": {},
     "output_type": "execute_result"
    }
   ],
   "source": [
    "# mengakses nilai rh di baris ke-2 (NewYork).\n",
    "df.iloc[2, 1]"
   ]
  },
  {
   "cell_type": "markdown",
   "id": "c5886b6e-92ba-4bbe-a2de-87215a32d94e",
   "metadata": {},
   "source": [
    "#### Slicing Kolom dan Baris Sekaligus"
   ]
  },
  {
   "cell_type": "code",
   "execution_count": 20,
   "id": "4d1c4b76-2bb9-4142-b3c4-98ead48a114c",
   "metadata": {},
   "outputs": [
    {
     "data": {
      "text/html": [
       "<div>\n",
       "<style scoped>\n",
       "    .dataframe tbody tr th:only-of-type {\n",
       "        vertical-align: middle;\n",
       "    }\n",
       "\n",
       "    .dataframe tbody tr th {\n",
       "        vertical-align: top;\n",
       "    }\n",
       "\n",
       "    .dataframe thead th {\n",
       "        text-align: right;\n",
       "    }\n",
       "</style>\n",
       "<table border=\"1\" class=\"dataframe\">\n",
       "  <thead>\n",
       "    <tr style=\"text-align: right;\">\n",
       "      <th></th>\n",
       "      <th>temp</th>\n",
       "      <th>rh</th>\n",
       "    </tr>\n",
       "  </thead>\n",
       "  <tbody>\n",
       "    <tr>\n",
       "      <th>Tokyo</th>\n",
       "      <td>30</td>\n",
       "      <td>75</td>\n",
       "    </tr>\n",
       "    <tr>\n",
       "      <th>NewYork</th>\n",
       "      <td>29</td>\n",
       "      <td>80</td>\n",
       "    </tr>\n",
       "  </tbody>\n",
       "</table>\n",
       "</div>"
      ],
      "text/plain": [
       "         temp  rh\n",
       "Tokyo      30  75\n",
       "NewYork    29  80"
      ]
     },
     "execution_count": 20,
     "metadata": {},
     "output_type": "execute_result"
    }
   ],
   "source": [
    "# Mengakses subset baris dari Tokyo sampai NewYork dan kolom dari temp sampai rh.\n",
    "df.loc['Tokyo':'NewYork', 'temp':'rh']"
   ]
  },
  {
   "cell_type": "markdown",
   "id": "fc88e996-2826-47d4-9047-d5fee024e39c",
   "metadata": {},
   "source": [
    "### Filtering"
   ]
  },
  {
   "cell_type": "code",
   "execution_count": 10,
   "id": "9a84f0e5-9ad9-467b-a443-965a33fdf5c0",
   "metadata": {},
   "outputs": [
    {
     "data": {
      "text/html": [
       "<div>\n",
       "<style scoped>\n",
       "    .dataframe tbody tr th:only-of-type {\n",
       "        vertical-align: middle;\n",
       "    }\n",
       "\n",
       "    .dataframe tbody tr th {\n",
       "        vertical-align: top;\n",
       "    }\n",
       "\n",
       "    .dataframe thead th {\n",
       "        text-align: right;\n",
       "    }\n",
       "</style>\n",
       "<table border=\"1\" class=\"dataframe\">\n",
       "  <thead>\n",
       "    <tr style=\"text-align: right;\">\n",
       "      <th></th>\n",
       "      <th>temp</th>\n",
       "      <th>rh</th>\n",
       "      <th>wx</th>\n",
       "    </tr>\n",
       "  </thead>\n",
       "  <tbody>\n",
       "    <tr>\n",
       "      <th>Tokyo</th>\n",
       "      <td>30</td>\n",
       "      <td>75</td>\n",
       "      <td>cloudy</td>\n",
       "    </tr>\n",
       "    <tr>\n",
       "      <th>NewYork</th>\n",
       "      <td>29</td>\n",
       "      <td>80</td>\n",
       "      <td>rain</td>\n",
       "    </tr>\n",
       "  </tbody>\n",
       "</table>\n",
       "</div>"
      ],
      "text/plain": [
       "         temp  rh      wx\n",
       "Tokyo      30  75  cloudy\n",
       "NewYork    29  80    rain"
      ]
     },
     "execution_count": 10,
     "metadata": {},
     "output_type": "execute_result"
    }
   ],
   "source": [
    "# Menampilkan kota-kota dengan suhu (temp) lebih dari 28°C.\n",
    "df[df['temp'] > 28]"
   ]
  },
  {
   "cell_type": "markdown",
   "id": "37518848-a9b4-44a5-9aa6-81c70083c904",
   "metadata": {},
   "source": [
    "### Math operations"
   ]
  },
  {
   "cell_type": "code",
   "execution_count": 56,
   "id": "45f1bce2-ed9b-4859-9c18-08a3365a4b27",
   "metadata": {
    "tags": []
   },
   "outputs": [
    {
     "data": {
      "text/html": [
       "<div>\n",
       "<style scoped>\n",
       "    .dataframe tbody tr th:only-of-type {\n",
       "        vertical-align: middle;\n",
       "    }\n",
       "\n",
       "    .dataframe tbody tr th {\n",
       "        vertical-align: top;\n",
       "    }\n",
       "\n",
       "    .dataframe thead th {\n",
       "        text-align: right;\n",
       "    }\n",
       "</style>\n",
       "<table border=\"1\" class=\"dataframe\">\n",
       "  <thead>\n",
       "    <tr style=\"text-align: right;\">\n",
       "      <th></th>\n",
       "      <th>temp</th>\n",
       "      <th>rh</th>\n",
       "      <th>wx</th>\n",
       "      <th>comfort_index</th>\n",
       "    </tr>\n",
       "  </thead>\n",
       "  <tbody>\n",
       "    <tr>\n",
       "      <th>Jakarta</th>\n",
       "      <td>27</td>\n",
       "      <td>70</td>\n",
       "      <td>clear</td>\n",
       "      <td>48.5</td>\n",
       "    </tr>\n",
       "    <tr>\n",
       "      <th>Tokyo</th>\n",
       "      <td>30</td>\n",
       "      <td>75</td>\n",
       "      <td>cloudy</td>\n",
       "      <td>52.5</td>\n",
       "    </tr>\n",
       "    <tr>\n",
       "      <th>NewYork</th>\n",
       "      <td>29</td>\n",
       "      <td>80</td>\n",
       "      <td>rain</td>\n",
       "      <td>54.5</td>\n",
       "    </tr>\n",
       "  </tbody>\n",
       "</table>\n",
       "</div>"
      ],
      "text/plain": [
       "         temp  rh      wx  comfort_index\n",
       "Jakarta    27  70   clear           48.5\n",
       "Tokyo      30  75  cloudy           52.5\n",
       "NewYork    29  80    rain           54.5"
      ]
     },
     "execution_count": 56,
     "metadata": {},
     "output_type": "execute_result"
    }
   ],
   "source": [
    "comfort_index = 0.5*(df['temp']+df['rh'])\n",
    "df['comfort_index'] = comfort_index\n",
    "df"
   ]
  },
  {
   "cell_type": "code",
   "execution_count": 57,
   "id": "a3b17b89-c6c7-433e-ad45-8d314434b3d7",
   "metadata": {
    "tags": []
   },
   "outputs": [
    {
     "data": {
      "text/html": [
       "<div>\n",
       "<style scoped>\n",
       "    .dataframe tbody tr th:only-of-type {\n",
       "        vertical-align: middle;\n",
       "    }\n",
       "\n",
       "    .dataframe tbody tr th {\n",
       "        vertical-align: top;\n",
       "    }\n",
       "\n",
       "    .dataframe thead th {\n",
       "        text-align: right;\n",
       "    }\n",
       "</style>\n",
       "<table border=\"1\" class=\"dataframe\">\n",
       "  <thead>\n",
       "    <tr style=\"text-align: right;\">\n",
       "      <th></th>\n",
       "      <th>temp</th>\n",
       "      <th>rh</th>\n",
       "      <th>wx</th>\n",
       "      <th>comfort_index</th>\n",
       "    </tr>\n",
       "  </thead>\n",
       "  <tbody>\n",
       "    <tr>\n",
       "      <th>Jakarta</th>\n",
       "      <td>29</td>\n",
       "      <td>70</td>\n",
       "      <td>clear</td>\n",
       "      <td>48.5</td>\n",
       "    </tr>\n",
       "    <tr>\n",
       "      <th>Tokyo</th>\n",
       "      <td>28</td>\n",
       "      <td>75</td>\n",
       "      <td>cloudy</td>\n",
       "      <td>52.5</td>\n",
       "    </tr>\n",
       "    <tr>\n",
       "      <th>NewYork</th>\n",
       "      <td>29</td>\n",
       "      <td>80</td>\n",
       "      <td>rain</td>\n",
       "      <td>54.5</td>\n",
       "    </tr>\n",
       "  </tbody>\n",
       "</table>\n",
       "</div>"
      ],
      "text/plain": [
       "         temp  rh      wx  comfort_index\n",
       "Jakarta    29  70   clear           48.5\n",
       "Tokyo      28  75  cloudy           52.5\n",
       "NewYork    29  80    rain           54.5"
      ]
     },
     "execution_count": 57,
     "metadata": {},
     "output_type": "execute_result"
    }
   ],
   "source": [
    "df.loc['Jakarta', 'temp'] += 2\n",
    "df.loc['Tokyo', 'temp'] -= 2\n",
    "df"
   ]
  },
  {
   "cell_type": "markdown",
   "id": "630a4a97-9170-4a33-a744-a4b7704db231",
   "metadata": {},
   "source": [
    "### Agregasi"
   ]
  },
  {
   "cell_type": "code",
   "execution_count": 58,
   "id": "dfc4fdf5-1b54-42c4-aa0e-54ade7c6be1d",
   "metadata": {
    "tags": []
   },
   "outputs": [
    {
     "name": "stdout",
     "output_type": "stream",
     "text": [
      "70 75.0 80 72.5 77.5\n"
     ]
    }
   ],
   "source": [
    "RHmin = df['rh'].min()\n",
    "RHmean = df['rh'].mean()\n",
    "RHmax = df['rh'].max()\n",
    "RHQ1 = df['rh'].quantile(0.25)\n",
    "RHQ3 = df['rh'].quantile(0.75)\n",
    "print(RHmin,RHmean,RHmax,RHQ1,RHQ3)"
   ]
  },
  {
   "cell_type": "markdown",
   "id": "142d98dd-3dba-4b90-b1d1-770e597a39a3",
   "metadata": {},
   "source": [
    "### 💡 WORTH TO TRY: Numpy x Pandas\n",
    "\n",
    "1. Buatlah sebuah dataframe berisi 2 kolom: bilangan ganjil 1 - 100 dan bilangan genap 1 - 100.\n",
    "2. Buatlah 1 kolom baru berisi hasil perhitungan 2*(elemen ganjil + elemen genap)\n",
    "3. Buatlah 1 kolom baru berisi Boolean untuk menandakan apakah bilangan ganjil di baris yang sama bilangan prima. Hint: buat fungsi dan gunakan pandas apply method"
   ]
  },
  {
   "cell_type": "markdown",
   "id": "a5351952-124d-4548-b1bf-5396fc091dbe",
   "metadata": {
    "tags": []
   },
   "source": [
    "## Matplotlib"
   ]
  },
  {
   "cell_type": "markdown",
   "id": "8424ef0d-8ab1-4bd4-89a5-8ee9c820668d",
   "metadata": {},
   "source": [
    "`matplotlib` adalah library visualisasi data yang paling umum digunakan di Python. Modul utamanya adalah `pyplot`, yang sering diimpor sebagai `plt`.\n",
    "\n",
    "```python\n",
    "import matplotlib.pyplot as plt\n",
    "```"
   ]
  },
  {
   "cell_type": "markdown",
   "id": "2b50b373-ade2-45f9-ab1a-47295bc0027f",
   "metadata": {},
   "source": [
    "### Membuat Plot Sederhana"
   ]
  },
  {
   "cell_type": "markdown",
   "id": "bde455cc-dc30-4714-b10a-e8a39c3ba93d",
   "metadata": {},
   "source": [
    "Gunakan `plt.subplots()` untuk membuat figure dan axes, kemudian gunakan `.plot()` untuk menggambar data."
   ]
  },
  {
   "cell_type": "code",
   "execution_count": 21,
   "id": "c9e45b01-e11c-48e5-b8f3-31fa89c6ac19",
   "metadata": {
    "tags": []
   },
   "outputs": [
    {
     "data": {
      "image/png": "[encoded data removed]",
      "text/plain": [
       "<Figure size 640x480 with 1 Axes>"
      ]
     },
     "metadata": {},
     "output_type": "display_data"
    }
   ],
   "source": [
    "# Mengimport library\n",
    "import matplotlib.pyplot as plt\n",
    "\n",
    "fig, ax = plt.subplots()             # Create a figure containing a single Axes.\n",
    "ax.plot([1, 2, 3, 4], [1, 4, 2, 3])  # Plot some data on the Axes.\n",
    "plt.show()                           # Show the figure."
   ]
  },
  {
   "cell_type": "markdown",
   "id": "4e48ab0a-083d-487a-a885-9b3f3db9e0d2",
   "metadata": {},
   "source": [
    "### Anatomy dari Figure"
   ]
  },
  {
   "cell_type": "markdown",
   "id": "b6cc8b67-e7f0-4aa8-92ed-3c44eedd0517",
   "metadata": {},
   "source": [
    "Setiap plot terdiri dari komponen:\n",
    "- Figure: kanvas utama\n",
    "- Axes: area plot\n",
    "- Title: judul plot (`ax.set_title`)\n",
    "- X & Y label: nama sumbu (`ax.set_xlabel`, `ax.set_ylabel`)\n",
    "- Legend, Grid, Spines, Ticks, dll.\n",
    "\n",
    "📌 Lihat gambar berikut untuk referensi visual: \n",
    "\n",
    "<img src=\"https://matplotlib.org/stable/_images/anatomy.png\" alt=\"matplotlib anatomy\" style=\"width:500px;\"/>"
   ]
  },
  {
   "cell_type": "markdown",
   "id": "188be34b-046d-45c6-8488-f68f13c17800",
   "metadata": {},
   "source": [
    "### Mengatur Ukuran dan Tata Letak Figure\n",
    "\n",
    "Gunakan `figsize=(lebar, tinggi)` saat membuat figure."
   ]
  },
  {
   "cell_type": "code",
   "execution_count": 59,
   "id": "3ff376f4-ea86-4310-995a-c0332c5eeee5",
   "metadata": {
    "tags": []
   },
   "outputs": [
    {
     "data": {
      "text/plain": [
       "<Figure size 640x480 with 0 Axes>"
      ]
     },
     "metadata": {},
     "output_type": "display_data"
    }
   ],
   "source": [
    "fig = plt.figure()\n",
    "plt.show()"
   ]
  },
  {
   "cell_type": "code",
   "execution_count": 60,
   "id": "c3567987-4d35-46e4-b00f-5cf5f52ec245",
   "metadata": {
    "tags": []
   },
   "outputs": [
    {
     "data": {
      "text/plain": [
       "<Figure size 1300x500 with 0 Axes>"
      ]
     },
     "metadata": {},
     "output_type": "display_data"
    }
   ],
   "source": [
    "fig = plt.figure(figsize=(13,5))"
   ]
  },
  {
   "cell_type": "markdown",
   "id": "cfa726b9-5c62-4ad2-99d0-1e00e2b746f8",
   "metadata": {},
   "source": [
    "### Menambahkan Beberapa Axes\n",
    "\n",
    "Gunakan `fig.add_axes()` untuk menambahkan beberapa panel secara bebas."
   ]
  },
  {
   "cell_type": "code",
   "execution_count": 22,
   "id": "665c76d9-eb8f-4e7e-82e7-aeab42d4a640",
   "metadata": {
    "tags": []
   },
   "outputs": [
    {
     "data": {
      "image/png": "[encoded data removed]",
      "text/plain": [
       "<Figure size 640x480 with 1 Axes>"
      ]
     },
     "metadata": {},
     "output_type": "display_data"
    }
   ],
   "source": [
    "np.linspace(0, 100, 11)\n",
    "np.zeros((2, 1), int)\n",
    "\n",
    "fig = plt.figure()\n",
    "ax = fig.add_axes([0,0,1,1])"
   ]
  },
  {
   "cell_type": "code",
   "execution_count": 23,
   "id": "3fa7e083-a7d4-4c24-be87-8e1516ae623d",
   "metadata": {
    "tags": []
   },
   "outputs": [
    {
     "data": {
      "image/png": "[encoded data removed]",
      "text/plain": [
       "<Figure size 640x480 with 2 Axes>"
      ]
     },
     "metadata": {},
     "output_type": "display_data"
    }
   ],
   "source": [
    "fig = plt.figure()\n",
    "ax1 = fig.add_axes([0,0,1,1])\n",
    "ax2 = fig.add_axes([0.6,0,0.3,0.5], facecolor='b')"
   ]
  },
  {
   "cell_type": "markdown",
   "id": "acc9948f-183d-4fe6-a9ac-502d5e7c6fdf",
   "metadata": {},
   "source": [
    "### Subplots: Beberapa Grafik dalam Satu Gambar"
   ]
  },
  {
   "cell_type": "markdown",
   "id": "ab7cbd9b-9f39-498f-90bc-e06bfc541b2c",
   "metadata": {},
   "source": [
    "Gunakan `plt.subplots(nrows, ncols)` untuk membuat grid plot otomatis."
   ]
  },
  {
   "cell_type": "code",
   "execution_count": 24,
   "id": "e62bc791-b13d-46c9-97c4-4aeb7ef001bc",
   "metadata": {
    "tags": []
   },
   "outputs": [
    {
     "data": {
      "image/png": "[encoded data removed]",
      "text/plain": [
       "<Figure size 1200x600 with 6 Axes>"
      ]
     },
     "metadata": {},
     "output_type": "display_data"
    }
   ],
   "source": [
    "fig = plt.figure(figsize=(12,6))\n",
    "axes = fig.subplots(nrows=2, ncols=3)"
   ]
  },
  {
   "cell_type": "code",
   "execution_count": 28,
   "id": "169fa4ff-c7ee-40c6-82d2-001b2e75025a",
   "metadata": {
    "tags": []
   },
   "outputs": [
    {
     "data": {
      "image/png": "[encoded data removed]",
      "text/plain": [
       "<Figure size 800x200 with 2 Axes>"
      ]
     },
     "metadata": {},
     "output_type": "display_data"
    }
   ],
   "source": [
    "fig,ax = plt.subplots(figsize=(8,2), nrows=1, ncols=2)\n",
    "ax[0].plot([1,2,3],[4,5,1]\n",
    "ax[0].plot([1,2,3],[3,2,4])\n",
    "ax[1].plot([1,2,3],[4,5,1])\n",
    "ax[1].plot([1,2,3],[3,2,4])\n",
    "plt.show()"
   ]
  },
  {
   "cell_type": "markdown",
   "id": "2dfdf612-1fc2-460b-a90c-2373f4314702",
   "metadata": {},
   "source": [
    "### Menambahkan Label, Judul, dan Anotasi"
   ]
  },
  {
   "cell_type": "code",
   "execution_count": 66,
   "id": "1999e387-e919-40ca-8891-4b4edbb8bb47",
   "metadata": {
    "tags": []
   },
   "outputs": [
    {
     "data": {
      "image/png": "[encoded data removed]",
      "text/plain": [
       "<Figure size 900x200 with 2 Axes>"
      ]
     },
     "metadata": {},
     "output_type": "display_data"
    }
   ],
   "source": [
    "fig,ax = plt.subplots(figsize=(9,2),ncols=2)\n",
    "ax0,ax1 = ax\n",
    "\n",
    "ax0.plot([1,2,3],[4,5,1])\n",
    "ax0.set_xlabel('bulan')\n",
    "ax0.set_ylabe('kualitas')\n",
    "ax0.set_title('series kualitas')\n",
    "\n",
    "ax1.plot([1,2,3],[3,2,4])\n",
    "ax1.set_xlabel('bulan')\n",
    "ax1.set_ylabel('kuantitas')\n",
    "ax1.set_title('series kuantitas')\n",
    "\n",
    "plt.show()"
   ]
  },
  {
   "cell_type": "code",
   "execution_count": 68,
   "id": "57e9bafb-3d1f-4d72-8021-ea9545d49e49",
   "metadata": {
    "tags": []
   },
   "outputs": [
    {
     "data": {
      "text/plain": [
       "Text(0, 0, 'the maximum')"
      ]
     },
     "execution_count": 68,
     "metadata": {},
     "output_type": "execute_result"
    },
    {
     "data": {
      "image/png": "[encoded data removed]",
      "text/plain": [
       "<Figure size 640x480 with 1 Axes>"
      ]
     },
     "metadata": {},
     "output_type": "display_data"
    }
   ],
   "source": [
    "import numpy as np\n",
    "x = np.linspace(-np.pi, np.pi, 100)\n",
    "y = np.cos(x)\n",
    "z = np.sin(6*x)\n",
    "\n",
    "fig, ax = plt.subplots()\n",
    "ax.plot(x, y)\n",
    "ax.text(-3, 0.3, 'hello world')\n",
    "ax.annotate('the maximum', xy=(0, 1),\n",
    "             xytext=(0, 0), arrowprops={'facecolor': 'k'})"
   ]
  },
  {
   "cell_type": "markdown",
   "id": "e2d9fc0f-c8d0-4803-b380-ca4dcd190470",
   "metadata": {
    "tags": []
   },
   "source": [
    "## E. Tips"
   ]
  },
  {
   "cell_type": "markdown",
   "id": "7dc7f9a4-3bc1-49d6-b049-025b3eeb2d1e",
   "metadata": {
    "tags": []
   },
   "source": [
    "#### 1. Memanggil method yang tersimpan dalam library\n",
    "\n",
    "Method dapat dipanggil dengan menambahkan `.` kemudian tab keyboard.\n",
    "\n",
    "<div align=\"center\"><img src=\"../img/1_method_call.png\" alt=\"drawing\" width=\"300\"/><br>***</div>"
   ]
  },
  {
   "cell_type": "code",
   "execution_count": null,
   "id": "23f703bb-2ead-40ee-aec1-e685d904e8f1",
   "metadata": {},
   "outputs": [],
   "source": [
    "np."
   ]
  },
  {
   "cell_type": "markdown",
   "id": "23cc079b-1eeb-4526-8f86-6959e5919513",
   "metadata": {
    "tags": []
   },
   "source": [
    "#### 2. Mendapatkan bantuan\n",
    "\n",
    "Bantuan menggunakan command `help` atau `?`."
   ]
  },
  {
   "cell_type": "code",
   "execution_count": 31,
   "id": "543b5e14-44c2-4e42-b499-4dc53eea0a43",
   "metadata": {
    "scrolled": true
   },
   "outputs": [
    {
     "name": "stdout",
     "output_type": "stream",
     "text": [
      "Help on built-in function array in module numpy:\n",
      "\n",
      "array(...)\n",
      "    array(object, dtype=None, *, copy=True, order='K', subok=False, ndmin=0,\n",
      "          like=None)\n",
      "\n",
      "    Create an array.\n",
      "\n",
      "    Parameters\n",
      "    ----------\n",
      "    object : array_like\n",
      "        An array, any object exposing the array interface, an object whose\n",
      "        ``__array__`` method returns an array, or any (nested) sequence.\n",
      "        If object is a scalar, a 0-dimensional array containing object is\n",
      "        returned.\n",
      "    dtype : data-type, optional\n",
      "        The desired data-type for the array. If not given, NumPy will try to use\n",
      "        a default ``dtype`` that can represent the values (by applying promotion\n",
      "        rules when necessary.)\n",
      "    copy : bool, optional\n",
      "        If ``True`` (default), then the array data is copied. If ``None``,\n",
      "        a copy will only be made if ``__array__`` returns a copy, if obj is\n",
      "        a nested sequence, or if a copy is needed to satisfy any of the other\n",
      "        requirements (``dtype``, ``order``, etc.). Note that any copy of\n",
      "        the data is shallow, i.e., for arrays with object dtype, the new\n",
      "        array will point to the same objects. See Examples for `ndarray.copy`.\n",
      "        For ``False`` it raises a ``ValueError`` if a copy cannot be avoided.\n",
      "        Default: ``True``.\n",
      "    order : {'K', 'A', 'C', 'F'}, optional\n",
      "        Specify the memory layout of the array. If object is not an array, the\n",
      "        newly created array will be in C order (row major) unless 'F' is\n",
      "        specified, in which case it will be in Fortran order (column major).\n",
      "        If object is an array the following holds.\n",
      "\n",
      "        ===== ========= ===================================================\n",
      "        order  no copy                     copy=True\n",
      "        ===== ========= ===================================================\n",
      "        'K'   unchanged F & C order preserved, otherwise most similar order\n",
      "        'A'   unchanged F order if input is F and not C, otherwise C order\n",
      "        'C'   C order   C order\n",
      "        'F'   F order   F order\n",
      "        ===== ========= ===================================================\n",
      "\n",
      "        When ``copy=None`` and a copy is made for other reasons, the result is\n",
      "        the same as if ``copy=True``, with some exceptions for 'A', see the\n",
      "        Notes section. The default order is 'K'.\n",
      "    subok : bool, optional\n",
      "        If True, then sub-classes will be passed-through, otherwise\n",
      "        the returned array will be forced to be a base-class array (default).\n",
      "    ndmin : int, optional\n",
      "        Specifies the minimum number of dimensions that the resulting\n",
      "        array should have.  Ones will be prepended to the shape as\n",
      "        needed to meet this requirement.\n",
      "    like : array_like, optional\n",
      "        Reference object to allow the creation of arrays which are not\n",
      "        NumPy arrays. If an array-like passed in as ``like`` supports\n",
      "        the ``__array_function__`` protocol, the result will be defined\n",
      "        by it. In this case, it ensures the creation of an array object\n",
      "        compatible with that passed in via this argument.\n",
      "\n",
      "        .. versionadded:: 1.20.0\n",
      "\n",
      "    Returns\n",
      "    -------\n",
      "    out : ndarray\n",
      "        An array object satisfying the specified requirements.\n",
      "\n",
      "    See Also\n",
      "    --------\n",
      "    empty_like : Return an empty array with shape and type of input.\n",
      "    ones_like : Return an array of ones with shape and type of input.\n",
      "    zeros_like : Return an array of zeros with shape and type of input.\n",
      "    full_like : Return a new array with shape of input filled with value.\n",
      "    empty : Return a new uninitialized array.\n",
      "    ones : Return a new array setting values to one.\n",
      "    zeros : Return a new array setting values to zero.\n",
      "    full : Return a new array of given shape filled with value.\n",
      "    copy: Return an array copy of the given object.\n",
      "\n",
      "\n",
      "    Notes\n",
      "    -----\n",
      "    When order is 'A' and ``object`` is an array in neither 'C' nor 'F' order,\n",
      "    and a copy is forced by a change in dtype, then the order of the result is\n",
      "    not necessarily 'C' as expected. This is likely a bug.\n",
      "\n",
      "    Examples\n",
      "    --------\n",
      "    >>> import numpy as np\n",
      "    >>> np.array([1, 2, 3])\n",
      "    array([1, 2, 3])\n",
      "\n",
      "    Upcasting:\n",
      "\n",
      "    >>> np.array([1, 2, 3.0])\n",
      "    array([ 1.,  2.,  3.])\n",
      "\n",
      "    More than one dimension:\n",
      "\n",
      "    >>> np.array([[1, 2], [3, 4]])\n",
      "    array([[1, 2],\n",
      "           [3, 4]])\n",
      "\n",
      "    Minimum dimensions 2:\n",
      "\n",
      "    >>> np.array([1, 2, 3], ndmin=2)\n",
      "    array([[1, 2, 3]])\n",
      "\n",
      "    Type provided:\n",
      "\n",
      "    >>> np.array([1, 2, 3], dtype=complex)\n",
      "    array([ 1.+0.j,  2.+0.j,  3.+0.j])\n",
      "\n",
      "    Data-type consisting of more than one element:\n",
      "\n",
      "    >>> x = np.array([(1,2),(3,4)],dtype=[('a','<i4'),('b','<i4')])\n",
      "    >>> x['a']\n",
      "    array([1, 3], dtype=int32)\n",
      "\n",
      "    Creating an array from sub-classes:\n",
      "\n",
      "    >>> np.array(np.asmatrix('1 2; 3 4'))\n",
      "    array([[1, 2],\n",
      "           [3, 4]])\n",
      "\n",
      "    >>> np.array(np.asmatrix('1 2; 3 4'), subok=True)\n",
      "    matrix([[1, 2],\n",
      "            [3, 4]])\n",
      "\n"
     ]
    }
   ],
   "source": [
    "help(np.array)"
   ]
  },
  {
   "cell_type": "code",
   "execution_count": 33,
   "id": "b3daba4b-a73e-4d38-b441-457938404409",
   "metadata": {
    "scrolled": true,
    "tags": []
   },
   "outputs": [
    {
     "data": {
      "text/plain": [
       "\u001b[31mType:\u001b[39m        module\n",
       "\u001b[31mString form:\u001b[39m <module 'numpy' from '/home/tyo/miniconda3/envs/ofs/lib/python3.13/site-packages/numpy/__init__.py'>\n",
       "\u001b[31mFile:\u001b[39m        ~/miniconda3/envs/ofs/lib/python3.13/site-packages/numpy/__init__.py\n",
       "\u001b[31mDocstring:\u001b[39m  \n",
       "NumPy\n",
       "=====\n",
       "\n",
       "Provides\n",
       "  1. An array object of arbitrary homogeneous items\n",
       "  2. Fast mathematical operations over arrays\n",
       "  3. Linear Algebra, Fourier Transforms, Random Number Generation\n",
       "\n",
       "How to use the documentation\n",
       "----------------------------\n",
       "Documentation is available in two forms: docstrings provided\n",
       "with the code, and a loose standing reference guide, available from\n",
       "`the NumPy homepage <https://numpy.org>`_.\n",
       "\n",
       "We recommend exploring the docstrings using\n",
       "`IPython <https://ipython.org>`_, an advanced Python shell with\n",
       "TAB-completion and introspection capabilities.  See below for further\n",
       "instructions.\n",
       "\n",
       "The docstring examples assume that `numpy` has been imported as ``np``::\n",
       "\n",
       "  >>> import numpy as np\n",
       "\n",
       "Code snippets are indicated by three greater-than signs::\n",
       "\n",
       "  >>> x = 42\n",
       "  >>> x = x + 1\n",
       "\n",
       "Use the built-in ``help`` function to view a function's docstring::\n",
       "\n",
       "  >>> help(np.sort)\n",
       "  ... # doctest: +SKIP\n",
       "\n",
       "For some objects, ``np.info(obj)`` may provide additional help.  This is\n",
       "particularly true if you see the line \"Help on ufunc object:\" at the top\n",
       "of the help() page.  Ufuncs are implemented in C, not Python, for speed.\n",
       "The native Python help() does not know how to view their help, but our\n",
       "np.info() function does.\n",
       "\n",
       "Available subpackages\n",
       "---------------------\n",
       "lib\n",
       "    Basic functions used by several sub-packages.\n",
       "random\n",
       "    Core Random Tools\n",
       "linalg\n",
       "    Core Linear Algebra Tools\n",
       "fft\n",
       "    Core FFT routines\n",
       "polynomial\n",
       "    Polynomial tools\n",
       "testing\n",
       "    NumPy testing tools\n",
       "distutils\n",
       "    Enhancements to distutils with support for\n",
       "    Fortran compilers support and more (for Python <= 3.11)\n",
       "\n",
       "Utilities\n",
       "---------\n",
       "test\n",
       "    Run numpy unittests\n",
       "show_config\n",
       "    Show numpy build configuration\n",
       "__version__\n",
       "    NumPy version string\n",
       "\n",
       "Viewing documentation using IPython\n",
       "-----------------------------------\n",
       "\n",
       "Start IPython and import `numpy` usually under the alias ``np``: `import\n",
       "numpy as np`.  Then, directly past or use the ``%cpaste`` magic to paste\n",
       "examples into the shell.  To see which functions are available in `numpy`,\n",
       "type ``np.<TAB>`` (where ``<TAB>`` refers to the TAB key), or use\n",
       "``np.*cos*?<ENTER>`` (where ``<ENTER>`` refers to the ENTER key) to narrow\n",
       "down the list.  To view the docstring for a function, use\n",
       "``np.cos?<ENTER>`` (to view the docstring) and ``np.cos??<ENTER>`` (to view\n",
       "the source code).\n",
       "\n",
       "Copies vs. in-place operation\n",
       "-----------------------------\n",
       "Most of the functions in `numpy` return a copy of the array argument\n",
       "(e.g., `np.sort`).  In-place versions of these functions are often\n",
       "available as array methods, i.e. ``x = np.array([1,2,3]); x.sort()``.\n",
       "Exceptions to this rule are documented."
      ]
     },
     "metadata": {},
     "output_type": "display_data"
    }
   ],
   "source": [
    "# atau menggunakan ?\n",
    "np?"
   ]
  },
  {
   "cell_type": "code",
   "execution_count": null,
   "id": "efb46d11-3405-4a74-96ab-76a98c5b9cba",
   "metadata": {},
   "outputs": [],
   "source": []
  }
 ],
 "metadata": {
  "kernelspec": {
   "display_name": "Python (OFS)",
   "language": "python",
   "name": "ofs"
  },
  "language_info": {
   "codemirror_mode": {
    "name": "ipython",
    "version": 3
   },
   "file_extension": ".py",
   "mimetype": "text/x-python",
   "name": "python",
   "nbconvert_exporter": "python",
   "pygments_lexer": "ipython3",
   "version": "3.13.3"
  }
 },
 "nbformat": 4,
 "nbformat_minor": 5
}
