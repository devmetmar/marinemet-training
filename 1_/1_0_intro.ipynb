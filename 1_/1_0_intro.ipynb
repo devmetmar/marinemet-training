{
 "cells": [
  {
   "cell_type": "markdown",
   "id": "3e0cd742-7971-4701-a982-ee5006403e71",
   "metadata": {
    "tags": []
   },
   "source": [
    "# Pengenalan bahasa pemrograman python untuk pengolahan data meteorologi maritim\n",
    "\n",
    "Penyusun: Tim Teknis Direktorat Meteorologi Maritim\n",
    "\n",
    "Kontak: suwignyo.prasetyo@bmkg.go.id\n",
    "\n",
    "---\n",
    "\n",
    "### Deskripsi Mata Pelatihan\n",
    "Mata pelatihan ini dirancang untuk memperkenalkan peserta pada dasar-dasar pemrograman Python dan library yang relevan untuk pengolahan data meteorologi maritim. Peserta akan belajar mengenai cara membaca, memproses, memanipulasi, dan memvisualisasikan data menggunakan Python.\n",
    "\n",
    "---\n",
    "\n",
    "### Kompetensi\n",
    "Peserta pelatihan diharapkan dapat:\n",
    "1. Memahami dasar-dasar pemrograman [Python](https://www.python.org/about/gettingstarted/), [package manager](https://docs.conda.io/projects/conda/en/stable/user-guide/getting-started.html), dan [IDE (Integrated Development Environment)](https://jupyterlab.readthedocs.io/en/latest/)\n",
    "2. Menggunakan library Python seperti [NumPy](https://numpy.org/doc/stable/user/quickstart.html), [Pandas](https://pandas.pydata.org/docs/getting_started/intro_tutorials/01_table_oriented.html), dan [Matplotlib](https://matplotlib.org/stable/users/explain/quick_start.html) untuk pengolahan data.\n",
    "3. Membaca, membersihkan, dan memanipulasi data meteorologi maritim.\n",
    "4. Memvisualisasikan data meteorologi maritim dalam bentuk grafik dan plot sederhana.\n",
    "\n",
    "---\n",
    "\n",
    "### Idikator keberhasilan\n",
    "1. Peserta dapat memahami pengoperasian python sebagai bahasa pemrograman dan conda sebagai package manager.\n",
    "2. Peserta dapat memahami pengoperasian Jupyterlab sebagai IDE secara tepat.\n",
    "3. Peserta dapat menjelaskan sintaks dasar Python (variabel, tipe data, operator, dan struktur kontrol).\n",
    "4. Peserta dapat membaca data dari file CSV, Excel, atau format tabular lainnya menggunakan Pandas.\n",
    "5. Peserta dapat membersihkan data (handling missing value dan filtering) dan memanipulasi data tabular (sorting, grouping, dan agregasi).\n",
    "6. Peserta dapat membuat visualisasi data sederhana (line plot, scatter plot, histogram) menggunakan Matplotlib.\n",
    "\n",
    "---"
   ]
  }
 ],
 "metadata": {
  "kernelspec": {
   "display_name": "jupyterbook",
   "language": "python",
   "name": "python3"
  },
  "language_info": {
   "codemirror_mode": {
    "name": "ipython",
    "version": 3
   },
   "file_extension": ".py",
   "mimetype": "text/x-python",
   "name": "python",
   "nbconvert_exporter": "python",
   "pygments_lexer": "ipython3",
   "version": "3.13.2"
  }
 },
 "nbformat": 4,
 "nbformat_minor": 5
}
